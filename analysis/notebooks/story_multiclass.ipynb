{
 "cells": [
  {
   "cell_type": "markdown",
   "metadata": {},
   "source": [
    "# **STORY MULTICLASS**"
   ]
  },
  {
   "cell_type": "markdown",
   "metadata": {},
   "source": [
    "## **Preliminary steps**"
   ]
  },
  {
   "cell_type": "code",
   "execution_count": 1,
   "metadata": {},
   "outputs": [],
   "source": [
    "### PACKAGES\n",
    "\n",
    "import matplotlib.pyplot as plt\n",
    "import numpy as np\n",
    "import pandas as pd\n",
    "import shap"
   ]
  },
  {
   "cell_type": "code",
   "execution_count": 2,
   "metadata": {},
   "outputs": [],
   "source": [
    "### FUNCTIONS\n",
    "\n",
    "from src.configs import constants, ml_config, names\n",
    "from src.libs import preprocessing, evaluation, visualization\n",
    "from src.embedding.tf_idf import TfIdfEmbedding\n",
    "from src.embedding.punctuation import PunctuationEmbedding\n",
    "from src.classifier.classifier import LightGBMClassifier, RFClassifier, NBClassifier"
   ]
  },
  {
   "cell_type": "markdown",
   "metadata": {},
   "source": [
    "## **DATA**"
   ]
  },
  {
   "cell_type": "code",
   "execution_count": 3,
   "metadata": {},
   "outputs": [
    {
     "name": "stdout",
     "output_type": "stream",
     "text": [
      "Time taken to load dataset: 0.03226757049560547 seconds\n",
      "Time taken to load dataset: 0.018144607543945312 seconds\n",
      "Time taken to load dataset: 0.48070240020751953 seconds\n",
      "Time taken to load dataset: 0.01767444610595703 seconds\n",
      "Time taken to load dataset: 0.014076471328735352 seconds\n",
      "Time taken to load dataset: 0.11050987243652344 seconds\n",
      "Time taken to load dataset: 0.01871967315673828 seconds\n",
      "Time taken to load dataset: 0.015906095504760742 seconds\n",
      "Time taken to load dataset: 0.013532161712646484 seconds\n"
     ]
    }
   ],
   "source": [
    "### LOAD DATA\n",
    "\n",
    "df_poetry_gpt = preprocessing.load_dataset(source=\"GPT\", type=\"POETRY\")\n",
    "df_poetry_bard = preprocessing.load_dataset(source=\"BARD\", type=\"POETRY\")\n",
    "df_poetry_human = preprocessing.load_dataset(source=\"Human\", type=\"POETRY\")\n",
    "\n",
    "df_essay_gpt = preprocessing.load_dataset(source=\"GPT\", type=\"ESSAY\")\n",
    "df_essay_bard = preprocessing.load_dataset(source=\"BARD\", type=\"ESSAY\")\n",
    "df_essay_human = preprocessing.load_dataset(source=\"Human\", type=\"ESSAY\")\n",
    "\n",
    "df_story_gpt = preprocessing.load_dataset(source=\"GPT\", type=\"STORY\")\n",
    "df_story_bard = preprocessing.load_dataset(source=\"BARD\", type=\"STORY\")\n",
    "df_story_human = preprocessing.load_dataset(source=\"Human\", type=\"STORY\")"
   ]
  },
  {
   "cell_type": "code",
   "execution_count": 4,
   "metadata": {},
   "outputs": [],
   "source": [
    "### GET TRAIN SPLIT\n",
    "\n",
    "df_train_poetry_gpt, df_test_poetry_gpt = preprocessing.train_valid_split(df_poetry_gpt)\n",
    "df_train_poetry_bard, df_test_poetry_bard = preprocessing.train_valid_split(\n",
    "    df_poetry_bard\n",
    ")\n",
    "df_train_poetry_human, df_test_poetry_human = preprocessing.train_valid_split(\n",
    "    df_poetry_human\n",
    ")\n",
    "\n",
    "df_train_essay_gpt, df_test_essay_gpt = preprocessing.train_valid_split(df_essay_gpt)\n",
    "df_train_essay_bard, df_test_essay_bard = preprocessing.train_valid_split(df_essay_bard)\n",
    "df_train_essay_human, df_test_essay_human = preprocessing.train_valid_split(\n",
    "    df_essay_human\n",
    ")\n",
    "\n",
    "df_train_story_gpt, df_test_story_gpt = preprocessing.train_valid_split(df_story_gpt)\n",
    "df_train_story_bard, df_test_story_bard = preprocessing.train_valid_split(df_story_bard)\n",
    "df_train_story_human, df_test_story_human = preprocessing.train_valid_split(\n",
    "    df_story_human\n",
    ")"
   ]
  },
  {
   "cell_type": "code",
   "execution_count": 5,
   "metadata": {},
   "outputs": [],
   "source": [
    "### GET FULL DATASETS\n",
    "\n",
    "df_train_story = preprocessing.get_story_dataset(\n",
    "    df_train_story_gpt,\n",
    "    df_train_story_bard,\n",
    "    df_train_story_human,\n",
    "    samples_per_source=min(\n",
    "        len(df_train_story_gpt), len(df_train_story_bard), len(df_train_story_human)\n",
    "    ),\n",
    ")\n",
    "df_test_story = preprocessing.get_story_dataset(\n",
    "    df_test_story_gpt,\n",
    "    df_test_story_bard,\n",
    "    df_test_story_human,\n",
    "    samples_per_source=None,\n",
    ")\n",
    "\n",
    "df_test_essay = preprocessing.get_essay_dataset(\n",
    "    df_test_essay_gpt, df_test_essay_bard, df_test_essay_human, samples_per_source=None\n",
    ")\n",
    "\n",
    "df_test_poetry = preprocessing.get_poetry_dataset(\n",
    "    df_test_poetry_gpt,\n",
    "    df_test_poetry_bard,\n",
    "    df_test_poetry_human,\n",
    "    samples_per_source=None,\n",
    ")"
   ]
  },
  {
   "cell_type": "code",
   "execution_count": 6,
   "metadata": {},
   "outputs": [],
   "source": [
    "### SPLIT FEATURES AND LABELS\n",
    "\n",
    "X_train_story, y_train_story = preprocessing.split_features_and_labels(df_train_story)\n",
    "X_test_story, y_test_story = preprocessing.split_features_and_labels(df_test_story)\n",
    "X_test_essay, y_test_essay = preprocessing.split_features_and_labels(df_test_essay)\n",
    "X_test_poetry, y_test_poetry = preprocessing.split_features_and_labels(df_test_poetry)"
   ]
  },
  {
   "cell_type": "markdown",
   "metadata": {},
   "source": [
    "## **CLASSIFICATION USING PUNCTUATION & RANDOM FOREST**"
   ]
  },
  {
   "cell_type": "code",
   "execution_count": 7,
   "metadata": {},
   "outputs": [],
   "source": [
    "ID_EXPERIMENT = 211"
   ]
  },
  {
   "cell_type": "code",
   "execution_count": 8,
   "metadata": {},
   "outputs": [],
   "source": [
    "### EMBEDDING\n",
    "\n",
    "embedding_211 = PunctuationEmbedding(ID_EXPERIMENT)\n",
    "\n",
    "X_train_story_211 = embedding_211.transform(X=X_train_story)\n",
    "X_test_story_211 = embedding_211.transform(X=X_test_story)\n",
    "X_test_essay_211 = embedding_211.transform(X=X_test_essay)\n",
    "X_test_poetry_211 = embedding_211.transform(X=X_test_poetry)"
   ]
  },
  {
   "cell_type": "code",
   "execution_count": 9,
   "metadata": {},
   "outputs": [
    {
     "name": "stdout",
     "output_type": "stream",
     "text": [
      "Metrics on story: {'accuracy': 0.7818181818181819, 'precision': 0.7111111111111111, 'recall': 0.7111111111111111, 'f1': 0.7111111111111111}\n",
      "Metrics on essay: {'accuracy': 0.4280442804428044, 'precision': 0.3356676003734827, 'recall': 0.3817813765182186, 'f1': 0.24581884417949992}\n",
      "Metrics on poetry: {'accuracy': 0.6676136363636364, 'precision': 0.34173619322909826, 'recall': 0.45090469279148526, 'f1': 0.29316342093653497}\n"
     ]
    }
   ],
   "source": [
    "### CLASSIFIER\n",
    "\n",
    "classifier_211 = LightGBMClassifier(ID_EXPERIMENT)\n",
    "\n",
    "classifier_211.train(X_train=X_train_story_211, y_train=y_train_story)\n",
    "\n",
    "metrics_story_211 = classifier_211.evaluate(X_test_story_211, y_test_story)\n",
    "metrics_essay_211 = classifier_211.evaluate(X_test_essay_211, y_test_essay)\n",
    "metrics_poetry_211 = classifier_211.evaluate(X_test_poetry_211, y_test_poetry)\n",
    "\n",
    "print(f\"Metrics on story: {metrics_story_211}\")\n",
    "print(f\"Metrics on essay: {metrics_essay_211}\")\n",
    "print(f\"Metrics on poetry: {metrics_poetry_211}\")"
   ]
  },
  {
   "cell_type": "code",
   "execution_count": 10,
   "metadata": {},
   "outputs": [
    {
     "name": "stdout",
     "output_type": "stream",
     "text": [
      "ratio_words_per_sentence: 1233\n",
      "ratio_punctuations: 999\n",
      "ratio_odd_characters: 801\n"
     ]
    }
   ],
   "source": [
    "### INTERPRETABILITY - FEATURE IMPORTANCE\n",
    "\n",
    "dim_names_211 = embedding_211.map_dimensions_to_names()\n",
    "feature_importances_211 = classifier_211.get_feature_importance()\n",
    "most_important_features_211 = np.argsort(feature_importances_211)[-10:][::-1]\n",
    "for i in most_important_features_211:\n",
    "    print(f\"{dim_names_211[i]}: {feature_importances_211[i]}\")"
   ]
  },
  {
   "cell_type": "code",
   "execution_count": 11,
   "metadata": {},
   "outputs": [
    {
     "data": {
      "image/png": "[encoded data removed]",
      "text/plain": [
       "<Figure size 800x270 with 1 Axes>"
      ]
     },
     "metadata": {},
     "output_type": "display_data"
    }
   ],
   "source": [
    "### INTERPRETABILITY - SHAP VALUES\n",
    "\n",
    "explainer_211 = shap.Explainer(classifier_211.classifier)\n",
    "\n",
    "if hasattr(X_test_story_211, \"toarray\"):\n",
    "    X_test_story_211 = X_test_story_211.toarray()\n",
    "\n",
    "# Calculate SHAP values\n",
    "shap_values_211 = explainer_211(X_test_story_211)\n",
    "\n",
    "# Visualize the SHAP values\n",
    "shap.summary_plot(shap_values_211, X_test_story_211, feature_names=dim_names_211)"
   ]
  },
  {
   "cell_type": "markdown",
   "metadata": {},
   "source": [
    "## **CLASSIFICATION USING TF-IDF & LGBM**"
   ]
  },
  {
   "cell_type": "code",
   "execution_count": 12,
   "metadata": {},
   "outputs": [],
   "source": [
    "ID_EXPERIMENT = 111"
   ]
  },
  {
   "cell_type": "code",
   "execution_count": 13,
   "metadata": {},
   "outputs": [],
   "source": [
    "### EMBEDDING\n",
    "\n",
    "embedding_111 = TfIdfEmbedding(ID_EXPERIMENT)\n",
    "\n",
    "embedding_111.fit(X=X_train_story)\n",
    "\n",
    "X_train_story_111 = embedding_111.transform(X=X_train_story)\n",
    "X_test_story_111 = embedding_111.transform(X=X_test_story)\n",
    "X_test_essay_111 = embedding_111.transform(X=X_test_essay)\n",
    "X_test_poetry_111 = embedding_111.transform(X=X_test_poetry)"
   ]
  },
  {
   "cell_type": "code",
   "execution_count": 14,
   "metadata": {},
   "outputs": [
    {
     "name": "stdout",
     "output_type": "stream",
     "text": [
      "Metrics on story: {'accuracy': 0.8545454545454545, 'precision': 0.7809139784946236, 'recall': 0.7666666666666666, 'f1': 0.7711185537732339}\n",
      "Metrics on essay: {'accuracy': 0.7822878228782287, 'precision': 0.3336842105263158, 'recall': 0.3167341430499325, 'f1': 0.3243664717348928}\n",
      "Metrics on poetry: {'accuracy': 0.7798295454545454, 'precision': 0.3353229656642531, 'recall': 0.35724238026124816, 'f1': 0.3076971598315102}\n"
     ]
    }
   ],
   "source": [
    "### CLASSIFIER\n",
    "\n",
    "classifier_111 = LightGBMClassifier(ID_EXPERIMENT)\n",
    "\n",
    "classifier_111.train(X_train=X_train_story_111, y_train=y_train_story)\n",
    "\n",
    "metrics_story_111 = classifier_111.evaluate(X_test_story_111, y_test_story)\n",
    "metrics_essay_111 = classifier_111.evaluate(X_test_essay_111, y_test_essay)\n",
    "metrics_poetry_111 = classifier_111.evaluate(X_test_poetry_111, y_test_poetry)\n",
    "\n",
    "print(f\"Metrics on story: {metrics_story_111}\")\n",
    "print(f\"Metrics on essay: {metrics_essay_111}\")\n",
    "print(f\"Metrics on poetry: {metrics_poetry_111}\")"
   ]
  },
  {
   "cell_type": "code",
   "execution_count": 15,
   "metadata": {},
   "outputs": [
    {
     "name": "stdout",
     "output_type": "stream",
     "text": [
      "world: 236\n",
      "day: 143\n",
      "use: 124\n",
      "like: 111\n",
      "couldn: 88\n",
      "just: 83\n",
      "place: 79\n",
      "heart: 76\n",
      "don: 74\n",
      "story: 73\n"
     ]
    }
   ],
   "source": [
    "### INTERPRETABILITY - FEATURE IMPORTANCE\n",
    "\n",
    "dim_names_111 = embedding_111.map_dimensions_to_names()\n",
    "feature_importances_111 = classifier_111.get_feature_importance()\n",
    "most_important_features_111 = np.argsort(feature_importances_111)[-10:][::-1]\n",
    "for i in most_important_features_111:\n",
    "    print(f\"{dim_names_111[i]}: {feature_importances_111[i]}\")"
   ]
  },
  {
   "cell_type": "code",
   "execution_count": 16,
   "metadata": {},
   "outputs": [
    {
     "data": {
      "image/png": "[encoded data removed]",
      "text/plain": [
       "<Figure size 800x950 with 1 Axes>"
      ]
     },
     "metadata": {},
     "output_type": "display_data"
    }
   ],
   "source": [
    "### INTERPRETABILITY - SHAP VALUES\n",
    "\n",
    "explainer_111 = shap.Explainer(classifier_111.classifier)\n",
    "\n",
    "if hasattr(X_test_story_111, \"toarray\"):\n",
    "    X_test_story_111 = X_test_story_111.toarray()\n",
    "\n",
    "# Calculate SHAP values\n",
    "shap_values_111 = explainer_111(X_test_story_111)\n",
    "\n",
    "\n",
    "# Visualize the SHAP values\n",
    "shap.summary_plot(shap_values_111, X_test_story_111, feature_names=dim_names_111)"
   ]
  },
  {
   "cell_type": "markdown",
   "metadata": {},
   "source": [
    "## **CLASSIFICATION USING TF-IDF & RANDOM FOREST**"
   ]
  },
  {
   "cell_type": "code",
   "execution_count": 17,
   "metadata": {},
   "outputs": [],
   "source": [
    "ID_EXPERIMENT = 121"
   ]
  },
  {
   "cell_type": "code",
   "execution_count": 18,
   "metadata": {},
   "outputs": [],
   "source": [
    "### EMBEDDING\n",
    "\n",
    "embedding_121 = TfIdfEmbedding(ID_EXPERIMENT)\n",
    "\n",
    "embedding_121.fit(X=X_train_story)\n",
    "\n",
    "X_train_story_121 = embedding_121.transform(X=X_train_story)\n",
    "X_test_story_121 = embedding_121.transform(X=X_test_story)\n",
    "X_test_essay_121 = embedding_121.transform(X=X_test_essay)\n",
    "X_test_poetry_121 = embedding_121.transform(X=X_test_poetry)"
   ]
  },
  {
   "cell_type": "code",
   "execution_count": 19,
   "metadata": {},
   "outputs": [
    {
     "name": "stdout",
     "output_type": "stream",
     "text": [
      "Metrics on story: {'accuracy': 0.9090909090909091, 'precision': 0.8783068783068783, 'recall': 0.8444444444444444, 'f1': 0.8514557338086751}\n",
      "Metrics on essay: {'accuracy': 0.8819188191881919, 'precision': 0.3052362707535121, 'recall': 0.3225371120107962, 'f1': 0.3136482939632546}\n",
      "Metrics on poetry: {'accuracy': 0.9453125, 'precision': 0.33370685791125054, 'recall': 0.33505563618771167, 'f1': 0.33346374543557644}\n"
     ]
    }
   ],
   "source": [
    "### CLASSIFIER\n",
    "\n",
    "classifier_121 = RFClassifier(ID_EXPERIMENT)\n",
    "\n",
    "classifier_121.train(X_train=X_train_story_121, y_train=y_train_story)\n",
    "\n",
    "metrics_story_121 = classifier_121.evaluate(X_test_story_121, y_test_story)\n",
    "metrics_essay_121 = classifier_121.evaluate(X_test_essay_121, y_test_essay)\n",
    "metrics_poetry_121 = classifier_121.evaluate(X_test_poetry_121, y_test_poetry)\n",
    "\n",
    "print(f\"Metrics on story: {metrics_story_121}\")\n",
    "print(f\"Metrics on essay: {metrics_essay_121}\")\n",
    "print(f\"Metrics on poetry: {metrics_poetry_121}\")"
   ]
  },
  {
   "cell_type": "markdown",
   "metadata": {},
   "source": [
    "## **CLASSIFICATION USING TF-IDF & NAIVE BAYES**"
   ]
  },
  {
   "cell_type": "code",
   "execution_count": 20,
   "metadata": {},
   "outputs": [],
   "source": [
    "ID_EXPERIMENT = 131"
   ]
  },
  {
   "cell_type": "code",
   "execution_count": 21,
   "metadata": {},
   "outputs": [],
   "source": [
    "### EMBEDDING\n",
    "\n",
    "embedding_131 = TfIdfEmbedding(ID_EXPERIMENT)\n",
    "\n",
    "embedding_131.fit(X=X_train_story)\n",
    "\n",
    "X_train_story_131 = embedding_131.transform(X=X_train_story)\n",
    "X_test_story_131 = embedding_131.transform(X=X_test_story)\n",
    "X_test_essay_131 = embedding_131.transform(X=X_test_essay)\n",
    "X_test_poetry_131 = embedding_131.transform(X=X_test_poetry)"
   ]
  },
  {
   "cell_type": "code",
   "execution_count": 22,
   "metadata": {},
   "outputs": [
    {
     "name": "stdout",
     "output_type": "stream",
     "text": [
      "Metrics on story: {'accuracy': 0.8181818181818182, 'precision': 0.8692185007974483, 'recall': 0.7333333333333334, 'f1': 0.7748868778280542}\n",
      "Metrics on essay: {'accuracy': 0.8081180811808119, 'precision': 0.35802469135802467, 'recall': 0.6234817813765182, 'f1': 0.3562223217395631}\n",
      "Metrics on poetry: {'accuracy': 0.27201704545454547, 'precision': 0.3349641226353555, 'recall': 0.424770198355104, 'f1': 0.14675367211337917}\n"
     ]
    }
   ],
   "source": [
    "### CLASSIFIER\n",
    "\n",
    "classifier_131 = NBClassifier(ID_EXPERIMENT)\n",
    "\n",
    "classifier_131.train(X_train=X_train_story_131, y_train=y_train_story)\n",
    "\n",
    "metrics_story_131 = classifier_131.evaluate(X_test_story_131, y_test_story)\n",
    "metrics_essay_131 = classifier_131.evaluate(X_test_essay_131, y_test_essay)\n",
    "metrics_poetry_131 = classifier_131.evaluate(X_test_poetry_131, y_test_poetry)\n",
    "\n",
    "print(f\"Metrics on story: {metrics_story_131}\")\n",
    "print(f\"Metrics on essay: {metrics_essay_131}\")\n",
    "print(f\"Metrics on poetry: {metrics_poetry_131}\")"
   ]
  },
  {
   "cell_type": "code",
   "execution_count": null,
   "metadata": {},
   "outputs": [],
   "source": []
  }
 ],
 "metadata": {
  "kernelspec": {
   "display_name": "py310-all",
   "language": "python",
   "name": "python3"
  },
  "language_info": {
   "codemirror_mode": {
    "name": "ipython",
    "version": 3
   },
   "file_extension": ".py",
   "mimetype": "text/x-python",
   "name": "python",
   "nbconvert_exporter": "python",
   "pygments_lexer": "ipython3",
   "version": "3.10.0"
  }
 },
 "nbformat": 4,
 "nbformat_minor": 2
}
