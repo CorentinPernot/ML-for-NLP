{
 "cells": [
  {
   "cell_type": "markdown",
   "metadata": {},
   "source": [
    "# **FULL DATASET BINARY**\n",
    "\n",
    "### **Preliminary steps**"
   ]
  },
  {
   "cell_type": "code",
   "execution_count": 1,
   "metadata": {},
   "outputs": [
    {
     "name": "stdout",
     "output_type": "stream",
     "text": [
      "/Users/Corentin/Desktop/ENSAE 2024-2025/S2/NLP/final project /ml-for-nlp/analysis/notebooks\n",
      "/Users/Corentin/Desktop/ENSAE 2024-2025/S2/NLP/final project /ml-for-nlp\n"
     ]
    }
   ],
   "source": [
    "import os \n",
    "print(os.getcwd())\n",
    "os.chdir('../..')\n",
    "print(os.getcwd())"
   ]
  },
  {
   "cell_type": "code",
   "execution_count": 149,
   "metadata": {},
   "outputs": [],
   "source": [
    "### PACKAGES\n",
    "import matplotlib.pyplot as plt\n",
    "import numpy as np\n",
    "import pandas as pd\n",
    "import shap\n",
    "from sklearn.metrics import accuracy_score, f1_score, precision_score, recall_score, confusion_matrix\n",
    "from sklearn.ensemble import RandomForestClassifier\n",
    "from sklearn.model_selection import RandomizedSearchCV\n",
    "from scipy.stats import randint\n",
    "from sklearn.feature_extraction.text import TfidfVectorizer\n",
    "from sklearn.naive_bayes import MultinomialNB"
   ]
  },
  {
   "cell_type": "code",
   "execution_count": 150,
   "metadata": {},
   "outputs": [],
   "source": [
    "### FUNCTIONS\n",
    "\n",
    "from src.configs import constants, ml_config, names\n",
    "from src.libs import preprocessing, evaluation, visualization"
   ]
  },
  {
   "cell_type": "code",
   "execution_count": 151,
   "metadata": {},
   "outputs": [
    {
     "data": {
      "text/plain": [
       "<module 'src.libs.preprocessing' from '/Users/Corentin/Desktop/ENSAE 2024-2025/S2/NLP/final project /ml-for-nlp/src/libs/preprocessing.py'>"
      ]
     },
     "execution_count": 151,
     "metadata": {},
     "output_type": "execute_result"
    }
   ],
   "source": [
    "import importlib\n",
    "importlib.reload(preprocessing)"
   ]
  },
  {
   "cell_type": "code",
   "execution_count": 152,
   "metadata": {},
   "outputs": [
    {
     "name": "stdout",
     "output_type": "stream",
     "text": [
      "Time taken to load dataset: 0.030750036239624023 seconds\n",
      "Time taken to load dataset: 0.009341001510620117 seconds\n",
      "Time taken to load dataset: 0.3131837844848633 seconds\n",
      "Time taken to load dataset: 0.009473085403442383 seconds\n",
      "Time taken to load dataset: 0.036267995834350586 seconds\n",
      "Time taken to load dataset: 0.09334301948547363 seconds\n",
      "Time taken to load dataset: 0.01294088363647461 seconds\n",
      "Time taken to load dataset: 0.01282811164855957 seconds\n",
      "Time taken to load dataset: 0.01211404800415039 seconds\n"
     ]
    }
   ],
   "source": [
    "### LOAD DATA\n",
    "\n",
    "df_poetry_gpt = preprocessing.load_dataset(source=\"GPT\", type=\"POETRY\")\n",
    "df_poetry_bard = preprocessing.load_dataset(source=\"BARD\", type=\"POETRY\")\n",
    "df_poetry_human = preprocessing.load_dataset(source=\"Human\", type=\"POETRY\")\n",
    "\n",
    "df_essay_gpt = preprocessing.load_dataset(source=\"GPT\", type=\"ESSAY\")\n",
    "df_essay_bard = preprocessing.load_dataset(source=\"BARD\", type=\"ESSAY\")\n",
    "df_essay_human = preprocessing.load_dataset(source=\"Human\", type=\"ESSAY\")\n",
    "\n",
    "df_story_gpt = preprocessing.load_dataset(source=\"GPT\", type=\"STORY\")\n",
    "df_story_bard = preprocessing.load_dataset(source=\"BARD\", type=\"STORY\")\n",
    "df_story_human = preprocessing.load_dataset(source=\"Human\", type=\"STORY\")"
   ]
  },
  {
   "cell_type": "code",
   "execution_count": 153,
   "metadata": {},
   "outputs": [],
   "source": [
    "### GROUPED LLM \n",
    "df_poetry = preprocessing.get_poetry_dataset(\n",
    "        df_poetry_gpt,\n",
    "        df_poetry_bard,\n",
    "        df_poetry_human,\n",
    "        samples_per_source=min(\n",
    "            len(df_poetry_gpt),\n",
    "            len(df_poetry_bard),\n",
    "            len(df_poetry_human),\n",
    "        ),\n",
    "    )\n",
    "\n",
    "df_essay = preprocessing.get_essay_dataset(\n",
    "        df_essay_gpt,\n",
    "        df_essay_bard,\n",
    "        df_essay_human,\n",
    "        samples_per_source=min(\n",
    "            len(df_essay_gpt), len(df_essay_bard), len(df_essay_human)\n",
    "        ),\n",
    "    )\n",
    "\n",
    "df_story = preprocessing.get_story_dataset(\n",
    "        df_story_gpt,\n",
    "        df_story_bard,\n",
    "        df_story_human,\n",
    "        samples_per_source=min(\n",
    "            len(df_story_gpt), len(df_story_bard), len(df_story_human)\n",
    "        ),\n",
    "    )\n",
    "\n",
    "\n",
    "# ### GROUPED LLM \n",
    "# df_poetry = preprocessing.get_poetry_dataset(\n",
    "#         df_poetry_gpt,\n",
    "#         df_poetry_bard,\n",
    "#         df_poetry_human,\n",
    "#         samples_per_source=None,\n",
    "#     )\n",
    "\n",
    "# df_essay = preprocessing.get_essay_dataset(\n",
    "#         df_essay_gpt,\n",
    "#         df_essay_bard,\n",
    "#         df_essay_human,\n",
    "#         samples_per_source=None,\n",
    "#     )\n",
    "\n",
    "# df_story = preprocessing.get_story_dataset(\n",
    "#         df_story_gpt,\n",
    "#         df_story_bard,\n",
    "#         df_story_human,\n",
    "#         samples_per_source=None,\n",
    "#     )\n",
    "\n"
   ]
  },
  {
   "cell_type": "code",
   "execution_count": 154,
   "metadata": {},
   "outputs": [],
   "source": [
    "def group_llm(df):\n",
    "    df[\"origin\"] = df[\"label\"]\n",
    "    df[\"label\"] = (df[\"label\"] > 0).astype(int)\n",
    "    return df"
   ]
  },
  {
   "cell_type": "code",
   "execution_count": 155,
   "metadata": {},
   "outputs": [],
   "source": [
    "### GROUP \n",
    "df_poetry = group_llm(df_poetry)\n",
    "df_essay = group_llm(df_essay)\n",
    "df_story = group_llm(df_story)"
   ]
  },
  {
   "cell_type": "code",
   "execution_count": 156,
   "metadata": {},
   "outputs": [],
   "source": [
    "### GET TRAIN SPLIT\n",
    "\n",
    "df_train_poetry, df_test_poetry = preprocessing.train_valid_split(df_poetry)\n",
    "df_train_essay, df_test_essay = preprocessing.train_valid_split(df_essay)\n",
    "df_train_story, df_test_story = preprocessing.train_valid_split(df_story)\n",
    "\n",
    "df_train_poetry_gpt, df_test_poetry_gpt = df_train_poetry[df_train_poetry.label==1].copy(), df_test_poetry[df_test_poetry.label==1].copy()\n",
    "df_train_poetry_bard, df_test_poetry_bard = df_train_poetry[df_train_poetry.label==2].copy(), df_test_poetry[df_test_poetry.label==2].copy()\n",
    "df_train_poetry_human, df_test_poetry_human = df_train_poetry[df_train_poetry.label==0].copy(), df_test_poetry[df_test_poetry.label==0].copy()\n",
    "\n",
    "\n",
    "df_train_story_gpt, df_test_story_gpt = df_train_story[df_train_story.label==1].copy(), df_test_story[df_test_story.label==1].copy()\n",
    "df_train_story_bard, df_test_story_bard = df_train_story[df_train_story.label==2].copy(), df_test_story[df_test_story.label==2].copy()\n",
    "df_train_story_human, df_test_story_human = df_train_story[df_train_story.label==0].copy(), df_test_story[df_test_story.label==0].copy()\n",
    "\n",
    "df_train_essay_gpt, df_test_essay_gpt = df_train_essay[df_train_essay.label==1].copy(), df_test_essay[df_test_essay.label==1].copy()\n",
    "df_train_essay_bard, df_test_essay_bard = df_train_essay[df_train_essay.label==2].copy(), df_test_essay[df_test_essay.label==2].copy()\n",
    "df_train_essay_human, df_test_essay_human = df_train_essay[df_train_essay.label==0].copy(), df_test_essay[df_test_essay.label==0].copy()"
   ]
  },
  {
   "cell_type": "code",
   "execution_count": 157,
   "metadata": {},
   "outputs": [],
   "source": [
    "### CONCATENATE ALL DATASETS\n",
    "\n",
    "df_train = pd.concat([df_train_poetry, df_train_essay, df_train_story], axis=0).sample(\n",
    "    frac=1\n",
    ")\n",
    "df_test = pd.concat([df_test_poetry, df_test_essay, df_test_story], axis=0).sample(\n",
    "    frac=1\n",
    ")"
   ]
  },
  {
   "cell_type": "code",
   "execution_count": 158,
   "metadata": {},
   "outputs": [],
   "source": [
    "### SPLIT FEATURES AND LABELS\n",
    "\n",
    "X_train, y_train = preprocessing.split_features_and_labels(df_train)\n",
    "X_test, y_test = preprocessing.split_features_and_labels(df_test)\n",
    "X_test_poetry, y_test_poetry = preprocessing.split_features_and_labels(df_test_poetry)\n",
    "X_test_essay, y_test_essay = preprocessing.split_features_and_labels(df_test_essay)\n",
    "X_test_story, y_test_story = preprocessing.split_features_and_labels(df_test_story)"
   ]
  },
  {
   "cell_type": "markdown",
   "metadata": {},
   "source": [
    "## **CLASSIFICATION USING PUNCTUATION & RANDOM FOREST**"
   ]
  },
  {
   "cell_type": "code",
   "execution_count": 159,
   "metadata": {},
   "outputs": [
    {
     "data": {
      "text/plain": [
       "(label\n",
       " 1    355\n",
       " 0    179\n",
       " Name: count, dtype: int64,\n",
       " label\n",
       " 1    41\n",
       " 0    19\n",
       " Name: count, dtype: int64)"
      ]
     },
     "execution_count": 159,
     "metadata": {},
     "output_type": "execute_result"
    }
   ],
   "source": [
    "df_train_essay.label.value_counts(), df_test_essay.label.value_counts()"
   ]
  },
  {
   "cell_type": "code",
   "execution_count": 160,
   "metadata": {},
   "outputs": [
    {
     "data": {
      "text/plain": [
       "(label\n",
       " 1    444\n",
       " 0    231\n",
       " Name: count, dtype: int64,\n",
       " label\n",
       " 1    56\n",
       " 0    19\n",
       " Name: count, dtype: int64)"
      ]
     },
     "execution_count": 160,
     "metadata": {},
     "output_type": "execute_result"
    }
   ],
   "source": [
    "df_train_poetry.label.value_counts(), df_test_poetry.label.value_counts()"
   ]
  },
  {
   "cell_type": "code",
   "execution_count": 161,
   "metadata": {},
   "outputs": [
    {
     "data": {
      "text/plain": [
       "(label\n",
       " 1    173\n",
       " 0     83\n",
       " Name: count, dtype: int64,\n",
       " label\n",
       " 1    17\n",
       " 0    12\n",
       " Name: count, dtype: int64)"
      ]
     },
     "execution_count": 161,
     "metadata": {},
     "output_type": "execute_result"
    }
   ],
   "source": [
    "df_train_story.label.value_counts(), df_test_story.label.value_counts()"
   ]
  },
  {
   "cell_type": "code",
   "execution_count": 162,
   "metadata": {},
   "outputs": [],
   "source": [
    "def punctuation_transform(X: np.ndarray) -> np.ndarray:\n",
    "\n",
    "    X_series = pd.Series(X).astype(str)\n",
    "    array_nb_characters = X_series.str.len().to_numpy()\n",
    "\n",
    "    array_ratio_punctuations = (\n",
    "        X_series.str.count(r\"[^\\w\\s]\").to_numpy() / array_nb_characters\n",
    "    )\n",
    "    array_ratio_words_per_sentence = (\n",
    "        X_series.str.count(r\"[.!?]\").to_numpy()\n",
    "        / X_series.str.split().str.len().to_numpy()\n",
    "    )\n",
    "    array_ratio_odd_characters = (\n",
    "        X_series.str.count(r\"[!;-_]\").to_numpy() / array_nb_characters\n",
    "    )\n",
    "\n",
    "    embedding = pd.DataFrame(\n",
    "        {\n",
    "            \"ratio_punctuations\": array_ratio_punctuations,\n",
    "            \"ratio_words_per_sentence\": array_ratio_words_per_sentence,\n",
    "            \"ratio_odd_characters\": array_ratio_odd_characters,\n",
    "        }\n",
    "    ).to_numpy()\n",
    "\n",
    "    return embedding\n",
    "\n",
    "def punctuation_map_dimensions_to_names() -> np.ndarray:\n",
    "    return np.array([\n",
    "        \"ratio_punctuations\",\n",
    "        \"ratio_words_per_sentence\",\n",
    "        \"ratio_odd_characters\"\n",
    "    ])\n"
   ]
  },
  {
   "cell_type": "code",
   "execution_count": 163,
   "metadata": {},
   "outputs": [],
   "source": [
    "### EMBEDDING\n",
    "\n",
    "X_train_211 = punctuation_transform(X_train)\n",
    "X_test_211 = punctuation_transform(X_test)\n",
    "X_test_poetry_211 = punctuation_transform(X_test_poetry)\n",
    "X_test_essay_211 = punctuation_transform(X_test_essay)\n",
    "X_test_story_211 = punctuation_transform(X_test_story)"
   ]
  },
  {
   "cell_type": "code",
   "execution_count": 164,
   "metadata": {},
   "outputs": [],
   "source": [
    "def evaluate(model, X, y):\n",
    "    \"\"\"\n",
    "    Evaluate a model and return confusion matrix + precision, recall, f1.\n",
    "\n",
    "    Args:\n",
    "        model: Trained sklearn-like model.\n",
    "        X (np.ndarray): Input features.\n",
    "        y (np.ndarray): True labels.\n",
    "\n",
    "    Returns:\n",
    "        dict: Dictionary containing confusion matrix, precision, recall, f1 score.\n",
    "    \"\"\"\n",
    "    y_pred = model.predict(X)\n",
    "\n",
    "    return {\n",
    "        \"confusion_matrix\": confusion_matrix(y, y_pred),\n",
    "        \"precision\": precision_score(y, y_pred, average=\"binary\"),\n",
    "        \"recall\": recall_score(y, y_pred, average=\"binary\"),\n",
    "        \"f1\": f1_score(y, y_pred, average=\"binary\")\n",
    "    }\n"
   ]
  },
  {
   "cell_type": "code",
   "execution_count": 165,
   "metadata": {},
   "outputs": [
    {
     "name": "stdout",
     "output_type": "stream",
     "text": [
      "Fitting 3 folds for each of 50 candidates, totalling 150 fits\n",
      "Best hyperparameters: {'bootstrap': True, 'max_depth': 18, 'min_samples_leaf': 1, 'min_samples_split': 2, 'n_estimators': 173}\n"
     ]
    }
   ],
   "source": [
    "### Random search \n",
    "\n",
    "param_distributions = {\n",
    "    \"n_estimators\": randint(50, 300),\n",
    "    \"max_depth\": randint(3, 20),\n",
    "    \"min_samples_split\": randint(2, 10),\n",
    "    \"min_samples_leaf\": randint(1, 10),\n",
    "    \"bootstrap\": [True, False],\n",
    "}\n",
    "\n",
    "base_rf = RandomForestClassifier(n_jobs=-1, random_state=42)\n",
    "\n",
    "\n",
    "search = RandomizedSearchCV(\n",
    "    estimator=base_rf,\n",
    "    param_distributions=param_distributions,\n",
    "    n_iter=50,  \n",
    "    scoring=\"f1_macro\",\n",
    "    cv=3,\n",
    "    n_jobs=-1,\n",
    "    verbose=1,\n",
    "    random_state=42,\n",
    ")\n",
    "\n",
    "search.fit(X_train_211, y_train)\n",
    "\n",
    "best_rf = search.best_estimator_\n",
    "\n",
    "print(\"Best hyperparameters:\", search.best_params_)\n"
   ]
  },
  {
   "cell_type": "code",
   "execution_count": 166,
   "metadata": {},
   "outputs": [
    {
     "name": "stdout",
     "output_type": "stream",
     "text": [
      "             confusion_matrix precision    recall        f1\n",
      "test    [[37, 13], [10, 104]]  0.888889  0.912281  0.900433\n",
      "poetry     [[17, 2], [2, 54]]  0.964286  0.964286  0.964286\n",
      "essay      [[14, 5], [6, 35]]     0.875  0.853659  0.864198\n",
      "story       [[6, 6], [2, 15]]  0.714286  0.882353  0.789474\n"
     ]
    }
   ],
   "source": [
    "### CLASSIFIER\n",
    "\n",
    "best_rf.fit(X_train_211, y_train)\n",
    "\n",
    "\n",
    "# Evaluation\n",
    "metrics_211 = evaluate(best_rf, X_test_211, y_test)\n",
    "metrics_poetry_211 = evaluate(best_rf, X_test_poetry_211, y_test_poetry)\n",
    "metrics_essay_211 = evaluate(best_rf, X_test_essay_211, y_test_essay)\n",
    "metrics_story_211 = evaluate(best_rf, X_test_story_211, y_test_story)\n",
    "\n",
    "results = {\n",
    "    \"test\": metrics_211,\n",
    "    \"poetry\": metrics_poetry_211,\n",
    "    \"essay\": metrics_essay_211,\n",
    "    \"story\": metrics_story_211\n",
    "}\n",
    "df_metrics = pd.DataFrame(results).T \n",
    "print(df_metrics.round(3)) \n"
   ]
  },
  {
   "cell_type": "code",
   "execution_count": 167,
   "metadata": {},
   "outputs": [
    {
     "name": "stdout",
     "output_type": "stream",
     "text": [
      "ratio_words_per_sentence: 0.3810455354636022\n",
      "ratio_odd_characters: 0.3326809009518996\n",
      "ratio_punctuations: 0.2862735635844983\n"
     ]
    }
   ],
   "source": [
    "### INTERPRETABILITY - FEATURE IMPORTANCE\n",
    "\n",
    "dim_names_211 = punctuation_map_dimensions_to_names()\n",
    "feature_importances_211 = best_rf.feature_importances_\n",
    "\n",
    "most_important_features_211 = np.argsort(feature_importances_211)[-10:][::-1]\n",
    "\n",
    "for i in most_important_features_211:\n",
    "    print(f\"{dim_names_211[i]}: {feature_importances_211[i]}\")\n"
   ]
  },
  {
   "cell_type": "code",
   "execution_count": 168,
   "metadata": {},
   "outputs": [
    {
     "data": {
      "image/png": "[encoded data removed]",
      "text/plain": [
       "<Figure size 800x270 with 2 Axes>"
      ]
     },
     "metadata": {},
     "output_type": "display_data"
    }
   ],
   "source": [
    "### INTERPRETABILITY - SHAP VALUES\n",
    "\n",
    "explainer_211 = shap.Explainer(best_rf)\n",
    "X_test_211_dense = X_test_211\n",
    "shap_values_211 = explainer_211(X_test_211_dense)\n",
    "\n",
    "shap.summary_plot(\n",
    "    shap_values_211.values[:, :, 1], \n",
    "    features=X_test_211_dense,\n",
    "    feature_names=dim_names_211\n",
    ")"
   ]
  },
  {
   "cell_type": "markdown",
   "metadata": {},
   "source": [
    "## **CLASSIFICATION USING TF-IDF & RANDOM FOREST**"
   ]
  },
  {
   "cell_type": "code",
   "execution_count": 169,
   "metadata": {},
   "outputs": [],
   "source": [
    "def fit_tfidf_embedding(X_train_texts, max_features=1000):\n",
    "    \"\"\"\n",
    "    Fit a TF-IDF vectorizer on training texts.\n",
    "\n",
    "    Args:\n",
    "        X_train_texts (list or np.ndarray): Training texts.\n",
    "        max_features (int): Maximum number of features for TF-IDF.\n",
    "\n",
    "    Returns:\n",
    "        vectorizer: Fitted TfidfVectorizer instance.\n",
    "        X_train_tfidf: Transformed training data.\n",
    "    \"\"\"\n",
    "    vectorizer = TfidfVectorizer(\n",
    "        max_features=max_features,\n",
    "        smooth_idf=True,\n",
    "        stop_words=\"english\"\n",
    "    )\n",
    "    X_train_tfidf = vectorizer.fit_transform(X_train_texts)\n",
    "    return vectorizer, X_train_tfidf\n",
    "\n",
    "def transform_with_tfidf(vectorizer, X_texts):\n",
    "    \"\"\"\n",
    "    Transform texts using an already fitted TF-IDF vectorizer.\n",
    "\n",
    "    Args:\n",
    "        vectorizer: A fitted TfidfVectorizer.\n",
    "        X_texts (list or np.ndarray): Texts to transform.\n",
    "\n",
    "    Returns:\n",
    "        X_tfidf: Transformed TF-IDF matrix.\n",
    "    \"\"\"\n",
    "    return vectorizer.transform(X_texts)\n"
   ]
  },
  {
   "cell_type": "code",
   "execution_count": 170,
   "metadata": {},
   "outputs": [],
   "source": [
    "### TF-IDF embedding\n",
    "vectorizer_tfidf, X_train_tfidf = fit_tfidf_embedding(X_train, max_features=1000)\n",
    "\n",
    "X_test_tfidf = transform_with_tfidf(vectorizer_tfidf, X_test)\n",
    "X_test_poetry_tfidf = transform_with_tfidf(vectorizer_tfidf, X_test_poetry)\n",
    "X_test_essay_tfidf = transform_with_tfidf(vectorizer_tfidf, X_test_essay)\n",
    "X_test_story_tfidf = transform_with_tfidf(vectorizer_tfidf, X_test_story)"
   ]
  },
  {
   "cell_type": "code",
   "execution_count": 171,
   "metadata": {},
   "outputs": [
    {
     "name": "stdout",
     "output_type": "stream",
     "text": [
      "Fitting 3 folds for each of 50 candidates, totalling 150 fits\n",
      "Best hyperparameters: {'bootstrap': True, 'max_depth': 18, 'min_samples_leaf': 1, 'min_samples_split': 2, 'n_estimators': 173}\n"
     ]
    }
   ],
   "source": [
    "base_rf = RandomForestClassifier(n_jobs=-1, random_state=42)\n",
    "\n",
    "\n",
    "search = RandomizedSearchCV(\n",
    "    estimator=base_rf,\n",
    "    param_distributions=param_distributions,\n",
    "    n_iter=50,  \n",
    "    scoring=\"f1_macro\",\n",
    "    cv=3,\n",
    "    n_jobs=-1,\n",
    "    verbose=1,\n",
    "    random_state=42,\n",
    ")\n",
    "\n",
    "search.fit(X_train_tfidf, y_train)\n",
    "\n",
    "best_rf_tfidf = search.best_estimator_\n",
    "\n",
    "print(\"Best hyperparameters:\", search.best_params_)"
   ]
  },
  {
   "cell_type": "code",
   "execution_count": 172,
   "metadata": {},
   "outputs": [
    {
     "name": "stdout",
     "output_type": "stream",
     "text": [
      "           confusion_matrix precision    recall        f1\n",
      "test    [[44, 6], [1, 113]]   0.94958  0.991228  0.969957\n",
      "poetry   [[15, 4], [0, 56]]  0.933333       1.0  0.965517\n",
      "essay    [[19, 0], [0, 41]]       1.0       1.0       1.0\n",
      "story    [[10, 2], [1, 16]]  0.888889  0.941176  0.914286\n"
     ]
    }
   ],
   "source": [
    "### CLASSIFIER\n",
    "\n",
    "best_rf_tfidf.fit(X_train_tfidf, y_train)\n",
    "\n",
    "# Evaluation\n",
    "metrics_tfidf = evaluate(best_rf_tfidf, X_test_tfidf, y_test)\n",
    "metrics_poetry_tfidf = evaluate(best_rf_tfidf, X_test_poetry_tfidf, y_test_poetry)\n",
    "metrics_essay_tfidf = evaluate(best_rf_tfidf, X_test_essay_tfidf, y_test_essay)\n",
    "metrics_story_tfidf = evaluate(best_rf_tfidf, X_test_story_tfidf, y_test_story)\n",
    "\n",
    "results = {\n",
    "    \"test\": metrics_tfidf,\n",
    "    \"poetry\": metrics_poetry_tfidf,\n",
    "    \"essay\": metrics_essay_tfidf,\n",
    "    \"story\": metrics_story_tfidf\n",
    "}\n",
    "df_metrics = pd.DataFrame(results).T \n",
    "print(df_metrics.round(3)) \n"
   ]
  },
  {
   "cell_type": "code",
   "execution_count": 173,
   "metadata": {},
   "outputs": [
    {
     "name": "stdout",
     "output_type": "stream",
     "text": [
      "really: 0.03088\n",
      "like: 0.02777\n",
      "just: 0.02721\n",
      "room: 0.01834\n",
      "think: 0.01597\n",
      "half: 0.01518\n",
      "man: 0.01509\n",
      "minutes: 0.01431\n",
      "got: 0.01428\n",
      "going: 0.01422\n",
      "says: 0.01338\n",
      "don: 0.01306\n",
      "mother: 0.01303\n",
      "father: 0.01180\n",
      "help: 0.01112\n",
      "right: 0.01059\n",
      "head: 0.01028\n",
      "dead: 0.01022\n",
      "say: 0.00981\n",
      "did: 0.00874\n"
     ]
    }
   ],
   "source": [
    "### INTERPRETABILITY - FEATURE IMPORTANCE\n",
    "\n",
    "dim_names_tfidf = vectorizer_tfidf.get_feature_names_out()\n",
    "feature_importances_tfidf = best_rf_tfidf.feature_importances_\n",
    "most_important_features_tfidf = np.argsort(feature_importances_tfidf)[-20:][::-1]\n",
    "for i in most_important_features_tfidf:\n",
    "    print(f\"{dim_names_tfidf[i]}: {feature_importances_tfidf[i]:.5f}\")\n"
   ]
  },
  {
   "cell_type": "code",
   "execution_count": 174,
   "metadata": {},
   "outputs": [
    {
     "data": {
      "text/html": [
       "<div>\n",
       "<style scoped>\n",
       "    .dataframe tbody tr th:only-of-type {\n",
       "        vertical-align: middle;\n",
       "    }\n",
       "\n",
       "    .dataframe tbody tr th {\n",
       "        vertical-align: top;\n",
       "    }\n",
       "\n",
       "    .dataframe thead th {\n",
       "        text-align: right;\n",
       "    }\n",
       "</style>\n",
       "<table border=\"1\" class=\"dataframe\">\n",
       "  <thead>\n",
       "    <tr style=\"text-align: right;\">\n",
       "      <th></th>\n",
       "      <th>text</th>\n",
       "      <th>abstract</th>\n",
       "      <th>label</th>\n",
       "      <th>type</th>\n",
       "      <th>origin</th>\n",
       "    </tr>\n",
       "  </thead>\n",
       "  <tbody>\n",
       "    <tr>\n",
       "      <th>447</th>\n",
       "      <td>Two people of different interests and backgrou...</td>\n",
       "      <td>Explain how two people of different interests...</td>\n",
       "      <td>1</td>\n",
       "      <td>essay</td>\n",
       "      <td>1</td>\n",
       "    </tr>\n",
       "    <tr>\n",
       "      <th>18</th>\n",
       "      <td>Chaos Chaos is the dance of the universe, A sw...</td>\n",
       "      <td>write a poetry about chaos</td>\n",
       "      <td>1</td>\n",
       "      <td>poetry</td>\n",
       "      <td>2</td>\n",
       "    </tr>\n",
       "    <tr>\n",
       "      <th>311</th>\n",
       "      <td>Well I'm finally getting around doing the writ...</td>\n",
       "      <td>No abstract</td>\n",
       "      <td>0</td>\n",
       "      <td>essay</td>\n",
       "      <td>0</td>\n",
       "    </tr>\n",
       "    <tr>\n",
       "      <th>120</th>\n",
       "      <td>The year is 2042. Dreams are now a commodity. ...</td>\n",
       "      <td>Imagine a world where dreams can be traded and...</td>\n",
       "      <td>1</td>\n",
       "      <td>story</td>\n",
       "      <td>2</td>\n",
       "    </tr>\n",
       "    <tr>\n",
       "      <th>152</th>\n",
       "      <td>As an AI language model, I don't have personal...</td>\n",
       "      <td>Discuss the events in the life of your favori...</td>\n",
       "      <td>1</td>\n",
       "      <td>essay</td>\n",
       "      <td>1</td>\n",
       "    </tr>\n",
       "    <tr>\n",
       "      <th>...</th>\n",
       "      <td>...</td>\n",
       "      <td>...</td>\n",
       "      <td>...</td>\n",
       "      <td>...</td>\n",
       "      <td>...</td>\n",
       "    </tr>\n",
       "    <tr>\n",
       "      <th>123</th>\n",
       "      <td>Sibling rivalry is a common problem in familie...</td>\n",
       "      <td>Brothers and sisters do not always get along...</td>\n",
       "      <td>1</td>\n",
       "      <td>essay</td>\n",
       "      <td>2</td>\n",
       "    </tr>\n",
       "    <tr>\n",
       "      <th>338</th>\n",
       "      <td>When Emperor Hirohito announced Japan’s defeat...</td>\n",
       "      <td>\\r\\r\\n                    From “understory”\\r\\...</td>\n",
       "      <td>0</td>\n",
       "      <td>poetry</td>\n",
       "      <td>0</td>\n",
       "    </tr>\n",
       "    <tr>\n",
       "      <th>423</th>\n",
       "      <td>One among the shifting mass of humanity intent...</td>\n",
       "      <td>\\r\\r\\n                    Inclement\\r\\r\\n     ...</td>\n",
       "      <td>0</td>\n",
       "      <td>poetry</td>\n",
       "      <td>0</td>\n",
       "    </tr>\n",
       "    <tr>\n",
       "      <th>397</th>\n",
       "      <td>The island I hate, you ask me why? It's a plac...</td>\n",
       "      <td>write a poem about an island you hate</td>\n",
       "      <td>1</td>\n",
       "      <td>poetry</td>\n",
       "      <td>1</td>\n",
       "    </tr>\n",
       "    <tr>\n",
       "      <th>496</th>\n",
       "      <td>Travel, oh the joy it brings A world full of p...</td>\n",
       "      <td>write a poetry about travel</td>\n",
       "      <td>1</td>\n",
       "      <td>poetry</td>\n",
       "      <td>1</td>\n",
       "    </tr>\n",
       "  </tbody>\n",
       "</table>\n",
       "<p>1465 rows × 5 columns</p>\n",
       "</div>"
      ],
      "text/plain": [
       "                                                  text  \\\n",
       "447  Two people of different interests and backgrou...   \n",
       "18   Chaos Chaos is the dance of the universe, A sw...   \n",
       "311  Well I'm finally getting around doing the writ...   \n",
       "120  The year is 2042. Dreams are now a commodity. ...   \n",
       "152  As an AI language model, I don't have personal...   \n",
       "..                                                 ...   \n",
       "123  Sibling rivalry is a common problem in familie...   \n",
       "338  When Emperor Hirohito announced Japan’s defeat...   \n",
       "423  One among the shifting mass of humanity intent...   \n",
       "397  The island I hate, you ask me why? It's a plac...   \n",
       "496  Travel, oh the joy it brings A world full of p...   \n",
       "\n",
       "                                              abstract  label    type  origin  \n",
       "447   Explain how two people of different interests...      1   essay       1  \n",
       "18                          write a poetry about chaos      1  poetry       2  \n",
       "311                                        No abstract      0   essay       0  \n",
       "120  Imagine a world where dreams can be traded and...      1   story       2  \n",
       "152   Discuss the events in the life of your favori...      1   essay       1  \n",
       "..                                                 ...    ...     ...     ...  \n",
       "123    Brothers and sisters do not always get along...      1   essay       2  \n",
       "338  \\r\\r\\n                    From “understory”\\r\\...      0  poetry       0  \n",
       "423  \\r\\r\\n                    Inclement\\r\\r\\n     ...      0  poetry       0  \n",
       "397              write a poem about an island you hate      1  poetry       1  \n",
       "496                        write a poetry about travel      1  poetry       1  \n",
       "\n",
       "[1465 rows x 5 columns]"
      ]
     },
     "execution_count": 174,
     "metadata": {},
     "output_type": "execute_result"
    }
   ],
   "source": [
    "df_train"
   ]
  },
  {
   "cell_type": "code",
   "execution_count": 175,
   "metadata": {},
   "outputs": [
    {
     "data": {
      "image/png": "[encoded data removed]",
      "text/plain": [
       "<Figure size 800x950 with 2 Axes>"
      ]
     },
     "metadata": {},
     "output_type": "display_data"
    }
   ],
   "source": [
    "### INTERPRETABILITY - SHAP VALUES\n",
    "\n",
    "X_test_tfidf_dense = X_test_tfidf.toarray()\n",
    "explainer_tfidf = shap.TreeExplainer(best_rf_tfidf)\n",
    "shap_values_tfidf = explainer_tfidf(X_test_tfidf_dense)\n",
    "\n",
    "shap.summary_plot(\n",
    "    shap_values_tfidf[:,:,1],\n",
    "    features=X_test_tfidf_dense,\n",
    "    feature_names=dim_names_tfidf\n",
    ")\n"
   ]
  },
  {
   "cell_type": "markdown",
   "metadata": {},
   "source": [
    "## **CLASSIFICATION USING TF-IDF & NAIVE BAYES**"
   ]
  },
  {
   "cell_type": "code",
   "execution_count": 176,
   "metadata": {},
   "outputs": [],
   "source": [
    "### TF-IDF embedding\n",
    "vectorizer_tfidf, X_train_tfidf = fit_tfidf_embedding(X_train, max_features=1000)\n",
    "\n",
    "X_test_tfidf = transform_with_tfidf(vectorizer_tfidf, X_test)\n",
    "X_test_poetry_tfidf = transform_with_tfidf(vectorizer_tfidf, X_test_poetry)\n",
    "X_test_essay_tfidf = transform_with_tfidf(vectorizer_tfidf, X_test_essay)\n",
    "X_test_story_tfidf = transform_with_tfidf(vectorizer_tfidf, X_test_story)"
   ]
  },
  {
   "cell_type": "code",
   "execution_count": 177,
   "metadata": {},
   "outputs": [
    {
     "name": "stdout",
     "output_type": "stream",
     "text": [
      "           confusion_matrix precision    recall        f1\n",
      "test    [[46, 4], [6, 108]]  0.964286  0.947368  0.955752\n",
      "poetry   [[16, 3], [0, 56]]  0.949153       1.0  0.973913\n",
      "essay    [[19, 0], [1, 40]]       1.0   0.97561  0.987654\n",
      "story    [[11, 1], [5, 12]]  0.923077  0.705882       0.8\n"
     ]
    }
   ],
   "source": [
    "### CLASSIFIER\n",
    "\n",
    "nb_classifier = MultinomialNB()\n",
    "nb_classifier.fit(X_train_tfidf, y_train)\n",
    "\n",
    "metrics_tfidf = evaluate(nb_classifier, X_test_tfidf, y_test)\n",
    "metrics_poetry_tfidf = evaluate(nb_classifier, X_test_poetry_tfidf, y_test_poetry)\n",
    "metrics_essay_tfidf = evaluate(nb_classifier, X_test_essay_tfidf, y_test_essay)\n",
    "metrics_story_tfidf = evaluate(nb_classifier, X_test_story_tfidf, y_test_story)\n",
    "\n",
    "results = {\n",
    "    \"test\": metrics_tfidf,\n",
    "    \"poetry\": metrics_poetry_tfidf,\n",
    "    \"essay\": metrics_essay_tfidf,\n",
    "    \"story\": metrics_story_tfidf\n",
    "}\n",
    "df_metrics = pd.DataFrame(results).T \n",
    "print(df_metrics.round(3)) \n"
   ]
  }
 ],
 "metadata": {
  "kernelspec": {
   "display_name": "test",
   "language": "python",
   "name": "python3"
  },
  "language_info": {
   "codemirror_mode": {
    "name": "ipython",
    "version": 3
   },
   "file_extension": ".py",
   "mimetype": "text/x-python",
   "name": "python",
   "nbconvert_exporter": "python",
   "pygments_lexer": "ipython3",
   "version": "3.12.3"
  }
 },
 "nbformat": 4,
 "nbformat_minor": 2
}
