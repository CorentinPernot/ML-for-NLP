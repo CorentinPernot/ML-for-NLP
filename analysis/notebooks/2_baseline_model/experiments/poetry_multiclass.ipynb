{
 "cells": [
  {
   "cell_type": "markdown",
   "metadata": {},
   "source": [
    "# **POETRY MULTICLASS**"
   ]
  },
  {
   "cell_type": "markdown",
   "metadata": {},
   "source": [
    "## **Preliminary steps**"
   ]
  },
  {
   "cell_type": "code",
   "execution_count": 10,
   "metadata": {},
   "outputs": [],
   "source": [
    "### PACKAGES\n",
    "\n",
    "import matplotlib.pyplot as plt\n",
    "import numpy as np\n",
    "import pandas as pd\n",
    "import shap"
   ]
  },
  {
   "cell_type": "code",
   "execution_count": 11,
   "metadata": {},
   "outputs": [],
   "source": [
    "### FUNCTIONS\n",
    "\n",
    "from src.configs import constants, ml_config, names\n",
    "from src.libs import preprocessing, evaluation, visualization\n",
    "from src.embedding.tf_idf import TfIdfEmbedding\n",
    "from src.embedding.punctuation import PunctuationEmbedding\n",
    "from src.classifier.classifier import LightGBMClassifier, RFClassifier, NBClassifier"
   ]
  },
  {
   "cell_type": "markdown",
   "metadata": {},
   "source": [
    "## **DATA**"
   ]
  },
  {
   "cell_type": "code",
   "execution_count": 12,
   "metadata": {},
   "outputs": [
    {
     "name": "stdout",
     "output_type": "stream",
     "text": [
      "Time taken to load dataset: 0.006402254104614258 seconds\n",
      "Time taken to load dataset: 0.017484664916992188 seconds\n",
      "Time taken to load dataset: 0.3295400142669678 seconds\n",
      "Time taken to load dataset: 0.005118608474731445 seconds\n",
      "Time taken to load dataset: 0.013045072555541992 seconds\n",
      "Time taken to load dataset: 0.0994727611541748 seconds\n",
      "Time taken to load dataset: 0.015005350112915039 seconds\n",
      "Time taken to load dataset: 0.01126241683959961 seconds\n",
      "Time taken to load dataset: 0.009771585464477539 seconds\n"
     ]
    }
   ],
   "source": [
    "### LOAD DATA\n",
    "\n",
    "df_poetry_gpt = preprocessing.load_dataset(source=\"GPT\", type=\"POETRY\")\n",
    "df_poetry_bard = preprocessing.load_dataset(source=\"BARD\", type=\"POETRY\")\n",
    "df_poetry_human = preprocessing.load_dataset(source=\"Human\", type=\"POETRY\")\n",
    "\n",
    "df_essay_gpt = preprocessing.load_dataset(source=\"GPT\", type=\"ESSAY\")\n",
    "df_essay_bard = preprocessing.load_dataset(source=\"BARD\", type=\"ESSAY\")\n",
    "df_essay_human = preprocessing.load_dataset(source=\"Human\", type=\"ESSAY\")\n",
    "\n",
    "df_story_gpt = preprocessing.load_dataset(source=\"GPT\", type=\"STORY\")\n",
    "df_story_bard = preprocessing.load_dataset(source=\"BARD\", type=\"STORY\")\n",
    "df_story_human = preprocessing.load_dataset(source=\"Human\", type=\"STORY\")"
   ]
  },
  {
   "cell_type": "code",
   "execution_count": 13,
   "metadata": {},
   "outputs": [],
   "source": [
    "### GET TRAIN SPLIT\n",
    "\n",
    "df_train_poetry_gpt, df_test_poetry_gpt = preprocessing.train_valid_split(df_poetry_gpt)\n",
    "df_train_poetry_bard, df_test_poetry_bard = preprocessing.train_valid_split(\n",
    "    df_poetry_bard\n",
    ")\n",
    "df_train_poetry_human, df_test_poetry_human = preprocessing.train_valid_split(\n",
    "    df_poetry_human\n",
    ")\n",
    "\n",
    "df_train_essay_gpt, df_test_essay_gpt = preprocessing.train_valid_split(df_essay_gpt)\n",
    "df_train_essay_bard, df_test_essay_bard = preprocessing.train_valid_split(df_essay_bard)\n",
    "df_train_essay_human, df_test_essay_human = preprocessing.train_valid_split(\n",
    "    df_essay_human\n",
    ")\n",
    "\n",
    "df_train_story_gpt, df_test_story_gpt = preprocessing.train_valid_split(df_story_gpt)\n",
    "df_train_story_bard, df_test_story_bard = preprocessing.train_valid_split(df_story_bard)\n",
    "df_train_story_human, df_test_story_human = preprocessing.train_valid_split(\n",
    "    df_story_human\n",
    ")"
   ]
  },
  {
   "cell_type": "code",
   "execution_count": 14,
   "metadata": {},
   "outputs": [],
   "source": [
    "### GET FULL DATASETS\n",
    "\n",
    "df_train_poetry = preprocessing.get_poetry_dataset(\n",
    "    df_train_poetry_gpt,\n",
    "    df_train_poetry_bard,\n",
    "    df_train_poetry_human,\n",
    "    samples_per_source=min(\n",
    "        len(df_train_poetry_gpt), len(df_train_poetry_bard), len(df_train_poetry_human)\n",
    "    ),\n",
    ")\n",
    "df_test_poetry = preprocessing.get_poetry_dataset(\n",
    "    df_test_poetry_gpt,\n",
    "    df_test_poetry_bard,\n",
    "    df_test_poetry_human,\n",
    "    samples_per_source=None,\n",
    ")\n",
    "\n",
    "df_test_essay = preprocessing.get_essay_dataset(\n",
    "    df_test_essay_gpt, df_test_essay_bard, df_test_essay_human, samples_per_source=None\n",
    ")\n",
    "\n",
    "df_test_story = preprocessing.get_story_dataset(\n",
    "    df_test_story_gpt, df_test_story_bard, df_test_story_human, samples_per_source=None\n",
    ")"
   ]
  },
  {
   "cell_type": "code",
   "execution_count": 15,
   "metadata": {},
   "outputs": [],
   "source": [
    "### SPLIT FEATURES AND LABELS\n",
    "\n",
    "X_train_poetry, y_train_poetry = preprocessing.split_features_and_labels(\n",
    "    df_train_poetry\n",
    ")\n",
    "X_test_poetry, y_test_poetry = preprocessing.split_features_and_labels(df_test_poetry)\n",
    "X_test_essay, y_test_essay = preprocessing.split_features_and_labels(df_test_essay)\n",
    "X_test_story, y_test_story = preprocessing.split_features_and_labels(df_test_story)"
   ]
  },
  {
   "cell_type": "markdown",
   "metadata": {},
   "source": [
    "## **CLASSIFICATION USING PUNCTUATION & RANDOM FOREST**"
   ]
  },
  {
   "cell_type": "code",
   "execution_count": 16,
   "metadata": {},
   "outputs": [],
   "source": [
    "ID_EXPERIMENT = 211"
   ]
  },
  {
   "cell_type": "code",
   "execution_count": 17,
   "metadata": {},
   "outputs": [],
   "source": [
    "### EMBEDDING\n",
    "\n",
    "embedding_211 = PunctuationEmbedding(ID_EXPERIMENT)\n",
    "\n",
    "X_train_poetry_211 = embedding_211.transform(X=X_train_poetry)\n",
    "X_test_poetry_211 = embedding_211.transform(X=X_test_poetry)\n",
    "X_test_essay_211 = embedding_211.transform(X=X_test_essay)\n",
    "X_test_story_211 = embedding_211.transform(X=X_test_story)"
   ]
  },
  {
   "cell_type": "code",
   "execution_count": 18,
   "metadata": {},
   "outputs": [
    {
     "name": "stdout",
     "output_type": "stream",
     "text": [
      "Metrics on poetry: {'accuracy': 0.6917613636363636, 'precision': 0.355076760373261, 'recall': 0.5376777939042089, 'f1': 0.31607519281365176}\n",
      "Metrics on essay: {'accuracy': 0.7121771217712177, 'precision': 0.2992248062015504, 'recall': 0.26045883940620784, 'f1': 0.2784992784992785}\n",
      "Metrics on story: {'accuracy': 0.2727272727272727, 'precision': 0.25510204081632654, 'recall': 0.35555555555555557, 'f1': 0.2306547619047619}\n"
     ]
    }
   ],
   "source": [
    "### CLASSIFIER\n",
    "\n",
    "classifier_211 = LightGBMClassifier(ID_EXPERIMENT)\n",
    "\n",
    "classifier_211.train(X_train=X_train_poetry_211, y_train=y_train_poetry)\n",
    "\n",
    "metrics_poetry_211 = classifier_211.evaluate(X_test_poetry_211, y_test_poetry)\n",
    "metrics_essay_211 = classifier_211.evaluate(X_test_essay_211, y_test_essay)\n",
    "metrics_story_211 = classifier_211.evaluate(X_test_story_211, y_test_story)\n",
    "\n",
    "print(f\"Metrics on poetry: {metrics_poetry_211}\")\n",
    "print(f\"Metrics on essay: {metrics_essay_211}\")\n",
    "print(f\"Metrics on story: {metrics_story_211}\")"
   ]
  },
  {
   "cell_type": "code",
   "execution_count": 19,
   "metadata": {},
   "outputs": [
    {
     "name": "stdout",
     "output_type": "stream",
     "text": [
      "ratio_words_per_sentence: 2648\n",
      "ratio_odd_characters: 2161\n",
      "ratio_punctuations: 2099\n"
     ]
    }
   ],
   "source": [
    "### INTERPRETABILITY - FEATURE IMPORTANCE\n",
    "\n",
    "dim_names_211 = embedding_211.map_dimensions_to_names()\n",
    "feature_importances_211 = classifier_211.get_feature_importance()\n",
    "most_important_features_211 = np.argsort(feature_importances_211)[-10:][::-1]\n",
    "for i in most_important_features_211:\n",
    "    print(f\"{dim_names_211[i]}: {feature_importances_211[i]}\")"
   ]
  },
  {
   "cell_type": "code",
   "execution_count": 20,
   "metadata": {},
   "outputs": [
    {
     "data": {
      "image/png": "[encoded data removed]",
      "text/plain": [
       "<Figure size 800x270 with 1 Axes>"
      ]
     },
     "metadata": {},
     "output_type": "display_data"
    }
   ],
   "source": [
    "### INTERPRETABILITY - SHAP VALUES\n",
    "\n",
    "explainer_211 = shap.Explainer(classifier_211.classifier)\n",
    "\n",
    "if hasattr(X_test_poetry_211, \"toarray\"):\n",
    "    X_test_poetry_211 = X_test_poetry_211.toarray()\n",
    "\n",
    "# Calculate SHAP values\n",
    "shap_values_211 = explainer_211(X_test_poetry_211)\n",
    "\n",
    "# Visualize the SHAP values\n",
    "shap.summary_plot(shap_values_211, X_test_poetry_211, feature_names=dim_names_211)"
   ]
  },
  {
   "cell_type": "markdown",
   "metadata": {},
   "source": [
    "## **CLASSIFICATION USING TF-IDF & LGBM**"
   ]
  },
  {
   "cell_type": "code",
   "execution_count": 21,
   "metadata": {},
   "outputs": [],
   "source": [
    "ID_EXPERIMENT = 111"
   ]
  },
  {
   "cell_type": "code",
   "execution_count": 22,
   "metadata": {},
   "outputs": [],
   "source": [
    "### EMBEDDING\n",
    "\n",
    "embedding_111 = TfIdfEmbedding(ID_EXPERIMENT)\n",
    "\n",
    "embedding_111.fit(X=X_train_poetry)\n",
    "\n",
    "X_train_poetry_111 = embedding_111.transform(X=X_train_poetry)\n",
    "X_test_poetry_111 = embedding_111.transform(X=X_test_poetry)\n",
    "X_test_essay_111 = embedding_111.transform(X=X_test_essay)\n",
    "X_test_story_111 = embedding_111.transform(X=X_test_story)"
   ]
  },
  {
   "cell_type": "code",
   "execution_count": 23,
   "metadata": {},
   "outputs": [
    {
     "name": "stdout",
     "output_type": "stream",
     "text": [
      "Metrics on poetry: {'accuracy': 0.9303977272727273, 'precision': 0.44665807921621875, 'recall': 0.8041702951136913, 'f1': 0.5035830389488926}\n",
      "Metrics on essay: {'accuracy': 0.6826568265682657, 'precision': 0.29790660225442833, 'recall': 0.2496626180836707, 'f1': 0.27165932452276065}\n",
      "Metrics on story: {'accuracy': 0.4909090909090909, 'precision': 0.7196581196581198, 'recall': 0.47777777777777786, 'f1': 0.4112233445566778}\n"
     ]
    }
   ],
   "source": [
    "### CLASSIFIER\n",
    "\n",
    "classifier_111 = LightGBMClassifier(ID_EXPERIMENT)\n",
    "\n",
    "classifier_111.train(X_train=X_train_poetry_111, y_train=y_train_poetry)\n",
    "\n",
    "metrics_poetry_111 = classifier_111.evaluate(X_test_poetry_111, y_test_poetry)\n",
    "metrics_essay_111 = classifier_111.evaluate(X_test_essay_111, y_test_essay)\n",
    "metrics_story_111 = classifier_111.evaluate(X_test_story_111, y_test_story)\n",
    "\n",
    "print(f\"Metrics on poetry: {metrics_poetry_111}\")\n",
    "print(f\"Metrics on essay: {metrics_essay_111}\")\n",
    "print(f\"Metrics on story: {metrics_story_111}\")"
   ]
  },
  {
   "cell_type": "code",
   "execution_count": 24,
   "metadata": {},
   "outputs": [
    {
     "name": "stdout",
     "output_type": "stream",
     "text": [
      "like: 199\n",
      "world: 190\n",
      "let: 170\n",
      "oh: 162\n",
      "heart: 143\n",
      "peace: 136\n",
      "beauty: 132\n",
      "life: 122\n",
      "know: 121\n",
      "hope: 120\n"
     ]
    }
   ],
   "source": [
    "### INTERPRETABILITY - FEATURE IMPORTANCE\n",
    "\n",
    "dim_names_111 = embedding_111.map_dimensions_to_names()\n",
    "feature_importances_111 = classifier_111.get_feature_importance()\n",
    "most_important_features_111 = np.argsort(feature_importances_111)[-10:][::-1]\n",
    "for i in most_important_features_111:\n",
    "    print(f\"{dim_names_111[i]}: {feature_importances_111[i]}\")"
   ]
  },
  {
   "cell_type": "code",
   "execution_count": 25,
   "metadata": {},
   "outputs": [
    {
     "data": {
      "image/png": "[encoded data removed]",
      "text/plain": [
       "<Figure size 800x950 with 1 Axes>"
      ]
     },
     "metadata": {},
     "output_type": "display_data"
    }
   ],
   "source": [
    "### INTERPRETABILITY - SHAP VALUES\n",
    "\n",
    "explainer_111 = shap.Explainer(classifier_111.classifier)\n",
    "\n",
    "if hasattr(X_test_poetry_111, \"toarray\"):\n",
    "    X_test_poetry_111 = X_test_poetry_111.toarray()\n",
    "\n",
    "# Calculate SHAP values\n",
    "shap_values_111 = explainer_111(X_test_poetry_111)\n",
    "\n",
    "\n",
    "# Visualize the SHAP values\n",
    "shap.summary_plot(shap_values_111, X_test_poetry_111, feature_names=dim_names_111)"
   ]
  },
  {
   "cell_type": "markdown",
   "metadata": {},
   "source": [
    "## **CLASSIFICATION USING TF-IDF & RANDOM FOREST**"
   ]
  },
  {
   "cell_type": "code",
   "execution_count": 26,
   "metadata": {},
   "outputs": [],
   "source": [
    "ID_EXPERIMENT = 121"
   ]
  },
  {
   "cell_type": "code",
   "execution_count": 27,
   "metadata": {},
   "outputs": [],
   "source": [
    "### EMBEDDING\n",
    "\n",
    "embedding_121 = TfIdfEmbedding(ID_EXPERIMENT)\n",
    "\n",
    "embedding_121.fit(X=X_train_poetry)\n",
    "\n",
    "X_train_poetry_121 = embedding_121.transform(X=X_train_poetry)\n",
    "X_test_poetry_121 = embedding_121.transform(X=X_test_poetry)\n",
    "X_test_essay_121 = embedding_121.transform(X=X_test_essay)\n",
    "X_test_story_121 = embedding_121.transform(X=X_test_story)"
   ]
  },
  {
   "cell_type": "code",
   "execution_count": 28,
   "metadata": {},
   "outputs": [
    {
     "name": "stdout",
     "output_type": "stream",
     "text": [
      "Metrics on poetry: {'accuracy': 0.9616477272727273, 'precision': 0.47511614580135486, 'recall': 0.6688727624576681, 'f1': 0.5293193216562635}\n",
      "Metrics on essay: {'accuracy': 0.8929889298892989, 'precision': 0.37318007662835245, 'recall': 0.49055330634278, 'f1': 0.41019872515935507}\n",
      "Metrics on story: {'accuracy': 0.41818181818181815, 'precision': 0.43703703703703706, 'recall': 0.41111111111111115, 'f1': 0.3094017094017094}\n"
     ]
    }
   ],
   "source": [
    "### CLASSIFIER\n",
    "\n",
    "classifier_121 = RFClassifier(ID_EXPERIMENT)\n",
    "\n",
    "classifier_121.train(X_train=X_train_poetry_121, y_train=y_train_poetry)\n",
    "\n",
    "metrics_poetry_121 = classifier_121.evaluate(X_test_poetry_121, y_test_poetry)\n",
    "metrics_essay_121 = classifier_121.evaluate(X_test_essay_121, y_test_essay)\n",
    "metrics_story_121 = classifier_121.evaluate(X_test_story_121, y_test_story)\n",
    "\n",
    "print(f\"Metrics on poetry: {metrics_poetry_121}\")\n",
    "print(f\"Metrics on essay: {metrics_essay_121}\")\n",
    "print(f\"Metrics on story: {metrics_story_121}\")"
   ]
  },
  {
   "cell_type": "markdown",
   "metadata": {},
   "source": [
    "## **CLASSIFICATION USING TF-IDF & NAIVE BAYES**"
   ]
  },
  {
   "cell_type": "code",
   "execution_count": 29,
   "metadata": {},
   "outputs": [],
   "source": [
    "ID_EXPERIMENT = 131"
   ]
  },
  {
   "cell_type": "code",
   "execution_count": 30,
   "metadata": {},
   "outputs": [],
   "source": [
    "### EMBEDDING\n",
    "\n",
    "embedding_131 = TfIdfEmbedding(ID_EXPERIMENT)\n",
    "\n",
    "embedding_131.fit(X=X_train_poetry)\n",
    "\n",
    "X_train_poetry_131 = embedding_131.transform(X=X_train_poetry)\n",
    "X_test_poetry_131 = embedding_131.transform(X=X_test_poetry)\n",
    "X_test_essay_131 = embedding_131.transform(X=X_test_essay)\n",
    "X_test_story_131 = embedding_131.transform(X=X_test_story)"
   ]
  },
  {
   "cell_type": "code",
   "execution_count": 31,
   "metadata": {},
   "outputs": [
    {
     "name": "stdout",
     "output_type": "stream",
     "text": [
      "Metrics on poetry: {'accuracy': 0.40980113636363635, 'precision': 0.3753844324452876, 'recall': 0.693284954039671, 'f1': 0.2648669833779901}\n",
      "Metrics on essay: {'accuracy': 0.8487084870848709, 'precision': 0.6962962962962963, 'recall': 0.6536437246963563, 'f1': 0.40396441062300625}\n",
      "Metrics on story: {'accuracy': 0.6363636363636364, 'precision': 0.4052910052910053, 'recall': 0.4777777777777778, 'f1': 0.4385392385392386}\n"
     ]
    }
   ],
   "source": [
    "### CLASSIFIER\n",
    "\n",
    "classifier_131 = NBClassifier(ID_EXPERIMENT)\n",
    "\n",
    "classifier_131.train(X_train=X_train_poetry_131, y_train=y_train_poetry)\n",
    "\n",
    "metrics_poetry_131 = classifier_131.evaluate(X_test_poetry_131, y_test_poetry)\n",
    "metrics_essay_131 = classifier_131.evaluate(X_test_essay_131, y_test_essay)\n",
    "metrics_story_131 = classifier_131.evaluate(X_test_story_131, y_test_story)\n",
    "\n",
    "print(f\"Metrics on poetry: {metrics_poetry_131}\")\n",
    "print(f\"Metrics on essay: {metrics_essay_131}\")\n",
    "print(f\"Metrics on story: {metrics_story_131}\")"
   ]
  },
  {
   "cell_type": "code",
   "execution_count": null,
   "metadata": {},
   "outputs": [],
   "source": []
  }
 ],
 "metadata": {
  "kernelspec": {
   "display_name": "py310-all",
   "language": "python",
   "name": "python3"
  },
  "language_info": {
   "codemirror_mode": {
    "name": "ipython",
    "version": 3
   },
   "file_extension": ".py",
   "mimetype": "text/x-python",
   "name": "python",
   "nbconvert_exporter": "python",
   "pygments_lexer": "ipython3",
   "version": "3.10.0"
  }
 },
 "nbformat": 4,
 "nbformat_minor": 2
}
