{
 "cells": [
  {
   "cell_type": "markdown",
   "metadata": {},
   "source": [
    "# **ESSAY MULTICLASS**"
   ]
  },
  {
   "cell_type": "markdown",
   "metadata": {},
   "source": [
    "## **Preliminary steps**"
   ]
  },
  {
   "cell_type": "code",
   "execution_count": 1,
   "metadata": {},
   "outputs": [],
   "source": [
    "### PACKAGES\n",
    "\n",
    "import matplotlib.pyplot as plt\n",
    "import numpy as np\n",
    "import pandas as pd\n",
    "import shap"
   ]
  },
  {
   "cell_type": "code",
   "execution_count": 2,
   "metadata": {},
   "outputs": [],
   "source": [
    "### FUNCTIONS\n",
    "\n",
    "from src.configs import constants, ml_config, names\n",
    "from src.libs import preprocessing, evaluation, visualization\n",
    "from src.embedding.tf_idf import TfIdfEmbedding\n",
    "from src.embedding.punctuation import PunctuationEmbedding\n",
    "from src.classifier.classifier import LightGBMClassifier, RFClassifier, NBClassifier"
   ]
  },
  {
   "cell_type": "markdown",
   "metadata": {},
   "source": [
    "## **DATA**"
   ]
  },
  {
   "cell_type": "code",
   "execution_count": 3,
   "metadata": {},
   "outputs": [
    {
     "name": "stdout",
     "output_type": "stream",
     "text": [
      "Time taken to load dataset: 0.014808893203735352 seconds\n",
      "Time taken to load dataset: 0.012117147445678711 seconds\n",
      "Time taken to load dataset: 0.3470017910003662 seconds\n",
      "Time taken to load dataset: 0.017599105834960938 seconds\n",
      "Time taken to load dataset: 0.017595529556274414 seconds\n",
      "Time taken to load dataset: 0.09989738464355469 seconds\n",
      "Time taken to load dataset: 0.02495574951171875 seconds\n",
      "Time taken to load dataset: 0.014901876449584961 seconds\n",
      "Time taken to load dataset: 0.026621341705322266 seconds\n"
     ]
    }
   ],
   "source": [
    "### LOAD DATA\n",
    "\n",
    "df_poetry_gpt = preprocessing.load_dataset(source=\"GPT\", type=\"POETRY\")\n",
    "df_poetry_bard = preprocessing.load_dataset(source=\"BARD\", type=\"POETRY\")\n",
    "df_poetry_human = preprocessing.load_dataset(source=\"Human\", type=\"POETRY\")\n",
    "\n",
    "df_essay_gpt = preprocessing.load_dataset(source=\"GPT\", type=\"ESSAY\")\n",
    "df_essay_bard = preprocessing.load_dataset(source=\"BARD\", type=\"ESSAY\")\n",
    "df_essay_human = preprocessing.load_dataset(source=\"Human\", type=\"ESSAY\")\n",
    "\n",
    "df_story_gpt = preprocessing.load_dataset(source=\"GPT\", type=\"STORY\")\n",
    "df_story_bard = preprocessing.load_dataset(source=\"BARD\", type=\"STORY\")\n",
    "df_story_human = preprocessing.load_dataset(source=\"Human\", type=\"STORY\")"
   ]
  },
  {
   "cell_type": "code",
   "execution_count": 4,
   "metadata": {},
   "outputs": [],
   "source": [
    "### GET TRAIN SPLIT\n",
    "\n",
    "df_train_poetry_gpt, df_test_poetry_gpt = preprocessing.train_valid_split(df_poetry_gpt)\n",
    "df_train_poetry_bard, df_test_poetry_bard = preprocessing.train_valid_split(\n",
    "    df_poetry_bard\n",
    ")\n",
    "df_train_poetry_human, df_test_poetry_human = preprocessing.train_valid_split(\n",
    "    df_poetry_human\n",
    ")\n",
    "\n",
    "df_train_essay_gpt, df_test_essay_gpt = preprocessing.train_valid_split(df_essay_gpt)\n",
    "df_train_essay_bard, df_test_essay_bard = preprocessing.train_valid_split(df_essay_bard)\n",
    "df_train_essay_human, df_test_essay_human = preprocessing.train_valid_split(\n",
    "    df_essay_human\n",
    ")\n",
    "\n",
    "df_train_story_gpt, df_test_story_gpt = preprocessing.train_valid_split(df_story_gpt)\n",
    "df_train_story_bard, df_test_story_bard = preprocessing.train_valid_split(df_story_bard)\n",
    "df_train_story_human, df_test_story_human = preprocessing.train_valid_split(\n",
    "    df_story_human\n",
    ")"
   ]
  },
  {
   "cell_type": "code",
   "execution_count": 5,
   "metadata": {},
   "outputs": [],
   "source": [
    "### GET FULL DATASETS\n",
    "\n",
    "df_train_essay = preprocessing.get_essay_dataset(\n",
    "    df_train_essay_gpt,\n",
    "    df_train_essay_bard,\n",
    "    df_train_essay_human,\n",
    "    samples_per_source=min(\n",
    "        len(df_train_essay_gpt), len(df_train_essay_bard), len(df_train_essay_human)\n",
    "    ),\n",
    ")\n",
    "df_test_essay = preprocessing.get_essay_dataset(\n",
    "    df_test_essay_gpt,\n",
    "    df_test_essay_bard,\n",
    "    df_test_essay_human,\n",
    "    samples_per_source=None,\n",
    ")\n",
    "\n",
    "df_test_poetry = preprocessing.get_poetry_dataset(\n",
    "    df_test_poetry_gpt,\n",
    "    df_test_poetry_bard,\n",
    "    df_test_poetry_human,\n",
    "    samples_per_source=None,\n",
    ")\n",
    "\n",
    "df_test_story = preprocessing.get_story_dataset(\n",
    "    df_test_story_gpt, df_test_story_bard, df_test_story_human, samples_per_source=None\n",
    ")"
   ]
  },
  {
   "cell_type": "code",
   "execution_count": 6,
   "metadata": {},
   "outputs": [],
   "source": [
    "### SPLIT FEATURES AND LABELS\n",
    "\n",
    "X_train_essay, y_train_essay = preprocessing.split_features_and_labels(df_train_essay)\n",
    "X_test_essay, y_test_essay = preprocessing.split_features_and_labels(df_test_essay)\n",
    "X_test_poetry, y_test_poetry = preprocessing.split_features_and_labels(df_test_poetry)\n",
    "X_test_story, y_test_story = preprocessing.split_features_and_labels(df_test_story)"
   ]
  },
  {
   "cell_type": "markdown",
   "metadata": {},
   "source": [
    "## **CLASSIFICATION USING PUNCTUATION & RANDOM FOREST**"
   ]
  },
  {
   "cell_type": "code",
   "execution_count": 7,
   "metadata": {},
   "outputs": [],
   "source": [
    "ID_EXPERIMENT = 211"
   ]
  },
  {
   "cell_type": "code",
   "execution_count": 8,
   "metadata": {},
   "outputs": [],
   "source": [
    "### EMBEDDING\n",
    "\n",
    "embedding_211 = PunctuationEmbedding(ID_EXPERIMENT)\n",
    "\n",
    "X_train_essay_211 = embedding_211.transform(X=X_train_essay)\n",
    "X_test_essay_211 = embedding_211.transform(X=X_test_essay)\n",
    "X_test_poetry_211 = embedding_211.transform(X=X_test_poetry)\n",
    "X_test_story_211 = embedding_211.transform(X=X_test_story)"
   ]
  },
  {
   "cell_type": "code",
   "execution_count": 9,
   "metadata": {},
   "outputs": [
    {
     "name": "stdout",
     "output_type": "stream",
     "text": [
      "Metrics on essay: {'accuracy': 0.7158671586715867, 'precision': 0.44126984126984126, 'recall': 0.6555330634278003, 'f1': 0.4489231698534024}\n",
      "Metrics on poetry: {'accuracy': 0.5426136363636364, 'precision': 0.3275215297036929, 'recall': 0.2502660861151427, 'f1': 0.24051501434948264}\n",
      "Metrics on story: {'accuracy': 0.6363636363636364, 'precision': 0.5198412698412699, 'recall': 0.5555555555555555, 'f1': 0.5206971677559913}\n"
     ]
    }
   ],
   "source": [
    "### CLASSIFIER\n",
    "\n",
    "classifier_211 = LightGBMClassifier(ID_EXPERIMENT)\n",
    "\n",
    "classifier_211.train(X_train=X_train_essay_211, y_train=y_train_essay)\n",
    "\n",
    "metrics_essay_211 = classifier_211.evaluate(X_test_essay_211, y_test_essay)\n",
    "metrics_poetry_211 = classifier_211.evaluate(X_test_poetry_211, y_test_poetry)\n",
    "metrics_story_211 = classifier_211.evaluate(X_test_story_211, y_test_story)\n",
    "\n",
    "print(f\"Metrics on essay: {metrics_essay_211}\")\n",
    "print(f\"Metrics on poetry: {metrics_poetry_211}\")\n",
    "print(f\"Metrics on story: {metrics_story_211}\")"
   ]
  },
  {
   "cell_type": "code",
   "execution_count": 10,
   "metadata": {},
   "outputs": [
    {
     "name": "stdout",
     "output_type": "stream",
     "text": [
      "ratio_words_per_sentence: 2092\n",
      "ratio_punctuations: 1999\n",
      "ratio_odd_characters: 1944\n"
     ]
    }
   ],
   "source": [
    "### INTERPRETABILITY - FEATURE IMPORTANCE\n",
    "\n",
    "dim_names_211 = embedding_211.map_dimensions_to_names()\n",
    "feature_importances_211 = classifier_211.get_feature_importance()\n",
    "most_important_features_211 = np.argsort(feature_importances_211)[-10:][::-1]\n",
    "for i in most_important_features_211:\n",
    "    print(f\"{dim_names_211[i]}: {feature_importances_211[i]}\")"
   ]
  },
  {
   "cell_type": "code",
   "execution_count": 11,
   "metadata": {},
   "outputs": [
    {
     "data": {
      "image/png": "[encoded data removed]",
      "text/plain": [
       "<Figure size 800x270 with 1 Axes>"
      ]
     },
     "metadata": {},
     "output_type": "display_data"
    }
   ],
   "source": [
    "### INTERPRETABILITY - SHAP VALUES\n",
    "\n",
    "explainer_211 = shap.Explainer(classifier_211.classifier)\n",
    "\n",
    "if hasattr(X_test_essay_211, \"toarray\"):\n",
    "    X_test_essay_211 = X_test_essay_211.toarray()\n",
    "\n",
    "# Calculate SHAP values\n",
    "shap_values_211 = explainer_211(X_test_essay_211)\n",
    "\n",
    "# Visualize the SHAP values\n",
    "shap.summary_plot(shap_values_211, X_test_essay_211, feature_names=dim_names_211)"
   ]
  },
  {
   "cell_type": "markdown",
   "metadata": {},
   "source": [
    "## **CLASSIFICATION USING TF-IDF & LGBM**"
   ]
  },
  {
   "cell_type": "code",
   "execution_count": 12,
   "metadata": {},
   "outputs": [],
   "source": [
    "ID_EXPERIMENT = 111"
   ]
  },
  {
   "cell_type": "code",
   "execution_count": 13,
   "metadata": {},
   "outputs": [],
   "source": [
    "### EMBEDDING\n",
    "\n",
    "embedding_111 = TfIdfEmbedding(ID_EXPERIMENT)\n",
    "\n",
    "embedding_111.fit(X=X_train_essay)\n",
    "\n",
    "X_train_essay_111 = embedding_111.transform(X=X_train_essay)\n",
    "X_test_essay_111 = embedding_111.transform(X=X_test_essay)\n",
    "X_test_poetry_111 = embedding_111.transform(X=X_test_poetry)\n",
    "X_test_story_111 = embedding_111.transform(X=X_test_story)"
   ]
  },
  {
   "cell_type": "code",
   "execution_count": 14,
   "metadata": {},
   "outputs": [
    {
     "name": "stdout",
     "output_type": "stream",
     "text": [
      "Metrics on essay: {'accuracy': 0.981549815498155, 'precision': 0.9430839002267574, 'recall': 0.8292847503373819, 'f1': 0.8558758314855875}\n",
      "Metrics on poetry: {'accuracy': 0.1534090909090909, 'precision': 0.3344771516197873, 'recall': 0.3402612481857765, 'f1': 0.09429801894918173}\n",
      "Metrics on story: {'accuracy': 0.5272727272727272, 'precision': 0.572463768115942, 'recall': 0.5333333333333333, 'f1': 0.5119497924547013}\n"
     ]
    }
   ],
   "source": [
    "### CLASSIFIER\n",
    "\n",
    "classifier_111 = LightGBMClassifier(ID_EXPERIMENT)\n",
    "\n",
    "classifier_111.train(X_train=X_train_essay_111, y_train=y_train_essay)\n",
    "\n",
    "metrics_essay_111 = classifier_111.evaluate(X_test_essay_111, y_test_essay)\n",
    "metrics_poetry_111 = classifier_111.evaluate(X_test_poetry_111, y_test_poetry)\n",
    "metrics_story_111 = classifier_111.evaluate(X_test_story_111, y_test_story)\n",
    "\n",
    "print(f\"Metrics on essay: {metrics_essay_111}\")\n",
    "print(f\"Metrics on poetry: {metrics_poetry_111}\")\n",
    "print(f\"Metrics on story: {metrics_story_111}\")"
   ]
  },
  {
   "cell_type": "code",
   "execution_count": 15,
   "metadata": {},
   "outputs": [
    {
     "name": "stdout",
     "output_type": "stream",
     "text": [
      "really: 302\n",
      "just: 269\n",
      "help: 226\n",
      "make: 216\n",
      "believe: 175\n",
      "like: 175\n",
      "know: 165\n",
      "conclusion: 156\n",
      "specific: 156\n",
      "going: 125\n"
     ]
    }
   ],
   "source": [
    "### INTERPRETABILITY - FEATURE IMPORTANCE\n",
    "\n",
    "dim_names_111 = embedding_111.map_dimensions_to_names()\n",
    "feature_importances_111 = classifier_111.get_feature_importance()\n",
    "most_important_features_111 = np.argsort(feature_importances_111)[-10:][::-1]\n",
    "for i in most_important_features_111:\n",
    "    print(f\"{dim_names_111[i]}: {feature_importances_111[i]}\")"
   ]
  },
  {
   "cell_type": "code",
   "execution_count": 16,
   "metadata": {},
   "outputs": [
    {
     "data": {
      "image/png": "[encoded data removed]",
      "text/plain": [
       "<Figure size 800x950 with 1 Axes>"
      ]
     },
     "metadata": {},
     "output_type": "display_data"
    }
   ],
   "source": [
    "### INTERPRETABILITY - SHAP VALUES\n",
    "\n",
    "explainer_111 = shap.Explainer(classifier_111.classifier)\n",
    "\n",
    "if hasattr(X_test_essay_111, \"toarray\"):\n",
    "    X_test_essay_111 = X_test_essay_111.toarray()\n",
    "\n",
    "# Calculate SHAP values\n",
    "shap_values_111 = explainer_111(X_test_essay_111)\n",
    "\n",
    "\n",
    "# Visualize the SHAP values\n",
    "shap.summary_plot(shap_values_111, X_test_essay_111, feature_names=dim_names_111)"
   ]
  },
  {
   "cell_type": "markdown",
   "metadata": {},
   "source": [
    "## **CLASSIFICATION USING TF-IDF & RANDOM FOREST**"
   ]
  },
  {
   "cell_type": "code",
   "execution_count": 17,
   "metadata": {},
   "outputs": [],
   "source": [
    "ID_EXPERIMENT = 121"
   ]
  },
  {
   "cell_type": "code",
   "execution_count": 18,
   "metadata": {},
   "outputs": [],
   "source": [
    "### EMBEDDING\n",
    "\n",
    "embedding_121 = TfIdfEmbedding(ID_EXPERIMENT)\n",
    "\n",
    "embedding_121.fit(X=X_train_essay)\n",
    "\n",
    "X_train_essay_121 = embedding_121.transform(X=X_train_essay)\n",
    "X_test_essay_121 = embedding_121.transform(X=X_test_essay)\n",
    "X_test_poetry_121 = embedding_121.transform(X=X_test_poetry)\n",
    "X_test_story_121 = embedding_121.transform(X=X_test_story)"
   ]
  },
  {
   "cell_type": "code",
   "execution_count": 19,
   "metadata": {},
   "outputs": [
    {
     "name": "stdout",
     "output_type": "stream",
     "text": [
      "Metrics on essay: {'accuracy': 0.985239852398524, 'precision': 0.8477732793522267, 'recall': 0.8819838056680162, 'f1': 0.8618983355825461}\n",
      "Metrics on poetry: {'accuracy': 0.2059659090909091, 'precision': 0.3362840862840863, 'recall': 0.3319787131107886, 'f1': 0.12193222291475982}\n",
      "Metrics on story: {'accuracy': 0.6181818181818182, 'precision': 0.5888888888888889, 'recall': 0.5888888888888889, 'f1': 0.5695238095238095}\n"
     ]
    }
   ],
   "source": [
    "### CLASSIFIER\n",
    "\n",
    "classifier_121 = RFClassifier(ID_EXPERIMENT)\n",
    "\n",
    "classifier_121.train(X_train=X_train_essay_121, y_train=y_train_essay)\n",
    "\n",
    "metrics_essay_121 = classifier_121.evaluate(X_test_essay_121, y_test_essay)\n",
    "metrics_poetry_121 = classifier_121.evaluate(X_test_poetry_121, y_test_poetry)\n",
    "metrics_story_121 = classifier_121.evaluate(X_test_story_121, y_test_story)\n",
    "\n",
    "print(f\"Metrics on essay: {metrics_essay_121}\")\n",
    "print(f\"Metrics on poetry: {metrics_poetry_121}\")\n",
    "print(f\"Metrics on story: {metrics_story_121}\")"
   ]
  },
  {
   "cell_type": "markdown",
   "metadata": {},
   "source": [
    "## **CLASSIFICATION USING TF-IDF & NAIVE BAYES**"
   ]
  },
  {
   "cell_type": "code",
   "execution_count": 20,
   "metadata": {},
   "outputs": [],
   "source": [
    "ID_EXPERIMENT = 131"
   ]
  },
  {
   "cell_type": "code",
   "execution_count": 21,
   "metadata": {},
   "outputs": [],
   "source": [
    "### EMBEDDING\n",
    "\n",
    "embedding_131 = TfIdfEmbedding(ID_EXPERIMENT)\n",
    "\n",
    "embedding_131.fit(X=X_train_essay)\n",
    "\n",
    "X_train_essay_131 = embedding_131.transform(X=X_train_essay)\n",
    "X_test_essay_131 = embedding_131.transform(X=X_test_essay)\n",
    "X_test_poetry_131 = embedding_131.transform(X=X_test_poetry)\n",
    "X_test_story_131 = embedding_131.transform(X=X_test_story)"
   ]
  },
  {
   "cell_type": "code",
   "execution_count": 22,
   "metadata": {},
   "outputs": [
    {
     "name": "stdout",
     "output_type": "stream",
     "text": [
      "Metrics on essay: {'accuracy': 0.9520295202952029, 'precision': 0.7204678362573099, 'recall': 0.9365047233468285, 'f1': 0.7573954487830085}\n",
      "Metrics on poetry: {'accuracy': 0.15696022727272727, 'precision': 0.3419070600198149, 'recall': 0.3293468795355588, 'f1': 0.10253195808598849}\n",
      "Metrics on story: {'accuracy': 0.5818181818181818, 'precision': 0.39057239057239057, 'recall': 0.4444444444444445, 'f1': 0.41558441558441556}\n"
     ]
    }
   ],
   "source": [
    "### CLASSIFIER\n",
    "\n",
    "classifier_131 = NBClassifier(ID_EXPERIMENT)\n",
    "\n",
    "classifier_131.train(X_train=X_train_essay_131, y_train=y_train_essay)\n",
    "\n",
    "metrics_essay_131 = classifier_131.evaluate(X_test_essay_131, y_test_essay)\n",
    "metrics_poetry_131 = classifier_131.evaluate(X_test_poetry_131, y_test_poetry)\n",
    "metrics_story_131 = classifier_131.evaluate(X_test_story_131, y_test_story)\n",
    "\n",
    "print(f\"Metrics on essay: {metrics_essay_131}\")\n",
    "print(f\"Metrics on poetry: {metrics_poetry_131}\")\n",
    "print(f\"Metrics on story: {metrics_story_131}\")"
   ]
  },
  {
   "cell_type": "code",
   "execution_count": null,
   "metadata": {},
   "outputs": [],
   "source": []
  }
 ],
 "metadata": {
  "kernelspec": {
   "display_name": "py310-all",
   "language": "python",
   "name": "python3"
  },
  "language_info": {
   "codemirror_mode": {
    "name": "ipython",
    "version": 3
   },
   "file_extension": ".py",
   "mimetype": "text/x-python",
   "name": "python",
   "nbconvert_exporter": "python",
   "pygments_lexer": "ipython3",
   "version": "3.10.0"
  }
 },
 "nbformat": 4,
 "nbformat_minor": 2
}
