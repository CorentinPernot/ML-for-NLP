{
 "cells": [
  {
   "cell_type": "markdown",
   "metadata": {},
   "source": [
    "# **FULL DATASET MULTICLASS**"
   ]
  },
  {
   "cell_type": "markdown",
   "metadata": {},
   "source": [
    "## **Preliminary steps**"
   ]
  },
  {
   "cell_type": "code",
   "execution_count": 16,
   "metadata": {},
   "outputs": [],
   "source": [
    "### PACKAGES\n",
    "\n",
    "import matplotlib.pyplot as plt\n",
    "import numpy as np\n",
    "import pandas as pd\n",
    "import shap"
   ]
  },
  {
   "cell_type": "code",
   "execution_count": 17,
   "metadata": {},
   "outputs": [],
   "source": [
    "### FUNCTIONS\n",
    "\n",
    "from src.configs import constants, ml_config, names\n",
    "from src.libs import preprocessing, evaluation, visualization\n",
    "from src.embedding.tf_idf import TfIdfEmbedding\n",
    "from src.embedding.punctuation import PunctuationEmbedding\n",
    "from src.classifier.classifier import LightGBMClassifier, RFClassifier, NBClassifier"
   ]
  },
  {
   "cell_type": "markdown",
   "metadata": {},
   "source": [
    "## **DATA**"
   ]
  },
  {
   "cell_type": "code",
   "execution_count": 18,
   "metadata": {},
   "outputs": [
    {
     "name": "stdout",
     "output_type": "stream",
     "text": [
      "Time taken to load dataset: 0.008483171463012695 seconds\n",
      "Time taken to load dataset: 0.007658720016479492 seconds\n",
      "Time taken to load dataset: 0.36322879791259766 seconds\n",
      "Time taken to load dataset: 0.016533613204956055 seconds\n",
      "Time taken to load dataset: 0.011862993240356445 seconds\n",
      "Time taken to load dataset: 0.09612822532653809 seconds\n",
      "Time taken to load dataset: 0.00984334945678711 seconds\n",
      "Time taken to load dataset: 0.019774675369262695 seconds\n",
      "Time taken to load dataset: 0.014120817184448242 seconds\n"
     ]
    }
   ],
   "source": [
    "### LOAD DATA\n",
    "\n",
    "df_poetry_gpt = preprocessing.load_dataset(source=\"GPT\", type=\"POETRY\")\n",
    "df_poetry_bard = preprocessing.load_dataset(source=\"BARD\", type=\"POETRY\")\n",
    "df_poetry_human = preprocessing.load_dataset(source=\"Human\", type=\"POETRY\")\n",
    "\n",
    "df_essay_gpt = preprocessing.load_dataset(source=\"GPT\", type=\"ESSAY\")\n",
    "df_essay_bard = preprocessing.load_dataset(source=\"BARD\", type=\"ESSAY\")\n",
    "df_essay_human = preprocessing.load_dataset(source=\"Human\", type=\"ESSAY\")\n",
    "\n",
    "df_story_gpt = preprocessing.load_dataset(source=\"GPT\", type=\"STORY\")\n",
    "df_story_bard = preprocessing.load_dataset(source=\"BARD\", type=\"STORY\")\n",
    "df_story_human = preprocessing.load_dataset(source=\"Human\", type=\"STORY\")"
   ]
  },
  {
   "cell_type": "code",
   "execution_count": 19,
   "metadata": {},
   "outputs": [],
   "source": [
    "### GET TRAIN SPLIT\n",
    "\n",
    "df_train_poetry_gpt, df_test_poetry_gpt = preprocessing.train_valid_split(df_poetry_gpt)\n",
    "df_train_poetry_bard, df_test_poetry_bard = preprocessing.train_valid_split(\n",
    "    df_poetry_bard\n",
    ")\n",
    "df_train_poetry_human, df_test_poetry_human = preprocessing.train_valid_split(\n",
    "    df_poetry_human\n",
    ")\n",
    "\n",
    "df_train_essay_gpt, df_test_essay_gpt = preprocessing.train_valid_split(df_essay_gpt)\n",
    "df_train_essay_bard, df_test_essay_bard = preprocessing.train_valid_split(df_essay_bard)\n",
    "df_train_essay_human, df_test_essay_human = preprocessing.train_valid_split(\n",
    "    df_essay_human\n",
    ")\n",
    "\n",
    "df_train_story_gpt, df_test_story_gpt = preprocessing.train_valid_split(df_story_gpt)\n",
    "df_train_story_bard, df_test_story_bard = preprocessing.train_valid_split(df_story_bard)\n",
    "df_train_story_human, df_test_story_human = preprocessing.train_valid_split(\n",
    "    df_story_human\n",
    ")"
   ]
  },
  {
   "cell_type": "code",
   "execution_count": 20,
   "metadata": {},
   "outputs": [],
   "source": [
    "### GET FULL DATASETS\n",
    "\n",
    "df_train_poetry = preprocessing.get_poetry_dataset(\n",
    "    df_train_poetry_gpt,\n",
    "    df_train_poetry_bard,\n",
    "    df_train_poetry_human,\n",
    "    samples_per_source=min(\n",
    "        len(df_train_poetry_gpt), len(df_train_poetry_bard), len(df_train_poetry_human)\n",
    "    ),\n",
    ")\n",
    "df_test_poetry = preprocessing.get_poetry_dataset(\n",
    "    df_test_poetry_gpt,\n",
    "    df_test_poetry_bard,\n",
    "    df_test_poetry_human,\n",
    "    samples_per_source=None,\n",
    ")\n",
    "\n",
    "df_train_essay = preprocessing.get_essay_dataset(\n",
    "    df_train_essay_gpt,\n",
    "    df_train_essay_bard,\n",
    "    df_train_essay_human,\n",
    "    samples_per_source=min(\n",
    "        len(df_train_essay_gpt), len(df_train_essay_bard), len(df_train_essay_human)\n",
    "    ),\n",
    ")\n",
    "df_test_essay = preprocessing.get_essay_dataset(\n",
    "    df_test_essay_gpt, df_test_essay_bard, df_test_essay_human, samples_per_source=None\n",
    ")\n",
    "\n",
    "df_train_story = preprocessing.get_story_dataset(\n",
    "    df_train_story_gpt,\n",
    "    df_train_story_bard,\n",
    "    df_train_story_human,\n",
    "    samples_per_source=min(\n",
    "        len(df_train_story_gpt), len(df_train_story_bard), len(df_train_story_human)\n",
    "    ),\n",
    ")\n",
    "df_test_story = preprocessing.get_story_dataset(\n",
    "    df_test_story_gpt, df_test_story_bard, df_test_story_human, samples_per_source=None\n",
    ")"
   ]
  },
  {
   "cell_type": "code",
   "execution_count": 21,
   "metadata": {},
   "outputs": [],
   "source": [
    "### CONCATENATE ALL DATASETS\n",
    "\n",
    "df_train = pd.concat([df_train_poetry, df_train_essay, df_train_story], axis=0).sample(\n",
    "    frac=1\n",
    ")\n",
    "df_test = pd.concat([df_test_poetry, df_test_essay, df_test_story], axis=0).sample(\n",
    "    frac=1\n",
    ")\n"
   ]
  },
  {
   "cell_type": "code",
   "execution_count": 22,
   "metadata": {},
   "outputs": [],
   "source": [
    "### SPLIT FEATURES AND LABELS\n",
    "\n",
    "X_train, y_train = preprocessing.split_features_and_labels(df_train)\n",
    "X_test, y_test = preprocessing.split_features_and_labels(df_test)\n",
    "X_test_poetry, y_test_poetry = preprocessing.split_features_and_labels(df_test_poetry)\n",
    "X_test_essay, y_test_essay = preprocessing.split_features_and_labels(df_test_essay)\n",
    "X_test_story, y_test_story = preprocessing.split_features_and_labels(df_test_story)"
   ]
  },
  {
   "cell_type": "markdown",
   "metadata": {},
   "source": [
    "## **CLASSIFICATION USING PUNCTUATION & RANDOM FOREST**"
   ]
  },
  {
   "cell_type": "code",
   "execution_count": 23,
   "metadata": {},
   "outputs": [],
   "source": [
    "ID_EXPERIMENT = 211"
   ]
  },
  {
   "cell_type": "code",
   "execution_count": 24,
   "metadata": {},
   "outputs": [],
   "source": [
    "### EMBEDDING\n",
    "\n",
    "embedding_211 = PunctuationEmbedding(ID_EXPERIMENT)\n",
    "\n",
    "X_train_211 = embedding_211.transform(X=X_train)\n",
    "X_test_211 = embedding_211.transform(X=X_test)\n",
    "X_test_poetry_211 = embedding_211.transform(X=X_test_poetry)\n",
    "X_test_essay_211 = embedding_211.transform(X=X_test_essay)\n",
    "X_test_story_211 = embedding_211.transform(X=X_test_story)"
   ]
  },
  {
   "cell_type": "code",
   "execution_count": 25,
   "metadata": {},
   "outputs": [
    {
     "name": "stdout",
     "output_type": "stream",
     "text": [
      "Metrics on test set: {'accuracy': 0.6309111880046137, 'precision': 0.3979713450397316, 'recall': 0.7211656906778857, 'f1': 0.37520977802108924}\n",
      "Metrics on poetry: {'accuracy': 0.6292613636363636, 'precision': 0.3592549499764622, 'recall': 0.688514755684567, 'f1': 0.3062134576235997}\n",
      "Metrics on essay: {'accuracy': 0.6125461254612546, 'precision': 0.42194891201513723, 'recall': 0.6330634278002699, 'f1': 0.3971125468612906}\n",
      "Metrics on story: {'accuracy': 0.7636363636363637, 'precision': 0.7015873015873016, 'recall': 0.688888888888889, 'f1': 0.6881758764111705}\n"
     ]
    }
   ],
   "source": [
    "### CLASSIFIER\n",
    "\n",
    "classifier_211 = LightGBMClassifier(ID_EXPERIMENT)\n",
    "\n",
    "classifier_211.train(X_train=X_train_211, y_train=y_train)\n",
    "\n",
    "metrics_211 = classifier_211.evaluate(X_test_211, y_test)\n",
    "metrics_poetry_211 = classifier_211.evaluate(X_test_poetry_211, y_test_poetry)\n",
    "metrics_essay_211 = classifier_211.evaluate(X_test_essay_211, y_test_essay)\n",
    "metrics_story_211 = classifier_211.evaluate(X_test_story_211, y_test_story)\n",
    "\n",
    "print(f\"Metrics on test set: {metrics_211}\")\n",
    "print(f\"Metrics on poetry: {metrics_poetry_211}\")\n",
    "print(f\"Metrics on essay: {metrics_essay_211}\")\n",
    "print(f\"Metrics on story: {metrics_story_211}\")"
   ]
  },
  {
   "cell_type": "code",
   "execution_count": 26,
   "metadata": {},
   "outputs": [
    {
     "name": "stdout",
     "output_type": "stream",
     "text": [
      "ratio_words_per_sentence: 2946\n",
      "ratio_odd_characters: 2775\n",
      "ratio_punctuations: 2606\n"
     ]
    }
   ],
   "source": [
    "### INTERPRETABILITY - FEATURE IMPORTANCE\n",
    "\n",
    "dim_names_211 = embedding_211.map_dimensions_to_names()\n",
    "feature_importances_211 = classifier_211.get_feature_importance()\n",
    "most_important_features_211 = np.argsort(feature_importances_211)[-10:][::-1]\n",
    "for i in most_important_features_211:\n",
    "    print(f\"{dim_names_211[i]}: {feature_importances_211[i]}\")"
   ]
  },
  {
   "cell_type": "code",
   "execution_count": 27,
   "metadata": {},
   "outputs": [
    {
     "data": {
      "image/png": "[encoded data removed]",
      "text/plain": [
       "<Figure size 800x270 with 1 Axes>"
      ]
     },
     "metadata": {},
     "output_type": "display_data"
    }
   ],
   "source": [
    "### INTERPRETABILITY - SHAP VALUES\n",
    "\n",
    "explainer_211 = shap.Explainer(classifier_211.classifier)\n",
    "\n",
    "if hasattr(X_test_211, \"toarray\"):\n",
    "    X_test_211 = X_test_211.toarray()\n",
    "\n",
    "# Calculate SHAP values\n",
    "shap_values_211 = explainer_211(X_test_211)\n",
    "\n",
    "# Visualize the SHAP values\n",
    "shap.summary_plot(shap_values_211, X_test_211, feature_names=dim_names_211)"
   ]
  },
  {
   "cell_type": "markdown",
   "metadata": {},
   "source": [
    "## **CLASSIFICATION USING TF-IDF & LGBM**"
   ]
  },
  {
   "cell_type": "code",
   "execution_count": 28,
   "metadata": {},
   "outputs": [],
   "source": [
    "ID_EXPERIMENT = 111"
   ]
  },
  {
   "cell_type": "code",
   "execution_count": 29,
   "metadata": {},
   "outputs": [],
   "source": [
    "### EMBEDDING\n",
    "\n",
    "embedding_111 = TfIdfEmbedding(ID_EXPERIMENT)\n",
    "\n",
    "embedding_111.fit(X=X_train)\n",
    "\n",
    "X_train_111 = embedding_111.transform(X=X_train)\n",
    "X_test_111 = embedding_111.transform(X=X_test)\n",
    "X_test_poetry_111 = embedding_111.transform(X=X_test_poetry)\n",
    "X_test_essay_111 = embedding_111.transform(X=X_test_essay)\n",
    "X_test_story_111 = embedding_111.transform(X=X_test_story)"
   ]
  },
  {
   "cell_type": "code",
   "execution_count": 30,
   "metadata": {},
   "outputs": [
    {
     "name": "stdout",
     "output_type": "stream",
     "text": [
      "Metrics on test set: {'accuracy': 0.9134948096885813, 'precision': 0.6032592248368881, 'recall': 0.8457904561563098, 'f1': 0.6742879059985771}\n",
      "Metrics on poetry: {'accuracy': 0.9055397727272727, 'precision': 0.41297189666684275, 'recall': 0.7161877116594098, 'f1': 0.4511629704184969}\n",
      "Metrics on essay: {'accuracy': 0.966789667896679, 'precision': 0.7459349593495935, 'recall': 0.7779352226720647, 'f1': 0.7600818871609946}\n",
      "Metrics on story: {'accuracy': 0.8545454545454545, 'precision': 0.8059139784946238, 'recall': 0.7444444444444445, 'f1': 0.737392661982826}\n"
     ]
    }
   ],
   "source": [
    "### CLASSIFIER\n",
    "\n",
    "classifier_111 = LightGBMClassifier(ID_EXPERIMENT)\n",
    "\n",
    "classifier_111.train(X_train=X_train_111, y_train=y_train)\n",
    "\n",
    "metrics_111 = classifier_111.evaluate(X_test_111, y_test)\n",
    "metrics_poetry_111 = classifier_111.evaluate(X_test_poetry_111, y_test_poetry)\n",
    "metrics_essay_111 = classifier_111.evaluate(X_test_essay_111, y_test_essay)\n",
    "metrics_story_111 = classifier_111.evaluate(X_test_story_111, y_test_story)\n",
    "\n",
    "print(f\"Metrics on test set: {metrics_111}\")\n",
    "print(f\"Metrics on poetry: {metrics_poetry_111}\")\n",
    "print(f\"Metrics on essay: {metrics_essay_111}\")\n",
    "print(f\"Metrics on story: {metrics_story_111}\")"
   ]
  },
  {
   "cell_type": "code",
   "execution_count": 31,
   "metadata": {},
   "outputs": [
    {
     "name": "stdout",
     "output_type": "stream",
     "text": [
      "like: 383\n",
      "world: 292\n",
      "help: 269\n",
      "time: 193\n",
      "make: 189\n",
      "know: 185\n",
      "really: 180\n",
      "believe: 150\n",
      "people: 138\n",
      "heart: 132\n"
     ]
    }
   ],
   "source": [
    "### INTERPRETABILITY - FEATURE IMPORTANCE\n",
    "\n",
    "dim_names_111 = embedding_111.map_dimensions_to_names()\n",
    "feature_importances_111 = classifier_111.get_feature_importance()\n",
    "most_important_features_111 = np.argsort(feature_importances_111)[-10:][::-1]\n",
    "for i in most_important_features_111:\n",
    "    print(f\"{dim_names_111[i]}: {feature_importances_111[i]}\")"
   ]
  },
  {
   "cell_type": "code",
   "execution_count": 32,
   "metadata": {},
   "outputs": [
    {
     "data": {
      "image/png": "[encoded data removed]",
      "text/plain": [
       "<Figure size 800x950 with 1 Axes>"
      ]
     },
     "metadata": {},
     "output_type": "display_data"
    }
   ],
   "source": [
    "### INTERPRETABILITY - SHAP VALUES\n",
    "\n",
    "explainer_111 = shap.Explainer(classifier_111.classifier)\n",
    "\n",
    "if hasattr(X_test_111, \"toarray\"):\n",
    "    X_test_111 = X_test_111.toarray()\n",
    "\n",
    "# Calculate SHAP values\n",
    "shap_values_111 = explainer_111(X_test_111)\n",
    "\n",
    "\n",
    "# Visualize the SHAP values\n",
    "shap.summary_plot(shap_values_111, X_test_111, feature_names=dim_names_111)"
   ]
  },
  {
   "cell_type": "markdown",
   "metadata": {},
   "source": [
    "## **CLASSIFICATION USING TF-IDF & RANDOM FOREST**"
   ]
  },
  {
   "cell_type": "code",
   "execution_count": 33,
   "metadata": {},
   "outputs": [],
   "source": [
    "ID_EXPERIMENT = 121"
   ]
  },
  {
   "cell_type": "code",
   "execution_count": 34,
   "metadata": {},
   "outputs": [],
   "source": [
    "### EMBEDDING\n",
    "\n",
    "embedding_121 = TfIdfEmbedding(ID_EXPERIMENT)\n",
    "\n",
    "embedding_121.fit(X=X_train)\n",
    "\n",
    "X_train_121 = embedding_121.transform(X=X_train)\n",
    "X_test_121 = embedding_121.transform(X=X_test)\n",
    "X_test_poetry_121 = embedding_121.transform(X=X_test_poetry)\n",
    "X_test_essay_121 = embedding_121.transform(X=X_test_essay)\n",
    "X_test_story_121 = embedding_121.transform(X=X_test_story)"
   ]
  },
  {
   "cell_type": "code",
   "execution_count": 35,
   "metadata": {},
   "outputs": [
    {
     "name": "stdout",
     "output_type": "stream",
     "text": [
      "Metrics on test: {'accuracy': 0.6343713956170703, 'precision': 0.49340036598101117, 'recall': 0.7449300699300699, 'f1': 0.48487192262977014}\n",
      "Metrics on poetry: {'accuracy': 0.5646306818181818, 'precision': 0.37054409005628525, 'recall': 0.6926850507982584, 'f1': 0.30687315059960774}\n",
      "Metrics on essay: {'accuracy': 0.974169741697417, 'precision': 0.771787603930461, 'recall': 0.8626180836707152, 'f1': 0.7955355869348167}\n",
      "Metrics on story: {'accuracy': 0.7454545454545455, 'precision': 0.6588296760710554, 'recall': 0.6333333333333333, 'f1': 0.6165390572170234}\n"
     ]
    }
   ],
   "source": [
    "### CLASSIFIER\n",
    "\n",
    "classifier_121 = RFClassifier(ID_EXPERIMENT)\n",
    "\n",
    "classifier_121.train(X_train=X_train_121, y_train=y_train)\n",
    "\n",
    "metrics_121 = classifier_121.evaluate(X_test_121, y_test)\n",
    "metrics_poetry_121 = classifier_121.evaluate(X_test_poetry_121, y_test_poetry)\n",
    "metrics_essay_121 = classifier_121.evaluate(X_test_essay_121, y_test_essay)\n",
    "metrics_story_121 = classifier_121.evaluate(X_test_story_121, y_test_story)\n",
    "\n",
    "print(f\"Metrics on test: {metrics_121}\")\n",
    "print(f\"Metrics on poetry: {metrics_poetry_121}\")\n",
    "print(f\"Metrics on essay: {metrics_essay_121}\")\n",
    "print(f\"Metrics on story: {metrics_story_121}\")"
   ]
  },
  {
   "cell_type": "markdown",
   "metadata": {},
   "source": [
    "## **CLASSIFICATION USING TF-IDF & NAIVE BAYES**"
   ]
  },
  {
   "cell_type": "code",
   "execution_count": 36,
   "metadata": {},
   "outputs": [],
   "source": [
    "ID_EXPERIMENT = 131"
   ]
  },
  {
   "cell_type": "code",
   "execution_count": 37,
   "metadata": {},
   "outputs": [],
   "source": [
    "### EMBEDDING\n",
    "\n",
    "embedding_131 = TfIdfEmbedding(ID_EXPERIMENT)\n",
    "\n",
    "embedding_131.fit(X=X_train)\n",
    "\n",
    "X_train_131 = embedding_131.transform(X=X_train)\n",
    "X_test_131 = embedding_131.transform(X=X_test)\n",
    "X_test_poetry_131 = embedding_131.transform(X=X_test_poetry)\n",
    "X_test_essay_131 = embedding_131.transform(X=X_test_essay)\n",
    "X_test_story_131 = embedding_131.transform(X=X_test_story)"
   ]
  },
  {
   "cell_type": "code",
   "execution_count": 38,
   "metadata": {},
   "outputs": [
    {
     "name": "stdout",
     "output_type": "stream",
     "text": [
      "Metrics on test: {'accuracy': 0.532871972318339, 'precision': 0.4041572374486631, 'recall': 0.6839591979835881, 'f1': 0.3479395628994695}\n",
      "Metrics on poetry: {'accuracy': 0.4424715909090909, 'precision': 0.37025201233732036, 'recall': 0.718471214320271, 'f1': 0.26744912955784267}\n",
      "Metrics on essay: {'accuracy': 0.940959409594096, 'precision': 0.6458333333333334, 'recall': 0.7279352226720648, 'f1': 0.6181122448979591}\n",
      "Metrics on story: {'accuracy': 0.8363636363636363, 'precision': 0.7825396825396825, 'recall': 0.7555555555555555, 'f1': 0.7607248960190137}\n"
     ]
    }
   ],
   "source": [
    "### CLASSIFIER\n",
    "\n",
    "classifier_131 = NBClassifier(ID_EXPERIMENT)\n",
    "\n",
    "classifier_131.train(X_train=X_train_131, y_train=y_train)\n",
    "\n",
    "metrics_131 = classifier_131.evaluate(X_test_131, y_test)\n",
    "metrics_poetry_131 = classifier_131.evaluate(X_test_poetry_131, y_test_poetry)\n",
    "metrics_essay_131 = classifier_131.evaluate(X_test_essay_131, y_test_essay)\n",
    "metrics_story_131 = classifier_131.evaluate(X_test_story_131, y_test_story)\n",
    "\n",
    "print(f\"Metrics on test: {metrics_131}\")\n",
    "print(f\"Metrics on poetry: {metrics_poetry_131}\")\n",
    "print(f\"Metrics on essay: {metrics_essay_131}\")\n",
    "print(f\"Metrics on story: {metrics_story_131}\")"
   ]
  },
  {
   "cell_type": "code",
   "execution_count": null,
   "metadata": {},
   "outputs": [],
   "source": []
  }
 ],
 "metadata": {
  "kernelspec": {
   "display_name": "py310-all",
   "language": "python",
   "name": "python3"
  },
  "language_info": {
   "codemirror_mode": {
    "name": "ipython",
    "version": 3
   },
   "file_extension": ".py",
   "mimetype": "text/x-python",
   "name": "python",
   "nbconvert_exporter": "python",
   "pygments_lexer": "ipython3",
   "version": "3.10.0"
  }
 },
 "nbformat": 4,
 "nbformat_minor": 2
}
