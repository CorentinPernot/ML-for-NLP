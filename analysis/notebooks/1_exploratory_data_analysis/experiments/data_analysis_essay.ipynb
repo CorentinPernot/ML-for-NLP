{
 "cells": [
  {
   "cell_type": "markdown",
   "metadata": {},
   "source": [
    "# **Analysis of the data**"
   ]
  },
  {
   "cell_type": "markdown",
   "metadata": {},
   "source": [
    "## **Preliminary steps**"
   ]
  },
  {
   "cell_type": "code",
   "execution_count": 1,
   "metadata": {},
   "outputs": [],
   "source": [
    "### PACKAGES\n",
    "\n",
    "import pandas as pd\n",
    "import numpy as np"
   ]
  },
  {
   "cell_type": "code",
   "execution_count": null,
   "metadata": {},
   "outputs": [],
   "source": [
    "### FUNCTIONS\n",
    "\n",
    "from src.libs import preprocessing, visualization\n",
    "\n",
    "from src.configs import names, constants"
   ]
  },
  {
   "cell_type": "code",
   "execution_count": 3,
   "metadata": {},
   "outputs": [],
   "source": [
    "pd.set_option(\"display.max_columns\", None)"
   ]
  },
  {
   "cell_type": "markdown",
   "metadata": {},
   "source": [
    "## **RAW DATA**"
   ]
  },
  {
   "cell_type": "code",
   "execution_count": 4,
   "metadata": {},
   "outputs": [
    {
     "name": "stdout",
     "output_type": "stream",
     "text": [
      "Time taken to load dataset: 0.01391911506652832 seconds\n",
      "Time taken to load dataset: 0.010185003280639648 seconds\n",
      "Time taken to load dataset: 0.08997559547424316 seconds\n"
     ]
    }
   ],
   "source": [
    "### LOAD DATA\n",
    "\n",
    "df_gpt = preprocessing.load_dataset(source=\"GPT\", type=\"ESSAY\")\n",
    "df_bard = preprocessing.load_dataset(source=\"BARD\", type=\"ESSAY\")\n",
    "df_human = preprocessing.load_dataset(source=\"Human\", type=\"ESSAY\")"
   ]
  },
  {
   "cell_type": "code",
   "execution_count": 5,
   "metadata": {},
   "outputs": [],
   "source": [
    "### GET TRAIN SPLIT\n",
    "\n",
    "df_train_gpt, _ = preprocessing.train_valid_split(df_gpt)\n",
    "df_train_bard, _ = preprocessing.train_valid_split(df_bard)\n",
    "df_train_human, _ = preprocessing.train_valid_split(df_human)"
   ]
  },
  {
   "cell_type": "code",
   "execution_count": 6,
   "metadata": {},
   "outputs": [
    {
     "name": "stdout",
     "output_type": "stream",
     "text": [
      "Shape of the GPT train set : (180, 2)\n",
      "Shape of the BARD train set : (178, 2)\n",
      "Shape of the HUMAN train set : (2220, 1)\n"
     ]
    }
   ],
   "source": [
    "### CHECK SHAPES\n",
    "\n",
    "print(f\"Shape of the GPT train set : {df_train_gpt.shape}\")\n",
    "print(f\"Shape of the BARD train set : {df_train_bard.shape}\")\n",
    "print(f\"Shape of the HUMAN train set : {df_train_human.shape}\")"
   ]
  },
  {
   "cell_type": "code",
   "execution_count": 7,
   "metadata": {},
   "outputs": [
    {
     "data": {
      "text/html": [
       "<div>\n",
       "<style scoped>\n",
       "    .dataframe tbody tr th:only-of-type {\n",
       "        vertical-align: middle;\n",
       "    }\n",
       "\n",
       "    .dataframe tbody tr th {\n",
       "        vertical-align: top;\n",
       "    }\n",
       "\n",
       "    .dataframe thead th {\n",
       "        text-align: right;\n",
       "    }\n",
       "</style>\n",
       "<table border=\"1\" class=\"dataframe\">\n",
       "  <thead>\n",
       "    <tr style=\"text-align: right;\">\n",
       "      <th></th>\n",
       "      <th>prompts</th>\n",
       "      <th>responses</th>\n",
       "    </tr>\n",
       "  </thead>\n",
       "  <tbody>\n",
       "    <tr>\n",
       "      <th>25</th>\n",
       "      <td>Is “an eye for an eye” a good basis for deter...</td>\n",
       "      <td>On the one hand, the principle of \"an eye fo...</td>\n",
       "    </tr>\n",
       "    <tr>\n",
       "      <th>183</th>\n",
       "      <td>. Describe your school.</td>\n",
       "      <td>A school is a place where students receive fo...</td>\n",
       "    </tr>\n",
       "    <tr>\n",
       "      <th>188</th>\n",
       "      <td>Describe the chores and responsibilities that...</td>\n",
       "      <td>In a household setting, chores and responsibi...</td>\n",
       "    </tr>\n",
       "    <tr>\n",
       "      <th>12</th>\n",
       "      <td>As part of the “war on drugs” and in reaction...</td>\n",
       "      <td>On one hand, those who support targeted sear...</td>\n",
       "    </tr>\n",
       "    <tr>\n",
       "      <th>167</th>\n",
       "      <td>You want to buy a new state of the art compu...</td>\n",
       "      <td>Purchasing a new state-of-the-art computer i...</td>\n",
       "    </tr>\n",
       "  </tbody>\n",
       "</table>\n",
       "</div>"
      ],
      "text/plain": [
       "                                               prompts  \\\n",
       "25    Is “an eye for an eye” a good basis for deter...   \n",
       "183                       . Describe your school.        \n",
       "188   Describe the chores and responsibilities that...   \n",
       "12    As part of the “war on drugs” and in reaction...   \n",
       "167    You want to buy a new state of the art compu...   \n",
       "\n",
       "                                             responses  \n",
       "25     On the one hand, the principle of \"an eye fo...  \n",
       "183   A school is a place where students receive fo...  \n",
       "188   In a household setting, chores and responsibi...  \n",
       "12     On one hand, those who support targeted sear...  \n",
       "167    Purchasing a new state-of-the-art computer i...  "
      ]
     },
     "execution_count": 7,
     "metadata": {},
     "output_type": "execute_result"
    }
   ],
   "source": [
    "### CHECK STRUCTURE - GPT\n",
    "\n",
    "df_train_gpt.sample(n=5)"
   ]
  },
  {
   "cell_type": "code",
   "execution_count": 8,
   "metadata": {},
   "outputs": [
    {
     "data": {
      "text/html": [
       "<div>\n",
       "<style scoped>\n",
       "    .dataframe tbody tr th:only-of-type {\n",
       "        vertical-align: middle;\n",
       "    }\n",
       "\n",
       "    .dataframe tbody tr th {\n",
       "        vertical-align: top;\n",
       "    }\n",
       "\n",
       "    .dataframe thead th {\n",
       "        text-align: right;\n",
       "    }\n",
       "</style>\n",
       "<table border=\"1\" class=\"dataframe\">\n",
       "  <thead>\n",
       "    <tr style=\"text-align: right;\">\n",
       "      <th></th>\n",
       "      <th>prompts</th>\n",
       "      <th>BARD</th>\n",
       "    </tr>\n",
       "  </thead>\n",
       "  <tbody>\n",
       "    <tr>\n",
       "      <th>24</th>\n",
       "      <td>Today, there are more and more reality shows ...</td>\n",
       "      <td>Whether or not reality shows make good televis...</td>\n",
       "    </tr>\n",
       "    <tr>\n",
       "      <th>148</th>\n",
       "      <td>Explain why some people may be afraid of shar...</td>\n",
       "      <td>There are many reasons why some people may be ...</td>\n",
       "    </tr>\n",
       "    <tr>\n",
       "      <th>91</th>\n",
       "      <td>Alexander Smith said, The great man is the ma...</td>\n",
       "      <td>Alexander Smith's definition of greatness is t...</td>\n",
       "    </tr>\n",
       "    <tr>\n",
       "      <th>29</th>\n",
       "      <td>The singer and songwriter Bob Dylan once wrot...</td>\n",
       "      <td>Bob Dylan's definition of success is certainly...</td>\n",
       "    </tr>\n",
       "    <tr>\n",
       "      <th>94</th>\n",
       "      <td>Currently, Americans pay taxes based upon how...</td>\n",
       "      <td>The current American tax system is a progressi...</td>\n",
       "    </tr>\n",
       "  </tbody>\n",
       "</table>\n",
       "</div>"
      ],
      "text/plain": [
       "                                               prompts  \\\n",
       "24    Today, there are more and more reality shows ...   \n",
       "148   Explain why some people may be afraid of shar...   \n",
       "91    Alexander Smith said, The great man is the ma...   \n",
       "29    The singer and songwriter Bob Dylan once wrot...   \n",
       "94    Currently, Americans pay taxes based upon how...   \n",
       "\n",
       "                                                  BARD  \n",
       "24   Whether or not reality shows make good televis...  \n",
       "148  There are many reasons why some people may be ...  \n",
       "91   Alexander Smith's definition of greatness is t...  \n",
       "29   Bob Dylan's definition of success is certainly...  \n",
       "94   The current American tax system is a progressi...  "
      ]
     },
     "execution_count": 8,
     "metadata": {},
     "output_type": "execute_result"
    }
   ],
   "source": [
    "### CHECK STRUCTURE - BARD\n",
    "\n",
    "df_train_bard.sample(n=5)"
   ]
  },
  {
   "cell_type": "code",
   "execution_count": 9,
   "metadata": {},
   "outputs": [
    {
     "data": {
      "text/html": [
       "<div>\n",
       "<style scoped>\n",
       "    .dataframe tbody tr th:only-of-type {\n",
       "        vertical-align: middle;\n",
       "    }\n",
       "\n",
       "    .dataframe tbody tr th {\n",
       "        vertical-align: top;\n",
       "    }\n",
       "\n",
       "    .dataframe thead th {\n",
       "        text-align: right;\n",
       "    }\n",
       "</style>\n",
       "<table border=\"1\" class=\"dataframe\">\n",
       "  <thead>\n",
       "    <tr style=\"text-align: right;\">\n",
       "      <th></th>\n",
       "      <th>prompts</th>\n",
       "      <th>BARD</th>\n",
       "    </tr>\n",
       "  </thead>\n",
       "  <tbody>\n",
       "    <tr>\n",
       "      <th>113</th>\n",
       "      <td>Imagine that you have made it to the final ro...</td>\n",
       "      <td>Sure, I can help you with that. Here is an exa...</td>\n",
       "    </tr>\n",
       "    <tr>\n",
       "      <th>125</th>\n",
       "      <td>Tell about a world-class athlete. Explain why...</td>\n",
       "      <td>Sure, here is a long essay about a world-class...</td>\n",
       "    </tr>\n",
       "    <tr>\n",
       "      <th>191</th>\n",
       "      <td>With the hope of preserving family history, d...</td>\n",
       "      <td>Sure, here are some questions you can ask an o...</td>\n",
       "    </tr>\n",
       "    <tr>\n",
       "      <th>171</th>\n",
       "      <td>Explain what you might do to help a sick frie...</td>\n",
       "      <td>Sure, here are some things you might do to hel...</td>\n",
       "    </tr>\n",
       "    <tr>\n",
       "      <th>150</th>\n",
       "      <td>Explain to a doctor what would be helpful dur...</td>\n",
       "      <td>Sure, here are some things you can do to help ...</td>\n",
       "    </tr>\n",
       "    <tr>\n",
       "      <th>138</th>\n",
       "      <td>Describe techniques or methods that could hel...</td>\n",
       "      <td>Sure, here are some techniques or methods that...</td>\n",
       "    </tr>\n",
       "    <tr>\n",
       "      <th>111</th>\n",
       "      <td>Imagine that your high school (or alma mater)...</td>\n",
       "      <td>Sure, here is an essay persuading school offic...</td>\n",
       "    </tr>\n",
       "    <tr>\n",
       "      <th>159</th>\n",
       "      <td>Describe how weather affects your commute to...</td>\n",
       "      <td>Sure. The weather can affect my commute to sch...</td>\n",
       "    </tr>\n",
       "    <tr>\n",
       "      <th>162</th>\n",
       "      <td>Explain some of the best ways to prepare for...</td>\n",
       "      <td>Sure, here are some of the best ways to prepar...</td>\n",
       "    </tr>\n",
       "    <tr>\n",
       "      <th>90</th>\n",
       "      <td>Many of us are fond of music that speaks to o...</td>\n",
       "      <td>Sure, here is an essay that convinces others n...</td>\n",
       "    </tr>\n",
       "    <tr>\n",
       "      <th>132</th>\n",
       "      <td>Math is a required subject. Explain why it is...</td>\n",
       "      <td>Sure, here is an essay about why math is a req...</td>\n",
       "    </tr>\n",
       "    <tr>\n",
       "      <th>22</th>\n",
       "      <td>Good habits improve our physical, emotional, ...</td>\n",
       "      <td>Sure, I can do that. Here is an essay persuadi...</td>\n",
       "    </tr>\n",
       "    <tr>\n",
       "      <th>146</th>\n",
       "      <td>Discuss the events in the life of your favori...</td>\n",
       "      <td>Sure, I'd be happy to discuss the events in th...</td>\n",
       "    </tr>\n",
       "    <tr>\n",
       "      <th>33</th>\n",
       "      <td>Is there a book that you feel should be requ...</td>\n",
       "      <td>Sure, there is one book that I feel should be ...</td>\n",
       "    </tr>\n",
       "    <tr>\n",
       "      <th>184</th>\n",
       "      <td>Explain how you would find a good restaurant ...</td>\n",
       "      <td>Sure, here are some tips on how to find a good...</td>\n",
       "    </tr>\n",
       "    <tr>\n",
       "      <th>182</th>\n",
       "      <td>Describe how to build a birdhouse.</td>\n",
       "      <td>Sure, here are the steps on how to build a bir...</td>\n",
       "    </tr>\n",
       "    <tr>\n",
       "      <th>70</th>\n",
       "      <td>The network that runs your favorite televisio...</td>\n",
       "      <td>Sure, here is a letter convincing the station ...</td>\n",
       "    </tr>\n",
       "    <tr>\n",
       "      <th>128</th>\n",
       "      <td>Explain, in detail, a situation where a chang...</td>\n",
       "      <td>Sure, here is an essay about a situation where...</td>\n",
       "    </tr>\n",
       "    <tr>\n",
       "      <th>154</th>\n",
       "      <td>Explain the causes and effects of not voti...</td>\n",
       "      <td>Sure, here are some of the causes and effects ...</td>\n",
       "    </tr>\n",
       "    <tr>\n",
       "      <th>120</th>\n",
       "      <td>Write an essay convincing your best friend to...</td>\n",
       "      <td>Sure, here is an essay convincing my best frie...</td>\n",
       "    </tr>\n",
       "    <tr>\n",
       "      <th>86</th>\n",
       "      <td>Many students complain about having to learn ...</td>\n",
       "      <td>Sure, here is an essay convincing skeptics tha...</td>\n",
       "    </tr>\n",
       "    <tr>\n",
       "      <th>192</th>\n",
       "      <td>. You are asked to write an article about a p...</td>\n",
       "      <td>Sure, I can help you with that. Here are some ...</td>\n",
       "    </tr>\n",
       "    <tr>\n",
       "      <th>136</th>\n",
       "      <td>Discuss how a person achieves fame and fortun...</td>\n",
       "      <td>Sure, here is an essay about how a person achi...</td>\n",
       "    </tr>\n",
       "    <tr>\n",
       "      <th>133</th>\n",
       "      <td>Discuss the causes of and problems resulting ...</td>\n",
       "      <td>Sure, here is an essay about the causes and pr...</td>\n",
       "    </tr>\n",
       "    <tr>\n",
       "      <th>169</th>\n",
       "      <td>Describe a vegetable that you truly dislike.</td>\n",
       "      <td>Sure, I can do that.\\r\\n\\r\\nOne vegetable that...</td>\n",
       "    </tr>\n",
       "    <tr>\n",
       "      <th>131</th>\n",
       "      <td>Describe various styles of shoes as well as r...</td>\n",
       "      <td>Sure, here are some of the most popular styles...</td>\n",
       "    </tr>\n",
       "    <tr>\n",
       "      <th>165</th>\n",
       "      <td>You want to buy a new state of the art compu...</td>\n",
       "      <td>Sure, here are the steps I would take to ensur...</td>\n",
       "    </tr>\n",
       "    <tr>\n",
       "      <th>190</th>\n",
       "      <td>Describe the steps you would take if you want...</td>\n",
       "      <td>Sure, here are the steps you would take if you...</td>\n",
       "    </tr>\n",
       "    <tr>\n",
       "      <th>151</th>\n",
       "      <td>Explain pollution to a visitor from another ...</td>\n",
       "      <td>Sure, I would be happy to explain pollution to...</td>\n",
       "    </tr>\n",
       "    <tr>\n",
       "      <th>197</th>\n",
       "      <td>Describe how to perform your favorite magic t...</td>\n",
       "      <td>Sure, my favorite magic trick is the French Dr...</td>\n",
       "    </tr>\n",
       "    <tr>\n",
       "      <th>92</th>\n",
       "      <td>The eighteenth century writer Samuel Johnson ...</td>\n",
       "      <td>Sure, I can help you with that.\\r\\n\\r\\nSamuel ...</td>\n",
       "    </tr>\n",
       "  </tbody>\n",
       "</table>\n",
       "</div>"
      ],
      "text/plain": [
       "                                               prompts  \\\n",
       "113   Imagine that you have made it to the final ro...   \n",
       "125   Tell about a world-class athlete. Explain why...   \n",
       "191   With the hope of preserving family history, d...   \n",
       "171   Explain what you might do to help a sick frie...   \n",
       "150   Explain to a doctor what would be helpful dur...   \n",
       "138   Describe techniques or methods that could hel...   \n",
       "111   Imagine that your high school (or alma mater)...   \n",
       "159    Describe how weather affects your commute to...   \n",
       "162    Explain some of the best ways to prepare for...   \n",
       "90    Many of us are fond of music that speaks to o...   \n",
       "132   Math is a required subject. Explain why it is...   \n",
       "22    Good habits improve our physical, emotional, ...   \n",
       "146   Discuss the events in the life of your favori...   \n",
       "33     Is there a book that you feel should be requ...   \n",
       "184   Explain how you would find a good restaurant ...   \n",
       "182             Describe how to build a birdhouse.       \n",
       "70    The network that runs your favorite televisio...   \n",
       "128   Explain, in detail, a situation where a chang...   \n",
       "154      Explain the causes and effects of not voti...   \n",
       "120   Write an essay convincing your best friend to...   \n",
       "86    Many students complain about having to learn ...   \n",
       "192   . You are asked to write an article about a p...   \n",
       "136   Discuss how a person achieves fame and fortun...   \n",
       "133   Discuss the causes of and problems resulting ...   \n",
       "169     Describe a vegetable that you truly dislike.     \n",
       "131   Describe various styles of shoes as well as r...   \n",
       "165    You want to buy a new state of the art compu...   \n",
       "190   Describe the steps you would take if you want...   \n",
       "151    Explain pollution to a visitor from another ...   \n",
       "197   Describe how to perform your favorite magic t...   \n",
       "92    The eighteenth century writer Samuel Johnson ...   \n",
       "\n",
       "                                                  BARD  \n",
       "113  Sure, I can help you with that. Here is an exa...  \n",
       "125  Sure, here is a long essay about a world-class...  \n",
       "191  Sure, here are some questions you can ask an o...  \n",
       "171  Sure, here are some things you might do to hel...  \n",
       "150  Sure, here are some things you can do to help ...  \n",
       "138  Sure, here are some techniques or methods that...  \n",
       "111  Sure, here is an essay persuading school offic...  \n",
       "159  Sure. The weather can affect my commute to sch...  \n",
       "162  Sure, here are some of the best ways to prepar...  \n",
       "90   Sure, here is an essay that convinces others n...  \n",
       "132  Sure, here is an essay about why math is a req...  \n",
       "22   Sure, I can do that. Here is an essay persuadi...  \n",
       "146  Sure, I'd be happy to discuss the events in th...  \n",
       "33   Sure, there is one book that I feel should be ...  \n",
       "184  Sure, here are some tips on how to find a good...  \n",
       "182  Sure, here are the steps on how to build a bir...  \n",
       "70   Sure, here is a letter convincing the station ...  \n",
       "128  Sure, here is an essay about a situation where...  \n",
       "154  Sure, here are some of the causes and effects ...  \n",
       "120  Sure, here is an essay convincing my best frie...  \n",
       "86   Sure, here is an essay convincing skeptics tha...  \n",
       "192  Sure, I can help you with that. Here are some ...  \n",
       "136  Sure, here is an essay about how a person achi...  \n",
       "133  Sure, here is an essay about the causes and pr...  \n",
       "169  Sure, I can do that.\\r\\n\\r\\nOne vegetable that...  \n",
       "131  Sure, here are some of the most popular styles...  \n",
       "165  Sure, here are the steps I would take to ensur...  \n",
       "190  Sure, here are the steps you would take if you...  \n",
       "151  Sure, I would be happy to explain pollution to...  \n",
       "197  Sure, my favorite magic trick is the French Dr...  \n",
       "92   Sure, I can help you with that.\\r\\n\\r\\nSamuel ...  "
      ]
     },
     "execution_count": 9,
     "metadata": {},
     "output_type": "execute_result"
    }
   ],
   "source": [
    "df_train_bard[df_train_bard[\"BARD\"].str.startswith(\"Sure\")]"
   ]
  },
  {
   "cell_type": "code",
   "execution_count": 10,
   "metadata": {},
   "outputs": [
    {
     "data": {
      "text/html": [
       "<div>\n",
       "<style scoped>\n",
       "    .dataframe tbody tr th:only-of-type {\n",
       "        vertical-align: middle;\n",
       "    }\n",
       "\n",
       "    .dataframe tbody tr th {\n",
       "        vertical-align: top;\n",
       "    }\n",
       "\n",
       "    .dataframe thead th {\n",
       "        text-align: right;\n",
       "    }\n",
       "</style>\n",
       "<table border=\"1\" class=\"dataframe\">\n",
       "  <thead>\n",
       "    <tr style=\"text-align: right;\">\n",
       "      <th></th>\n",
       "      <th>essays</th>\n",
       "    </tr>\n",
       "    <tr>\n",
       "      <th>ID</th>\n",
       "      <th></th>\n",
       "    </tr>\n",
       "  </thead>\n",
       "  <tbody>\n",
       "    <tr>\n",
       "      <th>1986</th>\n",
       "      <td>I don't know what to write about really and I ...</td>\n",
       "    </tr>\n",
       "    <tr>\n",
       "      <th>2349</th>\n",
       "      <td>Yesterday, I went tubing with my family on the...</td>\n",
       "    </tr>\n",
       "    <tr>\n",
       "      <th>261</th>\n",
       "      <td>I'm hungry. I want some ice cream but I don't ...</td>\n",
       "    </tr>\n",
       "    <tr>\n",
       "      <th>1679</th>\n",
       "      <td>well, I'm thinking right now about how thinkin...</td>\n",
       "    </tr>\n",
       "    <tr>\n",
       "      <th>1545</th>\n",
       "      <td>I wonder if he is going to call me tonigh...</td>\n",
       "    </tr>\n",
       "  </tbody>\n",
       "</table>\n",
       "</div>"
      ],
      "text/plain": [
       "                                                 essays\n",
       "ID                                                     \n",
       "1986  I don't know what to write about really and I ...\n",
       "2349  Yesterday, I went tubing with my family on the...\n",
       "261   I'm hungry. I want some ice cream but I don't ...\n",
       "1679  well, I'm thinking right now about how thinkin...\n",
       "1545       I wonder if he is going to call me tonigh..."
      ]
     },
     "execution_count": 10,
     "metadata": {},
     "output_type": "execute_result"
    }
   ],
   "source": [
    "### CHECK STRUCTURE - HUMAN\n",
    "\n",
    "df_train_human.sample(n=5)"
   ]
  },
  {
   "cell_type": "code",
   "execution_count": 11,
   "metadata": {},
   "outputs": [
    {
     "name": "stdout",
     "output_type": "stream",
     "text": [
      "Missing values in GPT dataset :\n",
      "prompts      0\n",
      "responses    0\n",
      "dtype: int64\n",
      "\n",
      "\n",
      "Missing values in BARD dataset :\n",
      "prompts    0\n",
      "BARD       0\n",
      "dtype: int64\n",
      "\n",
      "\n",
      "Missing values in HUMAN dataset :\n",
      "essays    0\n",
      "dtype: int64\n",
      "\n",
      "\n"
     ]
    }
   ],
   "source": [
    "### CHECK MISSING VALUES\n",
    "\n",
    "for df, name in zip(\n",
    "    [df_train_gpt, df_train_bard, df_train_human], [\"GPT\", \"BARD\", \"HUMAN\"]\n",
    "):\n",
    "    print(f\"Missing values in {name} dataset :\")\n",
    "    print(df.isna().sum())\n",
    "    print(\"\\n\")"
   ]
  },
  {
   "cell_type": "code",
   "execution_count": 12,
   "metadata": {},
   "outputs": [
    {
     "name": "stdout",
     "output_type": "stream",
     "text": [
      "Empty text in GPT dataset :\n",
      "0\n",
      "\n",
      "\n",
      "Empty text in BARD dataset :\n",
      "0\n",
      "\n",
      "\n",
      "Empty text in HUMAN dataset :\n",
      "0\n",
      "\n",
      "\n"
     ]
    }
   ],
   "source": [
    "### CHECK EMPTY TEXT\n",
    "\n",
    "for df, name in zip(\n",
    "    [df_train_gpt, df_train_bard, df_train_human], [\"GPT\", \"BARD\", \"HUMAN\"]\n",
    "):\n",
    "    print(f\"Empty text in {name} dataset :\")\n",
    "    if name == \"BARD\":\n",
    "        print(len(df[df[\"BARD\"] == \"\"]))\n",
    "    elif name == \"GPT\":\n",
    "        print(len(df[df[\"responses\"] == \"\"]))\n",
    "    elif name == \"HUMAN\":\n",
    "        print(len(df[df[\"essays\"] == \"\\r\\r\\n\"]))\n",
    "    print(\"\\n\")"
   ]
  },
  {
   "cell_type": "code",
   "execution_count": 13,
   "metadata": {},
   "outputs": [
    {
     "name": "stdout",
     "output_type": "stream",
     "text": [
      "Duplicate rows in GPT dataset :\n",
      "0\n",
      "\n",
      "\n",
      "Duplicate rows in BARD dataset :\n",
      "0\n",
      "\n",
      "\n",
      "Duplicate rows in HUMAN dataset :\n",
      "0\n",
      "\n",
      "\n"
     ]
    }
   ],
   "source": [
    "### CHECK DUPLICATES\n",
    "\n",
    "for df, name in zip(\n",
    "    [df_train_gpt, df_train_bard, df_train_human], [\"GPT\", \"BARD\", \"HUMAN\"]\n",
    "):\n",
    "    print(f\"Duplicate rows in {name} dataset :\")\n",
    "    print(df.duplicated().sum())\n",
    "    print(\"\\n\")"
   ]
  },
  {
   "cell_type": "markdown",
   "metadata": {},
   "source": [
    "## **CLEAN DATA**"
   ]
  },
  {
   "cell_type": "code",
   "execution_count": 14,
   "metadata": {},
   "outputs": [],
   "source": [
    "### CLEAN AND CONCATENATE DATASETS\n",
    "\n",
    "df_train = preprocessing.get_essay_dataset(df_train_gpt, df_train_bard, df_train_human)"
   ]
  },
  {
   "cell_type": "code",
   "execution_count": 15,
   "metadata": {},
   "outputs": [
    {
     "data": {
      "text/html": [
       "<div>\n",
       "<style scoped>\n",
       "    .dataframe tbody tr th:only-of-type {\n",
       "        vertical-align: middle;\n",
       "    }\n",
       "\n",
       "    .dataframe tbody tr th {\n",
       "        vertical-align: top;\n",
       "    }\n",
       "\n",
       "    .dataframe thead th {\n",
       "        text-align: right;\n",
       "    }\n",
       "</style>\n",
       "<table border=\"1\" class=\"dataframe\">\n",
       "  <thead>\n",
       "    <tr style=\"text-align: right;\">\n",
       "      <th></th>\n",
       "      <th>text</th>\n",
       "      <th>abstract</th>\n",
       "      <th>label</th>\n",
       "      <th>type</th>\n",
       "    </tr>\n",
       "  </thead>\n",
       "  <tbody>\n",
       "    <tr>\n",
       "      <th>151</th>\n",
       "      <td>History is often seen as a dry, boring subject...</td>\n",
       "      <td>Many students complain about having to learn ...</td>\n",
       "      <td>1</td>\n",
       "      <td>essay</td>\n",
       "    </tr>\n",
       "    <tr>\n",
       "      <th>128</th>\n",
       "      <td>Thomas Edison's statement suggests that genius...</td>\n",
       "      <td>Thomas Edison, the renowned inventor, is famo...</td>\n",
       "      <td>1</td>\n",
       "      <td>essay</td>\n",
       "    </tr>\n",
       "    <tr>\n",
       "      <th>2419</th>\n",
       "      <td>Right now I'm writing about the things I am th...</td>\n",
       "      <td>No abstract</td>\n",
       "      <td>0</td>\n",
       "      <td>essay</td>\n",
       "    </tr>\n",
       "    <tr>\n",
       "      <th>2444</th>\n",
       "      <td>Will I survive? That is what I am thinking abo...</td>\n",
       "      <td>No abstract</td>\n",
       "      <td>0</td>\n",
       "      <td>essay</td>\n",
       "    </tr>\n",
       "    <tr>\n",
       "      <th>2290</th>\n",
       "      <td>I'm very tired and don't want to take a shower...</td>\n",
       "      <td>No abstract</td>\n",
       "      <td>0</td>\n",
       "      <td>essay</td>\n",
       "    </tr>\n",
       "    <tr>\n",
       "      <th>2450</th>\n",
       "      <td>I could talk about all the controversial issue...</td>\n",
       "      <td>No abstract</td>\n",
       "      <td>0</td>\n",
       "      <td>essay</td>\n",
       "    </tr>\n",
       "    <tr>\n",
       "      <th>1518</th>\n",
       "      <td>I didn't know there was a timer on this thing....</td>\n",
       "      <td>No abstract</td>\n",
       "      <td>0</td>\n",
       "      <td>essay</td>\n",
       "    </tr>\n",
       "    <tr>\n",
       "      <th>510</th>\n",
       "      <td>I don't want to go home. I have to take the st...</td>\n",
       "      <td>No abstract</td>\n",
       "      <td>0</td>\n",
       "      <td>essay</td>\n",
       "    </tr>\n",
       "    <tr>\n",
       "      <th>1801</th>\n",
       "      <td>I am very disappointed. its been raining all d...</td>\n",
       "      <td>No abstract</td>\n",
       "      <td>0</td>\n",
       "      <td>essay</td>\n",
       "    </tr>\n",
       "    <tr>\n",
       "      <th>741</th>\n",
       "      <td>Hi, when I think of this type of writing I thi...</td>\n",
       "      <td>No abstract</td>\n",
       "      <td>0</td>\n",
       "      <td>essay</td>\n",
       "    </tr>\n",
       "  </tbody>\n",
       "</table>\n",
       "</div>"
      ],
      "text/plain": [
       "                                                   text  \\\n",
       "151   History is often seen as a dry, boring subject...   \n",
       "128   Thomas Edison's statement suggests that genius...   \n",
       "2419  Right now I'm writing about the things I am th...   \n",
       "2444  Will I survive? That is what I am thinking abo...   \n",
       "2290  I'm very tired and don't want to take a shower...   \n",
       "2450  I could talk about all the controversial issue...   \n",
       "1518  I didn't know there was a timer on this thing....   \n",
       "510   I don't want to go home. I have to take the st...   \n",
       "1801  I am very disappointed. its been raining all d...   \n",
       "741   Hi, when I think of this type of writing I thi...   \n",
       "\n",
       "                                               abstract  label   type  \n",
       "151    Many students complain about having to learn ...      1  essay  \n",
       "128    Thomas Edison, the renowned inventor, is famo...      1  essay  \n",
       "2419                                        No abstract      0  essay  \n",
       "2444                                        No abstract      0  essay  \n",
       "2290                                        No abstract      0  essay  \n",
       "2450                                        No abstract      0  essay  \n",
       "1518                                        No abstract      0  essay  \n",
       "510                                         No abstract      0  essay  \n",
       "1801                                        No abstract      0  essay  \n",
       "741                                         No abstract      0  essay  "
      ]
     },
     "execution_count": 15,
     "metadata": {},
     "output_type": "execute_result"
    }
   ],
   "source": [
    "### CHECK\n",
    "\n",
    "df_train.sample(10)"
   ]
  },
  {
   "cell_type": "code",
   "execution_count": 16,
   "metadata": {},
   "outputs": [
    {
     "data": {
      "text/html": [
       "<div>\n",
       "<style scoped>\n",
       "    .dataframe tbody tr th:only-of-type {\n",
       "        vertical-align: middle;\n",
       "    }\n",
       "\n",
       "    .dataframe tbody tr th {\n",
       "        vertical-align: top;\n",
       "    }\n",
       "\n",
       "    .dataframe thead th {\n",
       "        text-align: right;\n",
       "    }\n",
       "</style>\n",
       "<table border=\"1\" class=\"dataframe\">\n",
       "  <thead>\n",
       "    <tr style=\"text-align: right;\">\n",
       "      <th></th>\n",
       "      <th>text</th>\n",
       "      <th>abstract</th>\n",
       "      <th>label</th>\n",
       "      <th>type</th>\n",
       "    </tr>\n",
       "  </thead>\n",
       "  <tbody>\n",
       "  </tbody>\n",
       "</table>\n",
       "</div>"
      ],
      "text/plain": [
       "Empty DataFrame\n",
       "Columns: [text, abstract, label, type]\n",
       "Index: []"
      ]
     },
     "execution_count": 16,
     "metadata": {},
     "output_type": "execute_result"
    }
   ],
   "source": [
    "### CHECK EMPTY TEXTS\n",
    "\n",
    "df_train[df_train[\"text\"] == \"\"]"
   ]
  },
  {
   "cell_type": "code",
   "execution_count": 17,
   "metadata": {},
   "outputs": [
    {
     "data": {
      "text/plain": [
       "label\n",
       "0    2220\n",
       "1     180\n",
       "2     178\n",
       "Name: count, dtype: int64"
      ]
     },
     "execution_count": 17,
     "metadata": {},
     "output_type": "execute_result"
    }
   ],
   "source": [
    "### CHECK SPLIT\n",
    "\n",
    "df_train[names.LABEL].value_counts()"
   ]
  },
  {
   "cell_type": "markdown",
   "metadata": {},
   "source": [
    "## **PLOTS**"
   ]
  },
  {
   "cell_type": "code",
   "execution_count": 18,
   "metadata": {},
   "outputs": [
    {
     "data": {
      "image/png": "[encoded data removed]",
      "text/plain": [
       "<Figure size 1200x600 with 3 Axes>"
      ]
     },
     "metadata": {},
     "output_type": "display_data"
    }
   ],
   "source": [
    "### PLOT ABSTRACT LENGTH DISTRIBUTION (CHARACTERS)\n",
    "\n",
    "sentence_lengths_chars = np.array(df_train[names.TEXT].str.len())\n",
    "visualization.plot_histogram_sentence_length(\n",
    "    sentence_lengths=sentence_lengths_chars,\n",
    "    labels=df_train[names.LABEL],\n",
    "    type=\"characters\",\n",
    ")"
   ]
  },
  {
   "cell_type": "code",
   "execution_count": 19,
   "metadata": {},
   "outputs": [
    {
     "data": {
      "image/png": "[encoded data removed]",
      "text/plain": [
       "<Figure size 1200x600 with 3 Axes>"
      ]
     },
     "metadata": {},
     "output_type": "display_data"
    }
   ],
   "source": [
    "### PLOT ABSTRACT LENGTH DISTRIBUTION (WORDS)\n",
    "\n",
    "sentence_lengths_words = np.array(df_train[names.TEXT].str.split().str.len())\n",
    "visualization.plot_histogram_sentence_length(\n",
    "    sentence_lengths=sentence_lengths_words, labels=df_train[names.LABEL], type=\"words\"\n",
    ")"
   ]
  },
  {
   "cell_type": "code",
   "execution_count": 20,
   "metadata": {},
   "outputs": [
    {
     "data": {
      "application/vnd.jupyter.widget-view+json": {
       "model_id": "8fc64132b48d4d0bac4317eaf524f856",
       "version_major": 2,
       "version_minor": 0
      },
      "text/plain": [
       "interactive(children=(IntSlider(value=0, description='ID', max=2577), Output()), _dom_classes=('widget-interac…"
      ]
     },
     "metadata": {},
     "output_type": "display_data"
    }
   ],
   "source": [
    "### PLOT WORDCLOUD FOR EACH TEXT\n",
    "\n",
    "texts = df_train[names.TEXT].to_numpy()\n",
    "labels = df_train[names.LABEL].to_numpy()\n",
    "\n",
    "visualization.plot_wordcloud_slider(texts=texts, labels=labels)"
   ]
  }
 ],
 "metadata": {
  "kernelspec": {
   "display_name": "test",
   "language": "python",
   "name": "python3"
  },
  "language_info": {
   "codemirror_mode": {
    "name": "ipython",
    "version": 3
   },
   "file_extension": ".py",
   "mimetype": "text/x-python",
   "name": "python",
   "nbconvert_exporter": "python",
   "pygments_lexer": "ipython3",
   "version": "3.12.3"
  }
 },
 "nbformat": 4,
 "nbformat_minor": 2
}
