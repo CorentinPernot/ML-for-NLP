{
 "cells": [
  {
   "cell_type": "markdown",
   "metadata": {},
   "source": [
    "# **EXAMPLE NOTEBOOK**"
   ]
  },
  {
   "cell_type": "markdown",
   "metadata": {},
   "source": [
    "## **Preliminary steps**"
   ]
  },
  {
   "cell_type": "code",
   "execution_count": 1,
   "metadata": {},
   "outputs": [],
   "source": [
    "### PACKAGES\n",
    "\n",
    "import matplotlib.pyplot as plt\n",
    "import numpy as np\n",
    "import pandas as pd\n"
   ]
  },
  {
   "cell_type": "code",
   "execution_count": 2,
   "metadata": {},
   "outputs": [],
   "source": [
    "### FUNCTIONS\n",
    "\n",
    "from src.configs import constants, ml_config, names\n",
    "from src.libs import preprocessing, evaluation, visualization\n",
    "from src.embedding.tf_idf import TfIdfEmbedding\n",
    "from src.classifier.classifier import LightGBMClassifier, RFClassifier, NBClassifier\n"
   ]
  },
  {
   "cell_type": "markdown",
   "metadata": {},
   "source": [
    "## **DATA**"
   ]
  },
  {
   "cell_type": "code",
   "execution_count": 3,
   "metadata": {},
   "outputs": [
    {
     "name": "stdout",
     "output_type": "stream",
     "text": [
      "Loading data from local\n",
      "Data loading done in 0.51 seconds\n"
     ]
    }
   ],
   "source": [
    "### IMPORT DATA\n",
    "\n",
    "df_train, df_test = preprocessing.load_data(local=True, type=\"full\")\n"
   ]
  },
  {
   "cell_type": "code",
   "execution_count": 4,
   "metadata": {},
   "outputs": [],
   "source": [
    "### CLEAN DATA\n",
    "\n",
    "df_train = preprocessing.clean_dataset_1(df=df_train)\n",
    "df_test = preprocessing.clean_dataset_1(df=df_test)\n"
   ]
  },
  {
   "cell_type": "code",
   "execution_count": 5,
   "metadata": {},
   "outputs": [],
   "source": [
    "### SPLIT FEATURES AND LABELS\n",
    "\n",
    "X_train, y_train = preprocessing.split_features_and_labels(df_train)\n",
    "X_test, y_test = preprocessing.split_features_and_labels(df_test)\n"
   ]
  },
  {
   "cell_type": "markdown",
   "metadata": {},
   "source": [
    "## **EXPERIMENT 111 : TF-IDF & LGBM**"
   ]
  },
  {
   "cell_type": "code",
   "execution_count": 6,
   "metadata": {},
   "outputs": [],
   "source": [
    "ID_EXPERIMENT = 111"
   ]
  },
  {
   "cell_type": "code",
   "execution_count": 7,
   "metadata": {},
   "outputs": [],
   "source": [
    "### EMBEDDING\n",
    "\n",
    "embedding = TfIdfEmbedding(ID_EXPERIMENT)\n",
    "\n",
    "embedding.fit(X=X_train)\n",
    "\n",
    "X_train_111 = embedding.transform(X=X_train)\n",
    "X_test_111 = embedding.transform(X=X_test)\n"
   ]
  },
  {
   "cell_type": "code",
   "execution_count": 8,
   "metadata": {},
   "outputs": [
    {
     "name": "stderr",
     "output_type": "stream",
     "text": [
      "c:\\Users\\jules\\anaconda3\\envs\\py310-nlp\\lib\\site-packages\\sklearn\\utils\\deprecation.py:151: FutureWarning: 'force_all_finite' was renamed to 'ensure_all_finite' in 1.6 and will be removed in 1.8.\n",
      "  warnings.warn(\n",
      "c:\\Users\\jules\\anaconda3\\envs\\py310-nlp\\lib\\site-packages\\sklearn\\utils\\deprecation.py:151: FutureWarning: 'force_all_finite' was renamed to 'ensure_all_finite' in 1.6 and will be removed in 1.8.\n",
      "  warnings.warn(\n"
     ]
    },
    {
     "data": {
      "text/plain": [
       "{'accuracy': 0.9865666434054431,\n",
       " 'precision': 0.9836975372875477,\n",
       " 'recall': 0.9895324494068388,\n",
       " 'f1': 0.9866063663245782,\n",
       " 'roc_auc': 0.9865666434054432}"
      ]
     },
     "execution_count": 8,
     "metadata": {},
     "output_type": "execute_result"
    }
   ],
   "source": [
    "### CLASSIFIER\n",
    "\n",
    "classifier = LightGBMClassifier(ID_EXPERIMENT)\n",
    "\n",
    "classifier.train(X_train=X_train_111, y_train=y_train)\n",
    "\n",
    "metrics_111 = classifier.evaluate(X_test_111, y_test)\n",
    "\n",
    "metrics_111\n"
   ]
  },
  {
   "cell_type": "markdown",
   "metadata": {},
   "source": [
    "## **EXPERIMENT 121 : TF-IDF & RANDOM FOREST**"
   ]
  },
  {
   "cell_type": "code",
   "execution_count": 9,
   "metadata": {},
   "outputs": [],
   "source": [
    "ID_EXPERIMENT = 121"
   ]
  },
  {
   "cell_type": "code",
   "execution_count": 10,
   "metadata": {},
   "outputs": [],
   "source": [
    "### EMBEDDING\n",
    "\n",
    "embedding = TfIdfEmbedding(ID_EXPERIMENT)\n",
    "\n",
    "embedding.fit(X=X_train)\n",
    "\n",
    "X_train_121 = embedding.transform(X=X_train)\n",
    "X_test_121 = embedding.transform(X=X_test)\n"
   ]
  },
  {
   "cell_type": "code",
   "execution_count": 11,
   "metadata": {},
   "outputs": [
    {
     "name": "stdout",
     "output_type": "stream",
     "text": [
      "CV Score: 0.9704377021322044\n"
     ]
    },
    {
     "data": {
      "text/plain": [
       "{'accuracy': 0.971039776692254,\n",
       " 'precision': 0.9835243553008596,\n",
       " 'recall': 0.9581297976273552,\n",
       " 'f1': 0.9706610109579357,\n",
       " 'roc_auc': 0.971039776692254}"
      ]
     },
     "execution_count": 11,
     "metadata": {},
     "output_type": "execute_result"
    }
   ],
   "source": [
    "### CLASSIFIER\n",
    "\n",
    "classifier = RFClassifier(ID_EXPERIMENT)\n",
    "\n",
    "classifier.train(X_train=X_train_121, y_train=y_train)\n",
    "\n",
    "cv_score = classifier.get_cv_score(X_train=X_train_121, y_train=y_train)\n",
    "\n",
    "print(f\"CV Score: {cv_score}\")\n",
    "\n",
    "metrics_121 = classifier.evaluate(X_test_121, y_test)\n",
    "\n",
    "metrics_121\n"
   ]
  },
  {
   "cell_type": "markdown",
   "metadata": {},
   "source": [
    "## **EXPERIMENT 131 : TF-IDF & NAIVE BAYES**"
   ]
  },
  {
   "cell_type": "code",
   "execution_count": 12,
   "metadata": {},
   "outputs": [],
   "source": [
    "ID_EXPERIMENT = 131"
   ]
  },
  {
   "cell_type": "code",
   "execution_count": 13,
   "metadata": {},
   "outputs": [],
   "source": [
    "### EMBEDDING\n",
    "\n",
    "embedding = TfIdfEmbedding(ID_EXPERIMENT)\n",
    "\n",
    "embedding.fit(X=X_train)\n",
    "\n",
    "X_train_131 = embedding.transform(X=X_train)\n",
    "X_test_131 = embedding.transform(X=X_test)\n"
   ]
  },
  {
   "cell_type": "code",
   "execution_count": 14,
   "metadata": {},
   "outputs": [
    {
     "ename": "TypeError",
     "evalue": "RandomForestClassifier.__init__() got an unexpected keyword argument 'alpha'",
     "output_type": "error",
     "traceback": [
      "\u001b[1;31m---------------------------------------------------------------------------\u001b[0m",
      "\u001b[1;31mTypeError\u001b[0m                                 Traceback (most recent call last)",
      "Cell \u001b[1;32mIn[14], line 3\u001b[0m\n\u001b[0;32m      1\u001b[0m \u001b[38;5;66;03m### CLASSIFIER\u001b[39;00m\n\u001b[1;32m----> 3\u001b[0m classifier \u001b[38;5;241m=\u001b[39m \u001b[43mRFClassifier\u001b[49m\u001b[43m(\u001b[49m\u001b[43mID_EXPERIMENT\u001b[49m\u001b[43m)\u001b[49m\n\u001b[0;32m      5\u001b[0m classifier\u001b[38;5;241m.\u001b[39mtrain(X_train\u001b[38;5;241m=\u001b[39mX_train_131, y_train\u001b[38;5;241m=\u001b[39my_train)\n\u001b[0;32m      7\u001b[0m metrics_131 \u001b[38;5;241m=\u001b[39m classifier\u001b[38;5;241m.\u001b[39mevaluate(X_test_131, y_test)\n",
      "File \u001b[1;32mc:\\Users\\jules\\Documents\\Cours\\ENSAE\\M2\\2ème Semestre\\Machine Learning for NLP\\Projet\\ml-for-nlp\\src\\classifier\\classifier.py:143\u001b[0m, in \u001b[0;36mRFClassifier.__init__\u001b[1;34m(self, id_experiment)\u001b[0m\n\u001b[0;32m    136\u001b[0m \u001b[38;5;250m\u001b[39m\u001b[38;5;124;03m\"\"\"\u001b[39;00m\n\u001b[0;32m    137\u001b[0m \u001b[38;5;124;03mInitialize the Random Forest classifier.\u001b[39;00m\n\u001b[0;32m    138\u001b[0m \n\u001b[0;32m    139\u001b[0m \u001b[38;5;124;03mArgs:\u001b[39;00m\n\u001b[0;32m    140\u001b[0m \u001b[38;5;124;03m    id_experiment (int): The experiment ID to use for configuration.\u001b[39;00m\n\u001b[0;32m    141\u001b[0m \u001b[38;5;124;03m\"\"\"\u001b[39;00m\n\u001b[0;32m    142\u001b[0m \u001b[38;5;28msuper\u001b[39m()\u001b[38;5;241m.\u001b[39m\u001b[38;5;21m__init__\u001b[39m(id_experiment)\n\u001b[1;32m--> 143\u001b[0m \u001b[38;5;28mself\u001b[39m\u001b[38;5;241m.\u001b[39mclassifier \u001b[38;5;241m=\u001b[39m RandomForestClassifier(\u001b[38;5;241m*\u001b[39m\u001b[38;5;241m*\u001b[39m\u001b[38;5;28mself\u001b[39m\u001b[38;5;241m.\u001b[39mparams[names\u001b[38;5;241m.\u001b[39mCLASSIFIER_PARAMS])\n",
      "\u001b[1;31mTypeError\u001b[0m: RandomForestClassifier.__init__() got an unexpected keyword argument 'alpha'"
     ]
    }
   ],
   "source": [
    "### CLASSIFIER\n",
    "\n",
    "classifier = RFClassifier(ID_EXPERIMENT)\n",
    "\n",
    "classifier.train(X_train=X_train_131, y_train=y_train)\n",
    "\n",
    "metrics_131 = classifier.evaluate(X_test_131, y_test)\n",
    "\n",
    "metrics_131\n"
   ]
  },
  {
   "cell_type": "code",
   "execution_count": null,
   "metadata": {},
   "outputs": [],
   "source": []
  }
 ],
 "metadata": {
  "kernelspec": {
   "display_name": "py310-nlp",
   "language": "python",
   "name": "python3"
  },
  "language_info": {
   "codemirror_mode": {
    "name": "ipython",
    "version": 3
   },
   "file_extension": ".py",
   "mimetype": "text/x-python",
   "name": "python",
   "nbconvert_exporter": "python",
   "pygments_lexer": "ipython3",
   "version": "3.10.0"
  }
 },
 "nbformat": 4,
 "nbformat_minor": 2
}
