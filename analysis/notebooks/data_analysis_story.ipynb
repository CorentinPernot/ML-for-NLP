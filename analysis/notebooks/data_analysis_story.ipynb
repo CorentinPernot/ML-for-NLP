{
 "cells": [
  {
   "cell_type": "markdown",
   "metadata": {},
   "source": [
    "# **Analysis of the data**"
   ]
  },
  {
   "cell_type": "markdown",
   "metadata": {},
   "source": [
    "## **Preliminary steps**"
   ]
  },
  {
   "cell_type": "code",
   "execution_count": 1,
   "metadata": {},
   "outputs": [],
   "source": [
    "### PACKAGES\n",
    "\n",
    "import pandas as pd\n",
    "import numpy as np"
   ]
  },
  {
   "cell_type": "code",
   "execution_count": 2,
   "metadata": {},
   "outputs": [],
   "source": [
    "### FUNCTIONS\n",
    "\n",
    "from src.libs import preprocessing, visualization\n",
    "\n",
    "from src.configs import names, constants"
   ]
  },
  {
   "cell_type": "code",
   "execution_count": 3,
   "metadata": {},
   "outputs": [],
   "source": [
    "pd.set_option(\"display.max_columns\", None)"
   ]
  },
  {
   "cell_type": "markdown",
   "metadata": {},
   "source": [
    "## **RAW DATA**"
   ]
  },
  {
   "cell_type": "code",
   "execution_count": 4,
   "metadata": {},
   "outputs": [
    {
     "name": "stdout",
     "output_type": "stream",
     "text": [
      "Time taken to load dataset: 0.020058631896972656 seconds\n",
      "Time taken to load dataset: 0.011545419692993164 seconds\n",
      "Time taken to load dataset: 0.008525609970092773 seconds\n"
     ]
    }
   ],
   "source": [
    "### LOAD DATA\n",
    "\n",
    "df_gpt = preprocessing.load_dataset(source=\"GPT\", type=\"STORY\")\n",
    "df_bard = preprocessing.load_dataset(source=\"BARD\", type=\"STORY\")\n",
    "df_human = preprocessing.load_dataset(source=\"Human\", type=\"STORY\")"
   ]
  },
  {
   "cell_type": "code",
   "execution_count": 5,
   "metadata": {},
   "outputs": [],
   "source": [
    "### GET TRAIN SPLIT\n",
    "\n",
    "df_train_gpt, _ = preprocessing.train_valid_split(df_gpt)\n",
    "df_train_bard, _ = preprocessing.train_valid_split(df_bard)\n",
    "df_train_human, _ = preprocessing.train_valid_split(df_human)"
   ]
  },
  {
   "cell_type": "code",
   "execution_count": 6,
   "metadata": {},
   "outputs": [
    {
     "name": "stdout",
     "output_type": "stream",
     "text": [
      "Shape of the GPT train set : (85, 3)\n",
      "Shape of the BARD train set : (270, 2)\n",
      "Shape of the HUMAN train set : (162, 16)\n"
     ]
    }
   ],
   "source": [
    "### CHECK SHAPES\n",
    "\n",
    "print(f\"Shape of the GPT train set : {df_train_gpt.shape}\")\n",
    "print(f\"Shape of the BARD train set : {df_train_bard.shape}\")\n",
    "print(f\"Shape of the HUMAN train set : {df_train_human.shape}\")"
   ]
  },
  {
   "cell_type": "code",
   "execution_count": 7,
   "metadata": {},
   "outputs": [
    {
     "data": {
      "text/html": [
       "<div>\n",
       "<style scoped>\n",
       "    .dataframe tbody tr th:only-of-type {\n",
       "        vertical-align: middle;\n",
       "    }\n",
       "\n",
       "    .dataframe tbody tr th {\n",
       "        vertical-align: top;\n",
       "    }\n",
       "\n",
       "    .dataframe thead th {\n",
       "        text-align: right;\n",
       "    }\n",
       "</style>\n",
       "<table border=\"1\" class=\"dataframe\">\n",
       "  <thead>\n",
       "    <tr style=\"text-align: right;\">\n",
       "      <th></th>\n",
       "      <th>index</th>\n",
       "      <th>Title</th>\n",
       "      <th>Chapter_text</th>\n",
       "    </tr>\n",
       "  </thead>\n",
       "  <tbody>\n",
       "    <tr>\n",
       "      <th>28</th>\n",
       "      <td>28</td>\n",
       "      <td>Tryst of Bithynian Bliss</td>\n",
       "      <td>The sound of Julius Caesar's boots echoed thro...</td>\n",
       "    </tr>\n",
       "    <tr>\n",
       "      <th>19</th>\n",
       "      <td>19</td>\n",
       "      <td>ChatGPT Generated Fanfiction</td>\n",
       "      <td>Chapter Text\\nSpider-Man was swinging through ...</td>\n",
       "    </tr>\n",
       "    <tr>\n",
       "      <th>39</th>\n",
       "      <td>39</td>\n",
       "      <td>A Story About Coffee Beans</td>\n",
       "      <td>Once there lived a group of magical coffee bea...</td>\n",
       "    </tr>\n",
       "    <tr>\n",
       "      <th>59</th>\n",
       "      <td>59</td>\n",
       "      <td>Passion's Tempest: A Love Story in Ng Palace.</td>\n",
       "      <td>Chapter Text\\nThe busy capital of Enngstan was...</td>\n",
       "    </tr>\n",
       "    <tr>\n",
       "      <th>36</th>\n",
       "      <td>36</td>\n",
       "      <td>Neon Genesis chat GPT</td>\n",
       "      <td>Chapter Text\\nShinji IkariVerse 1:In a world o...</td>\n",
       "    </tr>\n",
       "  </tbody>\n",
       "</table>\n",
       "</div>"
      ],
      "text/plain": [
       "    index                                          Title  \\\n",
       "28     28                       Tryst of Bithynian Bliss   \n",
       "19     19                   ChatGPT Generated Fanfiction   \n",
       "39     39                     A Story About Coffee Beans   \n",
       "59     59  Passion's Tempest: A Love Story in Ng Palace.   \n",
       "36     36                          Neon Genesis chat GPT   \n",
       "\n",
       "                                         Chapter_text  \n",
       "28  The sound of Julius Caesar's boots echoed thro...  \n",
       "19  Chapter Text\\nSpider-Man was swinging through ...  \n",
       "39  Once there lived a group of magical coffee bea...  \n",
       "59  Chapter Text\\nThe busy capital of Enngstan was...  \n",
       "36  Chapter Text\\nShinji IkariVerse 1:In a world o...  "
      ]
     },
     "execution_count": 7,
     "metadata": {},
     "output_type": "execute_result"
    }
   ],
   "source": [
    "### CHECK STRUCTURE - GPT\n",
    "\n",
    "df_train_gpt.sample(n=5)"
   ]
  },
  {
   "cell_type": "code",
   "execution_count": 8,
   "metadata": {},
   "outputs": [
    {
     "data": {
      "text/html": [
       "<div>\n",
       "<style scoped>\n",
       "    .dataframe tbody tr th:only-of-type {\n",
       "        vertical-align: middle;\n",
       "    }\n",
       "\n",
       "    .dataframe tbody tr th {\n",
       "        vertical-align: top;\n",
       "    }\n",
       "\n",
       "    .dataframe thead th {\n",
       "        text-align: right;\n",
       "    }\n",
       "</style>\n",
       "<table border=\"1\" class=\"dataframe\">\n",
       "  <thead>\n",
       "    <tr style=\"text-align: right;\">\n",
       "      <th></th>\n",
       "      <th>prompts</th>\n",
       "      <th>BARD</th>\n",
       "    </tr>\n",
       "  </thead>\n",
       "  <tbody>\n",
       "    <tr>\n",
       "      <th>283</th>\n",
       "      <td>Tell the story of a group of friends who stumb...</td>\n",
       "      <td>\\r\\nThe four friends, Anya, Ben, Chris, and Da...</td>\n",
       "    </tr>\n",
       "    <tr>\n",
       "      <th>73</th>\n",
       "      <td>Write a story about a character who can commun...</td>\n",
       "      <td>\\r\\nSure, here is a story about a character wh...</td>\n",
       "    </tr>\n",
       "    <tr>\n",
       "      <th>164</th>\n",
       "      <td>Tell the story of a group of explorers who stu...</td>\n",
       "      <td>\\r\\nThe Hidden City\\r\\n\\r\\nThe year is 2042. A...</td>\n",
       "    </tr>\n",
       "    <tr>\n",
       "      <th>132</th>\n",
       "      <td>Imagine a world where people can manipulate th...</td>\n",
       "      <td>\\r\\nThe World of Elemental Dance\\r\\n\\r\\nThe ye...</td>\n",
       "    </tr>\n",
       "    <tr>\n",
       "      <th>258</th>\n",
       "      <td>Write a story about a character who can contro...</td>\n",
       "      <td>\\r\\nThe year is 2042. The world has changed dr...</td>\n",
       "    </tr>\n",
       "  </tbody>\n",
       "</table>\n",
       "</div>"
      ],
      "text/plain": [
       "                                               prompts  \\\n",
       "283  Tell the story of a group of friends who stumb...   \n",
       "73   Write a story about a character who can commun...   \n",
       "164  Tell the story of a group of explorers who stu...   \n",
       "132  Imagine a world where people can manipulate th...   \n",
       "258  Write a story about a character who can contro...   \n",
       "\n",
       "                                                  BARD  \n",
       "283  \\r\\nThe four friends, Anya, Ben, Chris, and Da...  \n",
       "73   \\r\\nSure, here is a story about a character wh...  \n",
       "164  \\r\\nThe Hidden City\\r\\n\\r\\nThe year is 2042. A...  \n",
       "132  \\r\\nThe World of Elemental Dance\\r\\n\\r\\nThe ye...  \n",
       "258  \\r\\nThe year is 2042. The world has changed dr...  "
      ]
     },
     "execution_count": 8,
     "metadata": {},
     "output_type": "execute_result"
    }
   ],
   "source": [
    "### CHECK STRUCTURE - BARD\n",
    "\n",
    "df_train_bard.sample(n=5)"
   ]
  },
  {
   "cell_type": "code",
   "execution_count": 9,
   "metadata": {},
   "outputs": [
    {
     "data": {
      "text/html": [
       "<div>\n",
       "<style scoped>\n",
       "    .dataframe tbody tr th:only-of-type {\n",
       "        vertical-align: middle;\n",
       "    }\n",
       "\n",
       "    .dataframe tbody tr th {\n",
       "        vertical-align: top;\n",
       "    }\n",
       "\n",
       "    .dataframe thead th {\n",
       "        text-align: right;\n",
       "    }\n",
       "</style>\n",
       "<table border=\"1\" class=\"dataframe\">\n",
       "  <thead>\n",
       "    <tr style=\"text-align: right;\">\n",
       "      <th></th>\n",
       "      <th>Title</th>\n",
       "      <th>Author</th>\n",
       "      <th>Fandoms</th>\n",
       "      <th>Required_tags</th>\n",
       "      <th>Datetime</th>\n",
       "      <th>Tags</th>\n",
       "      <th>ChatGPT_Tag</th>\n",
       "      <th>Summary</th>\n",
       "      <th>Language</th>\n",
       "      <th>Words</th>\n",
       "      <th>Chapters</th>\n",
       "      <th>Comments</th>\n",
       "      <th>Kudos</th>\n",
       "      <th>Bookmarks</th>\n",
       "      <th>Hits</th>\n",
       "      <th>Chapter_text</th>\n",
       "    </tr>\n",
       "  </thead>\n",
       "  <tbody>\n",
       "    <tr>\n",
       "      <th>144</th>\n",
       "      <td>The Three Artifacts of the Demon World</td>\n",
       "      <td>Kikuta_Hirari</td>\n",
       "      <td>Dance with Devils (Anime), Dance with Devils (...</td>\n",
       "      <td>[]</td>\n",
       "      <td>23 Mar 2023</td>\n",
       "      <td>['Graphic Depictions Of Violence', 'Kaginuki R...</td>\n",
       "      <td>No</td>\n",
       "      <td>A slightly alternative ending to the anime, an...</td>\n",
       "      <td>English</td>\n",
       "      <td>854</td>\n",
       "      <td>1/?</td>\n",
       "      <td>NaN</td>\n",
       "      <td>NaN</td>\n",
       "      <td>NaN</td>\n",
       "      <td>3</td>\n",
       "      <td>Chapter Text\\r\\nThe bell struck the first of t...</td>\n",
       "    </tr>\n",
       "    <tr>\n",
       "      <th>89</th>\n",
       "      <td>Your eulogy.</td>\n",
       "      <td>KatBkgDynamite (ShardsOMemory)</td>\n",
       "      <td>僕のヒーローアカデミア | Boku no Hero Academia | My Hero ...</td>\n",
       "      <td>[]</td>\n",
       "      <td>23 Mar 2023</td>\n",
       "      <td>['Graphic Depictions Of Violence', 'Major Char...</td>\n",
       "      <td>No</td>\n",
       "      <td>Eulogy;a speech or piece of writing that prais...</td>\n",
       "      <td>English</td>\n",
       "      <td>626</td>\n",
       "      <td>1/1</td>\n",
       "      <td>NaN</td>\n",
       "      <td>4.0</td>\n",
       "      <td>1.0</td>\n",
       "      <td>49</td>\n",
       "      <td>He did it. Izuku won. He won, he thought as he...</td>\n",
       "    </tr>\n",
       "    <tr>\n",
       "      <th>121</th>\n",
       "      <td>I'm here, little brother</td>\n",
       "      <td>duarsafin</td>\n",
       "      <td>Young Royals (TV 2021)</td>\n",
       "      <td>[]</td>\n",
       "      <td>23 Mar 2023</td>\n",
       "      <td>['Creator Chose Not To Use Archive Warnings', ...</td>\n",
       "      <td>No</td>\n",
       "      <td>Wille is sick with a fever and Erik takes care...</td>\n",
       "      <td>English</td>\n",
       "      <td>650</td>\n",
       "      <td>1/1</td>\n",
       "      <td>1.0</td>\n",
       "      <td>6.0</td>\n",
       "      <td>1.0</td>\n",
       "      <td>104</td>\n",
       "      <td>He’s sweating but he feels very cold. Grabbing...</td>\n",
       "    </tr>\n",
       "    <tr>\n",
       "      <th>102</th>\n",
       "      <td>Tangle in Elden Ring/The First Emerald</td>\n",
       "      <td>SuperBadAtUsernames</td>\n",
       "      <td>Elden Ring (Video Game), Sonic the Hedgehog - ...</td>\n",
       "      <td>[]</td>\n",
       "      <td>23 Mar 2023</td>\n",
       "      <td>['Creator Chose Not To Use Archive Warnings', ...</td>\n",
       "      <td>No</td>\n",
       "      <td>A certain lemur discovers the location of a ch...</td>\n",
       "      <td>English</td>\n",
       "      <td>852</td>\n",
       "      <td>1/1</td>\n",
       "      <td>NaN</td>\n",
       "      <td>NaN</td>\n",
       "      <td>NaN</td>\n",
       "      <td>3</td>\n",
       "      <td>At a large, stone pathway in Limgrave- not too...</td>\n",
       "    </tr>\n",
       "    <tr>\n",
       "      <th>56</th>\n",
       "      <td>The pain of a beloved</td>\n",
       "      <td>A_Sleep_Deprived_Author</td>\n",
       "      <td>Lifesteal SMP</td>\n",
       "      <td>[]</td>\n",
       "      <td>23 Mar 2023</td>\n",
       "      <td>['Major Character Death', 'Ivory | IvoryCello ...</td>\n",
       "      <td>No</td>\n",
       "      <td>Branzy is Just another person, and clown is a ...</td>\n",
       "      <td>English</td>\n",
       "      <td>891</td>\n",
       "      <td>1/?</td>\n",
       "      <td>1.0</td>\n",
       "      <td>2.0</td>\n",
       "      <td>NaN</td>\n",
       "      <td>6</td>\n",
       "      <td>Chapter Text\\r\\n\\r\\nChapter one:\\r\\n\\r\\nThanks...</td>\n",
       "    </tr>\n",
       "  </tbody>\n",
       "</table>\n",
       "</div>"
      ],
      "text/plain": [
       "                                      Title                          Author  \\\n",
       "144  The Three Artifacts of the Demon World                   Kikuta_Hirari   \n",
       "89                             Your eulogy.  KatBkgDynamite (ShardsOMemory)   \n",
       "121                I'm here, little brother                       duarsafin   \n",
       "102  Tangle in Elden Ring/The First Emerald             SuperBadAtUsernames   \n",
       "56                    The pain of a beloved         A_Sleep_Deprived_Author   \n",
       "\n",
       "                                               Fandoms Required_tags  \\\n",
       "144  Dance with Devils (Anime), Dance with Devils (...            []   \n",
       "89   僕のヒーローアカデミア | Boku no Hero Academia | My Hero ...            []   \n",
       "121                             Young Royals (TV 2021)            []   \n",
       "102  Elden Ring (Video Game), Sonic the Hedgehog - ...            []   \n",
       "56                                       Lifesteal SMP            []   \n",
       "\n",
       "        Datetime                                               Tags  \\\n",
       "144  23 Mar 2023  ['Graphic Depictions Of Violence', 'Kaginuki R...   \n",
       "89   23 Mar 2023  ['Graphic Depictions Of Violence', 'Major Char...   \n",
       "121  23 Mar 2023  ['Creator Chose Not To Use Archive Warnings', ...   \n",
       "102  23 Mar 2023  ['Creator Chose Not To Use Archive Warnings', ...   \n",
       "56   23 Mar 2023  ['Major Character Death', 'Ivory | IvoryCello ...   \n",
       "\n",
       "    ChatGPT_Tag                                            Summary Language  \\\n",
       "144          No  A slightly alternative ending to the anime, an...  English   \n",
       "89           No  Eulogy;a speech or piece of writing that prais...  English   \n",
       "121          No  Wille is sick with a fever and Erik takes care...  English   \n",
       "102          No  A certain lemur discovers the location of a ch...  English   \n",
       "56           No  Branzy is Just another person, and clown is a ...  English   \n",
       "\n",
       "     Words Chapters  Comments  Kudos  Bookmarks  Hits  \\\n",
       "144    854      1/?       NaN    NaN        NaN     3   \n",
       "89     626      1/1       NaN    4.0        1.0    49   \n",
       "121    650      1/1       1.0    6.0        1.0   104   \n",
       "102    852      1/1       NaN    NaN        NaN     3   \n",
       "56     891      1/?       1.0    2.0        NaN     6   \n",
       "\n",
       "                                          Chapter_text  \n",
       "144  Chapter Text\\r\\nThe bell struck the first of t...  \n",
       "89   He did it. Izuku won. He won, he thought as he...  \n",
       "121  He’s sweating but he feels very cold. Grabbing...  \n",
       "102  At a large, stone pathway in Limgrave- not too...  \n",
       "56   Chapter Text\\r\\n\\r\\nChapter one:\\r\\n\\r\\nThanks...  "
      ]
     },
     "execution_count": 9,
     "metadata": {},
     "output_type": "execute_result"
    }
   ],
   "source": [
    "### CHECK STRUCTURE - HUMAN\n",
    "\n",
    "df_train_human.sample(n=5)"
   ]
  },
  {
   "cell_type": "code",
   "execution_count": 10,
   "metadata": {},
   "outputs": [
    {
     "data": {
      "text/plain": [
       "<bound method IndexOpsMixin.tolist of Index(['Title', 'Author', 'Fandoms', 'Required_tags', 'Datetime', 'Tags',\n",
       "       'ChatGPT_Tag', 'Summary', 'Language', 'Words', 'Chapters', 'Comments',\n",
       "       'Kudos', 'Bookmarks', 'Hits', 'Chapter_text'],\n",
       "      dtype='object')>"
      ]
     },
     "execution_count": 10,
     "metadata": {},
     "output_type": "execute_result"
    }
   ],
   "source": [
    "df_train_human.columns.to_list"
   ]
  },
  {
   "cell_type": "code",
   "execution_count": 11,
   "metadata": {},
   "outputs": [
    {
     "name": "stdout",
     "output_type": "stream",
     "text": [
      "Missing values in GPT dataset :\n",
      "index           0\n",
      "Title           0\n",
      "Chapter_text    4\n",
      "dtype: int64\n",
      "\n",
      "\n",
      "Missing values in BARD dataset :\n",
      "prompts    0\n",
      "BARD       0\n",
      "dtype: int64\n",
      "\n",
      "\n",
      "Missing values in HUMAN dataset :\n",
      "Title              0\n",
      "Author             9\n",
      "Fandoms            0\n",
      "Required_tags      0\n",
      "Datetime           0\n",
      "Tags               0\n",
      "ChatGPT_Tag        0\n",
      "Summary            5\n",
      "Language           0\n",
      "Words              0\n",
      "Chapters           0\n",
      "Comments         135\n",
      "Kudos             96\n",
      "Bookmarks        141\n",
      "Hits               0\n",
      "Chapter_text       2\n",
      "dtype: int64\n",
      "\n",
      "\n"
     ]
    }
   ],
   "source": [
    "### CHECK MISSING VALUES\n",
    "\n",
    "for df, name in zip(\n",
    "    [df_train_gpt, df_train_bard, df_train_human], [\"GPT\", \"BARD\", \"HUMAN\"]\n",
    "):\n",
    "    print(f\"Missing values in {name} dataset :\")\n",
    "    print(df.isna().sum())\n",
    "    print(\"\\n\")"
   ]
  },
  {
   "cell_type": "code",
   "execution_count": 12,
   "metadata": {},
   "outputs": [
    {
     "name": "stdout",
     "output_type": "stream",
     "text": [
      "Empty text in GPT dataset :\n",
      "0\n",
      "\n",
      "\n",
      "Empty text in BARD dataset :\n",
      "0\n",
      "\n",
      "\n",
      "Empty text in HUMAN dataset :\n",
      "0\n",
      "\n",
      "\n"
     ]
    }
   ],
   "source": [
    "### CHECK EMPTY TEXT\n",
    "\n",
    "for df, name in zip(\n",
    "    [df_train_gpt, df_train_bard, df_train_human], [\"GPT\", \"BARD\", \"HUMAN\"]\n",
    "):\n",
    "    print(f\"Empty text in {name} dataset :\")\n",
    "    if name == \"BARD\":\n",
    "        print(len(df[df[\"BARD\"] == \"\"]))\n",
    "    elif name == \"GPT\":\n",
    "        print(len(df[df[\"Chapter_text\"] == \"\"]))\n",
    "    elif name == \"HUMAN\":\n",
    "        print(len(df[df[\"Chapter_text\"] == \"\\r\\r\\n\"]))\n",
    "    print(\"\\n\")"
   ]
  },
  {
   "cell_type": "code",
   "execution_count": 13,
   "metadata": {},
   "outputs": [
    {
     "name": "stdout",
     "output_type": "stream",
     "text": [
      "Duplicate rows in GPT dataset :\n",
      "0\n",
      "\n",
      "\n",
      "Duplicate rows in BARD dataset :\n",
      "0\n",
      "\n",
      "\n",
      "Duplicate rows in HUMAN dataset :\n",
      "3\n",
      "\n",
      "\n"
     ]
    }
   ],
   "source": [
    "### CHECK DUPLICATES\n",
    "\n",
    "for df, name in zip(\n",
    "    [df_train_gpt, df_train_bard, df_train_human], [\"GPT\", \"BARD\", \"HUMAN\"]\n",
    "):\n",
    "    print(f\"Duplicate rows in {name} dataset :\")\n",
    "    print(df.duplicated().sum())\n",
    "    print(\"\\n\")"
   ]
  },
  {
   "cell_type": "markdown",
   "metadata": {},
   "source": [
    "## **CLEAN DATA**"
   ]
  },
  {
   "cell_type": "code",
   "execution_count": 14,
   "metadata": {},
   "outputs": [],
   "source": [
    "### CLEAN AND CONCATENATE DATASETS\n",
    "\n",
    "df_train = preprocessing.get_story_dataset(\n",
    "    df_train_gpt, df_train_bard, df_train_human, samples_per_source=200\n",
    ")"
   ]
  },
  {
   "cell_type": "code",
   "execution_count": 15,
   "metadata": {},
   "outputs": [
    {
     "data": {
      "text/html": [
       "<div>\n",
       "<style scoped>\n",
       "    .dataframe tbody tr th:only-of-type {\n",
       "        vertical-align: middle;\n",
       "    }\n",
       "\n",
       "    .dataframe tbody tr th {\n",
       "        vertical-align: top;\n",
       "    }\n",
       "\n",
       "    .dataframe thead th {\n",
       "        text-align: right;\n",
       "    }\n",
       "</style>\n",
       "<table border=\"1\" class=\"dataframe\">\n",
       "  <thead>\n",
       "    <tr style=\"text-align: right;\">\n",
       "      <th></th>\n",
       "      <th>text</th>\n",
       "      <th>abstract</th>\n",
       "      <th>label</th>\n",
       "      <th>type</th>\n",
       "    </tr>\n",
       "  </thead>\n",
       "  <tbody>\n",
       "    <tr>\n",
       "      <th>29</th>\n",
       "      <td>It hadn't always been like this. Once, upon a ...</td>\n",
       "      <td>Sick Eric has the ability to cure people of th...</td>\n",
       "      <td>0</td>\n",
       "      <td>story</td>\n",
       "    </tr>\n",
       "    <tr>\n",
       "      <th>282</th>\n",
       "      <td>(prompt: write an scene where its an argument ...</td>\n",
       "      <td>AI generated fanfic: The argument - a Breaking...</td>\n",
       "      <td>1</td>\n",
       "      <td>story</td>\n",
       "    </tr>\n",
       "    <tr>\n",
       "      <th>3</th>\n",
       "      <td>Sure, here is a story set in a world where peo...</td>\n",
       "      <td>Imagine a world where people can manipulate th...</td>\n",
       "      <td>2</td>\n",
       "      <td>story</td>\n",
       "    </tr>\n",
       "    <tr>\n",
       "      <th>62</th>\n",
       "      <td>The sun was setting over the desolate landscap...</td>\n",
       "      <td>Fiery But Mostly Peaceful Drone Strike</td>\n",
       "      <td>1</td>\n",
       "      <td>story</td>\n",
       "    </tr>\n",
       "    <tr>\n",
       "      <th>144</th>\n",
       "      <td>The Time Lord Anya was a young woman who had a...</td>\n",
       "      <td>Write a story about a character who can contro...</td>\n",
       "      <td>2</td>\n",
       "      <td>story</td>\n",
       "    </tr>\n",
       "    <tr>\n",
       "      <th>231</th>\n",
       "      <td>It was the end of the school year, and Nick an...</td>\n",
       "      <td>Heartstopper AI One-Shots</td>\n",
       "      <td>1</td>\n",
       "      <td>story</td>\n",
       "    </tr>\n",
       "    <tr>\n",
       "      <th>500</th>\n",
       "      <td>Fang dresses up in a pretty sundress that his ...</td>\n",
       "      <td>Fang dresses up in a pretty sundress.</td>\n",
       "      <td>0</td>\n",
       "      <td>story</td>\n",
       "    </tr>\n",
       "    <tr>\n",
       "      <th>462</th>\n",
       "      <td>The inquisitor sets down the headache-inducing...</td>\n",
       "      <td>N Corp Heathcliff downs a glass of cum. Please...</td>\n",
       "      <td>0</td>\n",
       "      <td>story</td>\n",
       "    </tr>\n",
       "    <tr>\n",
       "      <th>93</th>\n",
       "      <td>Chapter one: Thanks for the free kiss. Branzy ...</td>\n",
       "      <td>Branzy is Just another person, and clown is a ...</td>\n",
       "      <td>0</td>\n",
       "      <td>story</td>\n",
       "    </tr>\n",
       "    <tr>\n",
       "      <th>269</th>\n",
       "      <td>Neil Josten couldn't believe his luck when he ...</td>\n",
       "      <td>Andrew Kisses Neil</td>\n",
       "      <td>1</td>\n",
       "      <td>story</td>\n",
       "    </tr>\n",
       "  </tbody>\n",
       "</table>\n",
       "</div>"
      ],
      "text/plain": [
       "                                                  text  \\\n",
       "29   It hadn't always been like this. Once, upon a ...   \n",
       "282  (prompt: write an scene where its an argument ...   \n",
       "3    Sure, here is a story set in a world where peo...   \n",
       "62   The sun was setting over the desolate landscap...   \n",
       "144  The Time Lord Anya was a young woman who had a...   \n",
       "231  It was the end of the school year, and Nick an...   \n",
       "500  Fang dresses up in a pretty sundress that his ...   \n",
       "462  The inquisitor sets down the headache-inducing...   \n",
       "93   Chapter one: Thanks for the free kiss. Branzy ...   \n",
       "269  Neil Josten couldn't believe his luck when he ...   \n",
       "\n",
       "                                              abstract  label   type  \n",
       "29   Sick Eric has the ability to cure people of th...      0  story  \n",
       "282  AI generated fanfic: The argument - a Breaking...      1  story  \n",
       "3    Imagine a world where people can manipulate th...      2  story  \n",
       "62              Fiery But Mostly Peaceful Drone Strike      1  story  \n",
       "144  Write a story about a character who can contro...      2  story  \n",
       "231                          Heartstopper AI One-Shots      1  story  \n",
       "500              Fang dresses up in a pretty sundress.      0  story  \n",
       "462  N Corp Heathcliff downs a glass of cum. Please...      0  story  \n",
       "93   Branzy is Just another person, and clown is a ...      0  story  \n",
       "269                                 Andrew Kisses Neil      1  story  "
      ]
     },
     "execution_count": 15,
     "metadata": {},
     "output_type": "execute_result"
    }
   ],
   "source": [
    "### CHECK\n",
    "\n",
    "df_train.sample(10)"
   ]
  },
  {
   "cell_type": "code",
   "execution_count": 16,
   "metadata": {},
   "outputs": [
    {
     "data": {
      "text/html": [
       "<div>\n",
       "<style scoped>\n",
       "    .dataframe tbody tr th:only-of-type {\n",
       "        vertical-align: middle;\n",
       "    }\n",
       "\n",
       "    .dataframe tbody tr th {\n",
       "        vertical-align: top;\n",
       "    }\n",
       "\n",
       "    .dataframe thead th {\n",
       "        text-align: right;\n",
       "    }\n",
       "</style>\n",
       "<table border=\"1\" class=\"dataframe\">\n",
       "  <thead>\n",
       "    <tr style=\"text-align: right;\">\n",
       "      <th></th>\n",
       "      <th>text</th>\n",
       "      <th>abstract</th>\n",
       "      <th>label</th>\n",
       "      <th>type</th>\n",
       "    </tr>\n",
       "  </thead>\n",
       "  <tbody>\n",
       "  </tbody>\n",
       "</table>\n",
       "</div>"
      ],
      "text/plain": [
       "Empty DataFrame\n",
       "Columns: [text, abstract, label, type]\n",
       "Index: []"
      ]
     },
     "execution_count": 16,
     "metadata": {},
     "output_type": "execute_result"
    }
   ],
   "source": [
    "### CHECK EMPTY TEXTS\n",
    "\n",
    "df_train[df_train[\"text\"] == \"\"]"
   ]
  },
  {
   "cell_type": "code",
   "execution_count": 17,
   "metadata": {},
   "outputs": [
    {
     "data": {
      "text/plain": [
       "label\n",
       "2    200\n",
       "1    200\n",
       "0    200\n",
       "Name: count, dtype: int64"
      ]
     },
     "execution_count": 17,
     "metadata": {},
     "output_type": "execute_result"
    }
   ],
   "source": [
    "### CHECK SPLIT\n",
    "\n",
    "df_train[names.LABEL].value_counts()"
   ]
  },
  {
   "cell_type": "markdown",
   "metadata": {},
   "source": [
    "## **PLOTS**"
   ]
  },
  {
   "cell_type": "code",
   "execution_count": 18,
   "metadata": {},
   "outputs": [
    {
     "data": {
      "image/png": "[encoded data removed]",
      "text/plain": [
       "<Figure size 1200x600 with 3 Axes>"
      ]
     },
     "metadata": {},
     "output_type": "display_data"
    }
   ],
   "source": [
    "### PLOT ABSTRACT LENGTH DISTRIBUTION (CHARACTERS)\n",
    "\n",
    "sentence_lengths_chars = np.array(df_train[names.TEXT].str.len())\n",
    "visualization.plot_histogram_sentence_length(\n",
    "    sentence_lengths=sentence_lengths_chars,\n",
    "    labels=df_train[names.LABEL],\n",
    "    type=\"characters\",\n",
    ")"
   ]
  },
  {
   "cell_type": "code",
   "execution_count": 19,
   "metadata": {},
   "outputs": [
    {
     "data": {
      "image/png": "[encoded data removed]",
      "text/plain": [
       "<Figure size 1200x600 with 3 Axes>"
      ]
     },
     "metadata": {},
     "output_type": "display_data"
    }
   ],
   "source": [
    "### PLOT ABSTRACT LENGTH DISTRIBUTION (WORDS)\n",
    "\n",
    "sentence_lengths_words = np.array(df_train[names.TEXT].str.split().str.len())\n",
    "visualization.plot_histogram_sentence_length(\n",
    "    sentence_lengths=sentence_lengths_words, labels=df_train[names.LABEL], type=\"words\"\n",
    ")"
   ]
  },
  {
   "cell_type": "code",
   "execution_count": 20,
   "metadata": {},
   "outputs": [
    {
     "data": {
      "application/vnd.jupyter.widget-view+json": {
       "model_id": "2f0ca7fbcf754349af952ed73be7fdcf",
       "version_major": 2,
       "version_minor": 0
      },
      "text/plain": [
       "interactive(children=(IntSlider(value=0, description='ID', max=599), Output()), _dom_classes=('widget-interact…"
      ]
     },
     "metadata": {},
     "output_type": "display_data"
    }
   ],
   "source": [
    "### PLOT WORDCLOUD FOR EACH TEXT\n",
    "\n",
    "texts = df_train[names.TEXT].to_numpy()\n",
    "labels = df_train[names.LABEL].to_numpy()\n",
    "\n",
    "visualization.plot_wordcloud_slider(texts=texts, labels=labels)"
   ]
  }
 ],
 "metadata": {
  "kernelspec": {
   "display_name": "py310-all",
   "language": "python",
   "name": "python3"
  },
  "language_info": {
   "codemirror_mode": {
    "name": "ipython",
    "version": 3
   },
   "file_extension": ".py",
   "mimetype": "text/x-python",
   "name": "python",
   "nbconvert_exporter": "python",
   "pygments_lexer": "ipython3",
   "version": "3.10.0"
  }
 },
 "nbformat": 4,
 "nbformat_minor": 2
}
