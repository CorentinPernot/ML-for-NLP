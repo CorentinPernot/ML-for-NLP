{
 "cells": [
  {
   "cell_type": "markdown",
   "metadata": {},
   "source": [
    "# **Analysis of the data**"
   ]
  },
  {
   "cell_type": "markdown",
   "metadata": {},
   "source": [
    "## **Preliminary steps**"
   ]
  },
  {
   "cell_type": "code",
   "execution_count": 1,
   "metadata": {},
   "outputs": [],
   "source": [
    "### PACKAGES\n",
    "\n",
    "import pandas as pd\n",
    "import numpy as np"
   ]
  },
  {
   "cell_type": "code",
   "execution_count": 2,
   "metadata": {},
   "outputs": [],
   "source": [
    "### FUNCTIONS\n",
    "\n",
    "from src.libs import preprocessing, visualization\n",
    "\n",
    "from src.configs import names, constants"
   ]
  },
  {
   "cell_type": "code",
   "execution_count": 3,
   "metadata": {},
   "outputs": [],
   "source": [
    "pd.set_option(\"display.max_columns\", None)"
   ]
  },
  {
   "cell_type": "markdown",
   "metadata": {},
   "source": [
    "## **RAW DATA**"
   ]
  },
  {
   "cell_type": "code",
   "execution_count": 4,
   "metadata": {},
   "outputs": [
    {
     "name": "stdout",
     "output_type": "stream",
     "text": [
      "Time taken to load dataset: 0.015888690948486328 seconds\n",
      "Time taken to load dataset: 0.00711822509765625 seconds\n",
      "Time taken to load dataset: 0.34998655319213867 seconds\n"
     ]
    }
   ],
   "source": [
    "### LOAD DATA\n",
    "\n",
    "df_gpt = preprocessing.load_dataset(source=\"GPT\", type=\"POETRY\")\n",
    "df_bard = preprocessing.load_dataset(source=\"BARD\", type=\"POETRY\")\n",
    "df_human = preprocessing.load_dataset(source=\"Human\", type=\"POETRY\")"
   ]
  },
  {
   "cell_type": "code",
   "execution_count": null,
   "metadata": {},
   "outputs": [],
   "source": [
    "### GET TRAIN SPLIT\n",
    "\n",
    "df_train_gpt, _ = preprocessing.train_valid_split(df_gpt)\n",
    "df_train_bard, _ = preprocessing.train_valid_split(df_bard)\n",
    "df_train_human, _ = preprocessing.train_valid_split(df_human)\n"
   ]
  },
  {
   "cell_type": "code",
   "execution_count": 6,
   "metadata": {},
   "outputs": [
    {
     "name": "stdout",
     "output_type": "stream",
     "text": [
      "Shape of the GPT train set : (225, 2)\n",
      "Shape of the BARD train set : (225, 2)\n",
      "Shape of the HUMAN train set : (12468, 4)\n"
     ]
    }
   ],
   "source": [
    "### CHECK SHAPES\n",
    "\n",
    "print(f\"Shape of the GPT train set : {df_train_gpt.shape}\")\n",
    "print(f\"Shape of the BARD train set : {df_train_bard.shape}\")\n",
    "print(f\"Shape of the HUMAN train set : {df_train_human.shape}\")"
   ]
  },
  {
   "cell_type": "code",
   "execution_count": 7,
   "metadata": {},
   "outputs": [
    {
     "data": {
      "text/html": [
       "<div>\n",
       "<style scoped>\n",
       "    .dataframe tbody tr th:only-of-type {\n",
       "        vertical-align: middle;\n",
       "    }\n",
       "\n",
       "    .dataframe tbody tr th {\n",
       "        vertical-align: top;\n",
       "    }\n",
       "\n",
       "    .dataframe thead th {\n",
       "        text-align: right;\n",
       "    }\n",
       "</style>\n",
       "<table border=\"1\" class=\"dataframe\">\n",
       "  <thead>\n",
       "    <tr style=\"text-align: right;\">\n",
       "      <th></th>\n",
       "      <th>prompts</th>\n",
       "      <th>responses</th>\n",
       "    </tr>\n",
       "  </thead>\n",
       "  <tbody>\n",
       "    <tr>\n",
       "      <th>111</th>\n",
       "      <td>write a poem about a secret you never told anyone</td>\n",
       "      <td>Locked tight and hidden deep,\\nA secret I've n...</td>\n",
       "    </tr>\n",
       "    <tr>\n",
       "      <th>10</th>\n",
       "      <td>write a poetry about friendship</td>\n",
       "      <td>Friendship, oh friendship\\nA bond that will ne...</td>\n",
       "    </tr>\n",
       "    <tr>\n",
       "      <th>232</th>\n",
       "      <td>Poetry title: Symphony of Serenity</td>\n",
       "      <td>Amidst the chaos, a symphony of serenity\\nEcho...</td>\n",
       "    </tr>\n",
       "    <tr>\n",
       "      <th>189</th>\n",
       "      <td>write a poem about a jungle you avoid</td>\n",
       "      <td>In the heart of the jungle, deep and vast\\nLie...</td>\n",
       "    </tr>\n",
       "    <tr>\n",
       "      <th>148</th>\n",
       "      <td>write a poem about a flower you find beautiful</td>\n",
       "      <td>Oh fair and gentle flower, so lovely to behold...</td>\n",
       "    </tr>\n",
       "  </tbody>\n",
       "</table>\n",
       "</div>"
      ],
      "text/plain": [
       "                                               prompts  \\\n",
       "111  write a poem about a secret you never told anyone   \n",
       "10                     write a poetry about friendship   \n",
       "232                 Poetry title: Symphony of Serenity   \n",
       "189              write a poem about a jungle you avoid   \n",
       "148     write a poem about a flower you find beautiful   \n",
       "\n",
       "                                             responses  \n",
       "111  Locked tight and hidden deep,\\nA secret I've n...  \n",
       "10   Friendship, oh friendship\\nA bond that will ne...  \n",
       "232  Amidst the chaos, a symphony of serenity\\nEcho...  \n",
       "189  In the heart of the jungle, deep and vast\\nLie...  \n",
       "148  Oh fair and gentle flower, so lovely to behold...  "
      ]
     },
     "execution_count": 7,
     "metadata": {},
     "output_type": "execute_result"
    }
   ],
   "source": [
    "### CHECK STRUCTURE - GPT\n",
    "\n",
    "df_train_gpt.sample(n=5)"
   ]
  },
  {
   "cell_type": "code",
   "execution_count": null,
   "metadata": {},
   "outputs": [
    {
     "data": {
      "text/html": [
       "<div>\n",
       "<style scoped>\n",
       "    .dataframe tbody tr th:only-of-type {\n",
       "        vertical-align: middle;\n",
       "    }\n",
       "\n",
       "    .dataframe tbody tr th {\n",
       "        vertical-align: top;\n",
       "    }\n",
       "\n",
       "    .dataframe thead th {\n",
       "        text-align: right;\n",
       "    }\n",
       "</style>\n",
       "<table border=\"1\" class=\"dataframe\">\n",
       "  <thead>\n",
       "    <tr style=\"text-align: right;\">\n",
       "      <th></th>\n",
       "      <th>prompts</th>\n",
       "      <th>BARD</th>\n",
       "    </tr>\n",
       "  </thead>\n",
       "  <tbody>\n",
       "    <tr>\n",
       "      <th>238</th>\n",
       "      <td>Make a Make a Poetry with title: Beneath the m...</td>\n",
       "      <td>Beneath the moon's soft glow, a whispering bre...</td>\n",
       "    </tr>\n",
       "    <tr>\n",
       "      <th>90</th>\n",
       "      <td>write a poetry about shape</td>\n",
       "      <td>The Shape of Things\\r\\n\\r\\nA circle, round and...</td>\n",
       "    </tr>\n",
       "    <tr>\n",
       "      <th>37</th>\n",
       "      <td>write a poetry about cloud</td>\n",
       "      <td>Clouds\\r\\n\\r\\nThey float in the sky,\\r\\nSoarin...</td>\n",
       "    </tr>\n",
       "    <tr>\n",
       "      <th>35</th>\n",
       "      <td>write a poetry about wind</td>\n",
       "      <td>Wind\\r\\n\\r\\nA whisper in the trees,\\r\\nA breat...</td>\n",
       "    </tr>\n",
       "    <tr>\n",
       "      <th>175</th>\n",
       "      <td>write a poem about a quasar you find fascinati...</td>\n",
       "      <td>Quasar\\r\\n\\r\\nA brilliant point of light,\\r\\nS...</td>\n",
       "    </tr>\n",
       "  </tbody>\n",
       "</table>\n",
       "</div>"
      ],
      "text/plain": [
       "                                               prompts  \\\n",
       "238  Make a Make a Poetry with title: Beneath the m...   \n",
       "90                          write a poetry about shape   \n",
       "37                          write a poetry about cloud   \n",
       "35                           write a poetry about wind   \n",
       "175  write a poem about a quasar you find fascinati...   \n",
       "\n",
       "                                                  BARD  \n",
       "238  Beneath the moon's soft glow, a whispering bre...  \n",
       "90   The Shape of Things\\r\\n\\r\\nA circle, round and...  \n",
       "37   Clouds\\r\\n\\r\\nThey float in the sky,\\r\\nSoarin...  \n",
       "35   Wind\\r\\n\\r\\nA whisper in the trees,\\r\\nA breat...  \n",
       "175  Quasar\\r\\n\\r\\nA brilliant point of light,\\r\\nS...  "
      ]
     },
     "execution_count": 8,
     "metadata": {},
     "output_type": "execute_result"
    }
   ],
   "source": [
    "### CHECK STRUCTURE - BARD\n",
    "\n",
    "df_train_bard.sample(n=5)\n"
   ]
  },
  {
   "cell_type": "code",
   "execution_count": null,
   "metadata": {},
   "outputs": [
    {
     "data": {
      "text/html": [
       "<div>\n",
       "<style scoped>\n",
       "    .dataframe tbody tr th:only-of-type {\n",
       "        vertical-align: middle;\n",
       "    }\n",
       "\n",
       "    .dataframe tbody tr th {\n",
       "        vertical-align: top;\n",
       "    }\n",
       "\n",
       "    .dataframe thead th {\n",
       "        text-align: right;\n",
       "    }\n",
       "</style>\n",
       "<table border=\"1\" class=\"dataframe\">\n",
       "  <thead>\n",
       "    <tr style=\"text-align: right;\">\n",
       "      <th></th>\n",
       "      <th>Title</th>\n",
       "      <th>Poem</th>\n",
       "      <th>Poet</th>\n",
       "      <th>Tags</th>\n",
       "    </tr>\n",
       "  </thead>\n",
       "  <tbody>\n",
       "    <tr>\n",
       "      <th>118</th>\n",
       "      <td>\\r\\r\\nfrom Zero Hour\\r\\r\\n</td>\n",
       "      <td>\\r\\r\\nTropical nights in Central America,\\r\\r\\...</td>\n",
       "      <td>Ernesto Cardenal</td>\n",
       "      <td>Social Commentaries,History &amp; Politics</td>\n",
       "    </tr>\n",
       "    <tr>\n",
       "      <th>59</th>\n",
       "      <td>\\r\\r\\n                    The World Is in Penc...</td>\n",
       "      <td>\\r\\r\\n—not pen. It’s gotthat same silken dust ...</td>\n",
       "      <td>Todd Boss</td>\n",
       "      <td>NaN</td>\n",
       "    </tr>\n",
       "    <tr>\n",
       "      <th>150</th>\n",
       "      <td>\\r\\r\\n                    Feeling the draft\\r\\...</td>\n",
       "      <td>\\r\\r\\nWe were young and it was an accomplishme...</td>\n",
       "      <td>Bob Hicok</td>\n",
       "      <td>Living,Coming of Age,Sorrow &amp; Grieving,Philoso...</td>\n",
       "    </tr>\n",
       "    <tr>\n",
       "      <th>96</th>\n",
       "      <td>\\r\\r\\n                    Elegy for the Native...</td>\n",
       "      <td>\\r\\r\\n\\r\\r\\n\\r\\r\\n\\r\\r\\n\\r\\r\\n                ...</td>\n",
       "      <td>Natasha Trethewey</td>\n",
       "      <td>Living,Death,Nature,Weather,Social Commentarie...</td>\n",
       "    </tr>\n",
       "    <tr>\n",
       "      <th>90</th>\n",
       "      <td>\\r\\r\\n                    I Only Am Escaped Al...</td>\n",
       "      <td>\\r\\r\\nI tell you that I see her still\\r\\r\\nAt ...</td>\n",
       "      <td>Howard Nemerov</td>\n",
       "      <td>Living,Marriage &amp; Companionship,Nature,Animals...</td>\n",
       "    </tr>\n",
       "  </tbody>\n",
       "</table>\n",
       "</div>"
      ],
      "text/plain": [
       "                                                 Title  \\\n",
       "118         \\r\\r\\nfrom Zero Hour\\r\\r\\n                   \n",
       "59   \\r\\r\\n                    The World Is in Penc...   \n",
       "150  \\r\\r\\n                    Feeling the draft\\r\\...   \n",
       "96   \\r\\r\\n                    Elegy for the Native...   \n",
       "90   \\r\\r\\n                    I Only Am Escaped Al...   \n",
       "\n",
       "                                                  Poem               Poet  \\\n",
       "118  \\r\\r\\nTropical nights in Central America,\\r\\r\\...   Ernesto Cardenal   \n",
       "59   \\r\\r\\n—not pen. It’s gotthat same silken dust ...          Todd Boss   \n",
       "150  \\r\\r\\nWe were young and it was an accomplishme...          Bob Hicok   \n",
       "96   \\r\\r\\n\\r\\r\\n\\r\\r\\n\\r\\r\\n\\r\\r\\n                ...  Natasha Trethewey   \n",
       "90   \\r\\r\\nI tell you that I see her still\\r\\r\\nAt ...     Howard Nemerov   \n",
       "\n",
       "                                                  Tags  \n",
       "118             Social Commentaries,History & Politics  \n",
       "59                                                 NaN  \n",
       "150  Living,Coming of Age,Sorrow & Grieving,Philoso...  \n",
       "96   Living,Death,Nature,Weather,Social Commentarie...  \n",
       "90   Living,Marriage & Companionship,Nature,Animals...  "
      ]
     },
     "execution_count": 9,
     "metadata": {},
     "output_type": "execute_result"
    }
   ],
   "source": [
    "### CHECK STRUCTURE - HUMAN\n",
    "\n",
    "df_train_human.sample(n=5)\n"
   ]
  },
  {
   "cell_type": "code",
   "execution_count": 10,
   "metadata": {},
   "outputs": [
    {
     "data": {
      "text/html": [
       "<div>\n",
       "<style scoped>\n",
       "    .dataframe tbody tr th:only-of-type {\n",
       "        vertical-align: middle;\n",
       "    }\n",
       "\n",
       "    .dataframe tbody tr th {\n",
       "        vertical-align: top;\n",
       "    }\n",
       "\n",
       "    .dataframe thead th {\n",
       "        text-align: right;\n",
       "    }\n",
       "</style>\n",
       "<table border=\"1\" class=\"dataframe\">\n",
       "  <thead>\n",
       "    <tr style=\"text-align: right;\">\n",
       "      <th></th>\n",
       "      <th>Title</th>\n",
       "      <th>Poem</th>\n",
       "      <th>Poet</th>\n",
       "      <th>Tags</th>\n",
       "    </tr>\n",
       "  </thead>\n",
       "  <tbody>\n",
       "    <tr>\n",
       "      <th>23</th>\n",
       "      <td>\\r\\r\\n                    Series of Pictures\\r...</td>\n",
       "      <td>\\r\\r\\n\\r\\r\\n</td>\n",
       "      <td>Joel Lipman</td>\n",
       "      <td>NaN</td>\n",
       "    </tr>\n",
       "    <tr>\n",
       "      <th>8</th>\n",
       "      <td>\\r\\r\\n                    \"That others praised...</td>\n",
       "      <td>\\r\\r\\n\\r\\r\\n</td>\n",
       "      <td>Stephen Dobyns</td>\n",
       "      <td>NaN</td>\n",
       "    </tr>\n",
       "    <tr>\n",
       "      <th>0</th>\n",
       "      <td>\\r\\r\\n                    Tinder and Flint\\r\\r...</td>\n",
       "      <td>\\r\\r\\n\\r\\r\\n</td>\n",
       "      <td>Lew R. Sarett</td>\n",
       "      <td>NaN</td>\n",
       "    </tr>\n",
       "    <tr>\n",
       "      <th>5</th>\n",
       "      <td>\\r\\r\\n                    KERN 2\\r\\r\\n        ...</td>\n",
       "      <td>\\r\\r\\n\\r\\r\\n</td>\n",
       "      <td>derek beaulieu</td>\n",
       "      <td>NaN</td>\n",
       "    </tr>\n",
       "    <tr>\n",
       "      <th>11</th>\n",
       "      <td>\\r\\r\\n                    So Ordered\\r\\r\\n    ...</td>\n",
       "      <td>\\r\\r\\n\\r\\r\\n</td>\n",
       "      <td>Merrill Moore</td>\n",
       "      <td>NaN</td>\n",
       "    </tr>\n",
       "    <tr>\n",
       "      <th>...</th>\n",
       "      <td>...</td>\n",
       "      <td>...</td>\n",
       "      <td>...</td>\n",
       "      <td>...</td>\n",
       "    </tr>\n",
       "    <tr>\n",
       "      <th>7</th>\n",
       "      <td>\\r\\r\\n                    \"By not believing in...</td>\n",
       "      <td>\\r\\r\\n\\r\\r\\n</td>\n",
       "      <td>Stephen Dobyns</td>\n",
       "      <td>NaN</td>\n",
       "    </tr>\n",
       "    <tr>\n",
       "      <th>0</th>\n",
       "      <td>\\r\\r\\n                    Poem on His Birthday...</td>\n",
       "      <td>\\r\\r\\n\\r\\r\\n</td>\n",
       "      <td>Dylan Thomas</td>\n",
       "      <td>NaN</td>\n",
       "    </tr>\n",
       "    <tr>\n",
       "      <th>119</th>\n",
       "      <td>\\r\\r\\n                    From “BalloonCloudBu...</td>\n",
       "      <td>\\r\\r\\n\\r\\r\\n</td>\n",
       "      <td>Mark Laliberte</td>\n",
       "      <td>NaN</td>\n",
       "    </tr>\n",
       "    <tr>\n",
       "      <th>2</th>\n",
       "      <td>\\r\\r\\n                    Color of Dreams\\r\\r\\...</td>\n",
       "      <td>\\r\\r\\n\\r\\r\\n</td>\n",
       "      <td>Witter Bynner</td>\n",
       "      <td>NaN</td>\n",
       "    </tr>\n",
       "    <tr>\n",
       "      <th>136</th>\n",
       "      <td>\\r\\r\\n                    Rose and Necklace\\r\\...</td>\n",
       "      <td>\\r\\r\\n\\r\\r\\n</td>\n",
       "      <td>Bianca Stone</td>\n",
       "      <td>Living,Time &amp; Brevity,Religion,The Spiritual</td>\n",
       "    </tr>\n",
       "  </tbody>\n",
       "</table>\n",
       "<p>79 rows × 4 columns</p>\n",
       "</div>"
      ],
      "text/plain": [
       "                                                 Title          Poem  \\\n",
       "23   \\r\\r\\n                    Series of Pictures\\r...  \\r\\r\\n\\r\\r\\n   \n",
       "8    \\r\\r\\n                    \"That others praised...  \\r\\r\\n\\r\\r\\n   \n",
       "0    \\r\\r\\n                    Tinder and Flint\\r\\r...  \\r\\r\\n\\r\\r\\n   \n",
       "5    \\r\\r\\n                    KERN 2\\r\\r\\n        ...  \\r\\r\\n\\r\\r\\n   \n",
       "11   \\r\\r\\n                    So Ordered\\r\\r\\n    ...  \\r\\r\\n\\r\\r\\n   \n",
       "..                                                 ...           ...   \n",
       "7    \\r\\r\\n                    \"By not believing in...  \\r\\r\\n\\r\\r\\n   \n",
       "0    \\r\\r\\n                    Poem on His Birthday...  \\r\\r\\n\\r\\r\\n   \n",
       "119  \\r\\r\\n                    From “BalloonCloudBu...  \\r\\r\\n\\r\\r\\n   \n",
       "2    \\r\\r\\n                    Color of Dreams\\r\\r\\...  \\r\\r\\n\\r\\r\\n   \n",
       "136  \\r\\r\\n                    Rose and Necklace\\r\\...  \\r\\r\\n\\r\\r\\n   \n",
       "\n",
       "               Poet                                          Tags  \n",
       "23      Joel Lipman                                           NaN  \n",
       "8    Stephen Dobyns                                           NaN  \n",
       "0     Lew R. Sarett                                           NaN  \n",
       "5    derek beaulieu                                           NaN  \n",
       "11    Merrill Moore                                           NaN  \n",
       "..              ...                                           ...  \n",
       "7    Stephen Dobyns                                           NaN  \n",
       "0      Dylan Thomas                                           NaN  \n",
       "119  Mark Laliberte                                           NaN  \n",
       "2     Witter Bynner                                           NaN  \n",
       "136    Bianca Stone  Living,Time & Brevity,Religion,The Spiritual  \n",
       "\n",
       "[79 rows x 4 columns]"
      ]
     },
     "execution_count": 10,
     "metadata": {},
     "output_type": "execute_result"
    }
   ],
   "source": [
    "df_train_human[df_train_human[\"Poem\"].str.len() < 10]"
   ]
  },
  {
   "cell_type": "code",
   "execution_count": 11,
   "metadata": {},
   "outputs": [
    {
     "name": "stdout",
     "output_type": "stream",
     "text": [
      "Missing values in GPT dataset :\n",
      "prompts      0\n",
      "responses    0\n",
      "dtype: int64\n",
      "\n",
      "\n",
      "Missing values in BARD dataset :\n",
      "prompts    0\n",
      "BARD       0\n",
      "dtype: int64\n",
      "\n",
      "\n",
      "Missing values in HUMAN dataset :\n",
      "Title      0\n",
      "Poem       0\n",
      "Poet       0\n",
      "Tags     849\n",
      "dtype: int64\n",
      "\n",
      "\n"
     ]
    }
   ],
   "source": [
    "### CHECK MISSING VALUES\n",
    "\n",
    "for df, name in zip(\n",
    "    [df_train_gpt, df_train_bard, df_train_human], [\"GPT\", \"BARD\", \"HUMAN\"]\n",
    "):\n",
    "    print(f\"Missing values in {name} dataset :\")\n",
    "    print(df.isna().sum())\n",
    "    print(\"\\n\")"
   ]
  },
  {
   "cell_type": "code",
   "execution_count": null,
   "metadata": {},
   "outputs": [
    {
     "name": "stdout",
     "output_type": "stream",
     "text": [
      "Empty text in GPT dataset :\n",
      "0\n",
      "\n",
      "\n",
      "Empty text in BARD dataset :\n",
      "0\n",
      "\n",
      "\n",
      "Empty text in HUMAN dataset :\n",
      "0\n",
      "\n",
      "\n"
     ]
    }
   ],
   "source": [
    "### CHECK EMPTY TEXT\n",
    "\n",
    "for df, name in zip(\n",
    "    [df_train_gpt, df_train_bard, df_train_human], [\"GPT\", \"BARD\", \"HUMAN\"]\n",
    "):\n",
    "    print(f\"Empty text in {name} dataset :\")\n",
    "    if name == \"BARD\":\n",
    "        print(len(df[df[\"BARD\"] == \"\"]))\n",
    "    elif name == \"GPT\":\n",
    "        print(len(df[df[\"responses\"] == \"\"]))\n",
    "    elif name == \"HUMAN\":\n",
    "        print(len(df[df[\"Poem\"] == \"\\r\\r\\n\"]))\n",
    "    print(\"\\n\")\n"
   ]
  },
  {
   "cell_type": "code",
   "execution_count": null,
   "metadata": {},
   "outputs": [
    {
     "name": "stdout",
     "output_type": "stream",
     "text": [
      "Duplicate rows in GPT dataset :\n",
      "0\n",
      "\n",
      "\n",
      "Duplicate rows in BARD dataset :\n",
      "2\n",
      "\n",
      "\n",
      "Duplicate rows in HUMAN dataset :\n",
      "7\n",
      "\n",
      "\n"
     ]
    }
   ],
   "source": [
    "### CHECK DUPLICATES\n",
    "\n",
    "for df, name in zip(\n",
    "    [df_train_gpt, df_train_bard, df_train_human], [\"GPT\", \"BARD\", \"HUMAN\"]\n",
    "):\n",
    "    print(f\"Duplicate rows in {name} dataset :\")\n",
    "    print(df.duplicated().sum())\n",
    "    print(\"\\n\")\n"
   ]
  },
  {
   "cell_type": "markdown",
   "metadata": {},
   "source": [
    "## **CLEAN DATA**"
   ]
  },
  {
   "cell_type": "code",
   "execution_count": null,
   "metadata": {},
   "outputs": [],
   "source": [
    "### CLEAN AND CONCATENATE DATASETS\n",
    "\n",
    "df_train = preprocessing.get_poetry_dataset(df_train_gpt, df_train_bard, df_train_human)\n"
   ]
  },
  {
   "cell_type": "code",
   "execution_count": null,
   "metadata": {},
   "outputs": [
    {
     "data": {
      "text/html": [
       "<div>\n",
       "<style scoped>\n",
       "    .dataframe tbody tr th:only-of-type {\n",
       "        vertical-align: middle;\n",
       "    }\n",
       "\n",
       "    .dataframe tbody tr th {\n",
       "        vertical-align: top;\n",
       "    }\n",
       "\n",
       "    .dataframe thead th {\n",
       "        text-align: right;\n",
       "    }\n",
       "</style>\n",
       "<table border=\"1\" class=\"dataframe\">\n",
       "  <thead>\n",
       "    <tr style=\"text-align: right;\">\n",
       "      <th></th>\n",
       "      <th>text</th>\n",
       "      <th>abstract</th>\n",
       "      <th>label</th>\n",
       "    </tr>\n",
       "  </thead>\n",
       "  <tbody>\n",
       "    <tr>\n",
       "      <th>4842</th>\n",
       "      <td>1. Josef Mengele Drowns While Swimming at a Be...</td>\n",
       "      <td>\\r\\r\\n                    What We Know of Deat...</td>\n",
       "      <td>0</td>\n",
       "    </tr>\n",
       "    <tr>\n",
       "      <th>1727</th>\n",
       "      <td>The first morning of Three Mile Island: those ...</td>\n",
       "      <td>\\r\\r\\n                    Tar\\r\\r\\n           ...</td>\n",
       "      <td>0</td>\n",
       "    </tr>\n",
       "    <tr>\n",
       "      <th>5193</th>\n",
       "      <td>I got a letter from the government.It said let...</td>\n",
       "      <td>\\r\\r\\n                    Sweet Virginia\\r\\r\\n...</td>\n",
       "      <td>0</td>\n",
       "    </tr>\n",
       "    <tr>\n",
       "      <th>5190</th>\n",
       "      <td>There was an Old Man with a beard, Who said, \"...</td>\n",
       "      <td>\\r\\r\\n                    There was an Old Man...</td>\n",
       "      <td>0</td>\n",
       "    </tr>\n",
       "    <tr>\n",
       "      <th>3403</th>\n",
       "      <td>Live jazz at El Fresco is one guy, electric pl...</td>\n",
       "      <td>\\r\\r\\n                    Saint Patrick’s Agai...</td>\n",
       "      <td>0</td>\n",
       "    </tr>\n",
       "    <tr>\n",
       "      <th>8437</th>\n",
       "      <td>The laughing gull that flew behind the fencepo...</td>\n",
       "      <td>\\r\\r\\n                    The Totality of Fact...</td>\n",
       "      <td>0</td>\n",
       "    </tr>\n",
       "    <tr>\n",
       "      <th>7014</th>\n",
       "      <td>I. “If the Night Could Get Up &amp; Walk”         ...</td>\n",
       "      <td>\\r\\r\\n                    Two Pastorals for Sa...</td>\n",
       "      <td>0</td>\n",
       "    </tr>\n",
       "    <tr>\n",
       "      <th>3643</th>\n",
       "      <td>Look deep into the blueberry eyes of  breakfast.</td>\n",
       "      <td>\\r\\r\\n                    Still Life #1\\r\\r\\n ...</td>\n",
       "      <td>0</td>\n",
       "    </tr>\n",
       "    <tr>\n",
       "      <th>2869</th>\n",
       "      <td>Late in November, on a single night Not even n...</td>\n",
       "      <td>\\r\\r\\n                    The Consent\\r\\r\\n   ...</td>\n",
       "      <td>0</td>\n",
       "    </tr>\n",
       "    <tr>\n",
       "      <th>11840</th>\n",
       "      <td>The Dying Words of Goethe    “Light! more ligh...</td>\n",
       "      <td>\\r\\r\\n                    Let the Light Enter\\...</td>\n",
       "      <td>0</td>\n",
       "    </tr>\n",
       "  </tbody>\n",
       "</table>\n",
       "</div>"
      ],
      "text/plain": [
       "                                                    text  \\\n",
       "4842   1. Josef Mengele Drowns While Swimming at a Be...   \n",
       "1727   The first morning of Three Mile Island: those ...   \n",
       "5193   I got a letter from the government.It said let...   \n",
       "5190   There was an Old Man with a beard, Who said, \"...   \n",
       "3403   Live jazz at El Fresco is one guy, electric pl...   \n",
       "8437   The laughing gull that flew behind the fencepo...   \n",
       "7014   I. “If the Night Could Get Up & Walk”         ...   \n",
       "3643    Look deep into the blueberry eyes of  breakfast.   \n",
       "2869   Late in November, on a single night Not even n...   \n",
       "11840  The Dying Words of Goethe    “Light! more ligh...   \n",
       "\n",
       "                                                abstract  label  \n",
       "4842   \\r\\r\\n                    What We Know of Deat...      0  \n",
       "1727   \\r\\r\\n                    Tar\\r\\r\\n           ...      0  \n",
       "5193   \\r\\r\\n                    Sweet Virginia\\r\\r\\n...      0  \n",
       "5190   \\r\\r\\n                    There was an Old Man...      0  \n",
       "3403   \\r\\r\\n                    Saint Patrick’s Agai...      0  \n",
       "8437   \\r\\r\\n                    The Totality of Fact...      0  \n",
       "7014   \\r\\r\\n                    Two Pastorals for Sa...      0  \n",
       "3643   \\r\\r\\n                    Still Life #1\\r\\r\\n ...      0  \n",
       "2869   \\r\\r\\n                    The Consent\\r\\r\\n   ...      0  \n",
       "11840  \\r\\r\\n                    Let the Light Enter\\...      0  "
      ]
     },
     "execution_count": 16,
     "metadata": {},
     "output_type": "execute_result"
    }
   ],
   "source": [
    "### CHECK\n",
    "\n",
    "df_train.sample(10)\n"
   ]
  },
  {
   "cell_type": "code",
   "execution_count": null,
   "metadata": {},
   "outputs": [
    {
     "data": {
      "text/html": [
       "<div>\n",
       "<style scoped>\n",
       "    .dataframe tbody tr th:only-of-type {\n",
       "        vertical-align: middle;\n",
       "    }\n",
       "\n",
       "    .dataframe tbody tr th {\n",
       "        vertical-align: top;\n",
       "    }\n",
       "\n",
       "    .dataframe thead th {\n",
       "        text-align: right;\n",
       "    }\n",
       "</style>\n",
       "<table border=\"1\" class=\"dataframe\">\n",
       "  <thead>\n",
       "    <tr style=\"text-align: right;\">\n",
       "      <th></th>\n",
       "      <th>text</th>\n",
       "      <th>abstract</th>\n",
       "      <th>label</th>\n",
       "    </tr>\n",
       "  </thead>\n",
       "  <tbody>\n",
       "  </tbody>\n",
       "</table>\n",
       "</div>"
      ],
      "text/plain": [
       "Empty DataFrame\n",
       "Columns: [text, abstract, label]\n",
       "Index: []"
      ]
     },
     "execution_count": 17,
     "metadata": {},
     "output_type": "execute_result"
    }
   ],
   "source": [
    "### CHECK EMPTY TEXTS\n",
    "\n",
    "df_train[df_train[\"text\"] == \"\"]\n"
   ]
  },
  {
   "cell_type": "code",
   "execution_count": 21,
   "metadata": {},
   "outputs": [
    {
     "data": {
      "text/plain": [
       "label\n",
       "0    12368\n",
       "1      225\n",
       "2      223\n",
       "Name: count, dtype: int64"
      ]
     },
     "execution_count": 21,
     "metadata": {},
     "output_type": "execute_result"
    }
   ],
   "source": [
    "### CHECK SPLIT\n",
    "\n",
    "df_train[names.LABEL].value_counts()\n"
   ]
  },
  {
   "cell_type": "markdown",
   "metadata": {},
   "source": [
    "## **PLOTS**"
   ]
  },
  {
   "cell_type": "code",
   "execution_count": 18,
   "metadata": {},
   "outputs": [
    {
     "data": {
      "image/png": "[encoded data removed]",
      "text/plain": [
       "<Figure size 1200x600 with 3 Axes>"
      ]
     },
     "metadata": {},
     "output_type": "display_data"
    }
   ],
   "source": [
    "### PLOT ABSTRACT LENGTH DISTRIBUTION (CHARACTERS)\n",
    "\n",
    "sentence_lengths_chars = np.array(df_train[names.TEXT].str.len())\n",
    "visualization.plot_histogram_sentence_length(\n",
    "    sentence_lengths=sentence_lengths_chars,\n",
    "    labels=df_train[names.LABEL],\n",
    "    type=\"characters\",\n",
    ")"
   ]
  },
  {
   "cell_type": "code",
   "execution_count": 19,
   "metadata": {},
   "outputs": [
    {
     "data": {
      "image/png": "[encoded data removed]",
      "text/plain": [
       "<Figure size 1200x600 with 3 Axes>"
      ]
     },
     "metadata": {},
     "output_type": "display_data"
    }
   ],
   "source": [
    "### PLOT ABSTRACT LENGTH DISTRIBUTION (WORDS)\n",
    "\n",
    "sentence_lengths_words = np.array(df_train[names.TEXT].str.split().str.len())\n",
    "visualization.plot_histogram_sentence_length(\n",
    "    sentence_lengths=sentence_lengths_words, labels=df_train[names.LABEL], type=\"words\"\n",
    ")"
   ]
  },
  {
   "cell_type": "code",
   "execution_count": null,
   "metadata": {},
   "outputs": [
    {
     "data": {
      "application/vnd.jupyter.widget-view+json": {
       "model_id": "9072d2dee5054adbb7cbc510fd7a22ae",
       "version_major": 2,
       "version_minor": 0
      },
      "text/plain": [
       "interactive(children=(IntSlider(value=0, description='ID', max=12815), Output()), _dom_classes=('widget-intera…"
      ]
     },
     "metadata": {},
     "output_type": "display_data"
    }
   ],
   "source": [
    "### PLOT WORDCLOUD FOR EACH TEXT\n",
    "\n",
    "texts = df_train[names.TEXT].to_numpy()\n",
    "labels = df_train[names.LABEL].to_numpy()\n",
    "\n",
    "visualization.plot_wordcloud_slider(texts=texts, labels=labels)\n"
   ]
  }
 ],
 "metadata": {
  "kernelspec": {
   "display_name": "py310-all",
   "language": "python",
   "name": "python3"
  },
  "language_info": {
   "codemirror_mode": {
    "name": "ipython",
    "version": 3
   },
   "file_extension": ".py",
   "mimetype": "text/x-python",
   "name": "python",
   "nbconvert_exporter": "python",
   "pygments_lexer": "ipython3",
   "version": "3.10.0"
  }
 },
 "nbformat": 4,
 "nbformat_minor": 2
}
