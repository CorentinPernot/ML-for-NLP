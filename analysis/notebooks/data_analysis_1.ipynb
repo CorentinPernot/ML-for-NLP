{
 "cells": [
  {
   "cell_type": "markdown",
   "metadata": {},
   "source": [
    "# **Analysis of the data**"
   ]
  },
  {
   "cell_type": "markdown",
   "metadata": {},
   "source": [
    "## **Preliminary steps**"
   ]
  },
  {
   "cell_type": "code",
   "execution_count": 1,
   "metadata": {},
   "outputs": [],
   "source": [
    "### PACKAGES\n",
    "\n",
    "import pandas as pd\n",
    "import numpy as np"
   ]
  },
  {
   "cell_type": "code",
   "execution_count": 2,
   "metadata": {},
   "outputs": [],
   "source": [
    "### FUNCTIONS\n",
    "\n",
    "from src.libs import preprocessing, visualization\n",
    "\n",
    "from src.configs import names"
   ]
  },
  {
   "cell_type": "code",
   "execution_count": 3,
   "metadata": {},
   "outputs": [],
   "source": [
    "pd.set_option(\"display.max_columns\", None)"
   ]
  },
  {
   "cell_type": "markdown",
   "metadata": {},
   "source": [
    "## **RAW DATA**"
   ]
  },
  {
   "cell_type": "code",
   "execution_count": 4,
   "metadata": {},
   "outputs": [
    {
     "name": "stdout",
     "output_type": "stream",
     "text": [
      "Loading data from local\n",
      "Data loading done in 0.41 seconds\n"
     ]
    }
   ],
   "source": [
    "### LOAD DATA\n",
    "\n",
    "df_train, _ = preprocessing.load_data(local=True, type=\"train\")"
   ]
  },
  {
   "cell_type": "code",
   "execution_count": 5,
   "metadata": {},
   "outputs": [
    {
     "data": {
      "text/plain": [
       "(22930, 3)"
      ]
     },
     "execution_count": 5,
     "metadata": {},
     "output_type": "execute_result"
    }
   ],
   "source": [
    "### CHECK SHAPE\n",
    "\n",
    "df_train.shape"
   ]
  },
  {
   "cell_type": "code",
   "execution_count": 6,
   "metadata": {},
   "outputs": [
    {
     "data": {
      "text/html": [
       "<div>\n",
       "<style scoped>\n",
       "    .dataframe tbody tr th:only-of-type {\n",
       "        vertical-align: middle;\n",
       "    }\n",
       "\n",
       "    .dataframe tbody tr th {\n",
       "        vertical-align: top;\n",
       "    }\n",
       "\n",
       "    .dataframe thead th {\n",
       "        text-align: right;\n",
       "    }\n",
       "</style>\n",
       "<table border=\"1\" class=\"dataframe\">\n",
       "  <thead>\n",
       "    <tr style=\"text-align: right;\">\n",
       "      <th></th>\n",
       "      <th>title</th>\n",
       "      <th>abstract</th>\n",
       "      <th>label</th>\n",
       "    </tr>\n",
       "  </thead>\n",
       "  <tbody>\n",
       "    <tr>\n",
       "      <th>9018</th>\n",
       "      <td>Analysis of chikungunya virus proteins reveals...</td>\n",
       "      <td>RNAi pathway is an antiviral defence mechanism...</td>\n",
       "      <td>0</td>\n",
       "    </tr>\n",
       "    <tr>\n",
       "      <th>9996</th>\n",
       "      <td>Understanding Objectivity in Research Reported...</td>\n",
       "      <td>Based on a website search with the keyword “ob...</td>\n",
       "      <td>0</td>\n",
       "    </tr>\n",
       "    <tr>\n",
       "      <th>2701</th>\n",
       "      <td>Minds, brains, and hearts: an empirical study ...</td>\n",
       "      <td>\\n\\nThis article proposes the study of Minds, ...</td>\n",
       "      <td>1</td>\n",
       "    </tr>\n",
       "    <tr>\n",
       "      <th>17109</th>\n",
       "      <td>Outcomes of hematopoietic stem cell transplant...</td>\n",
       "      <td>\\n\\nThis paper presents an analysis of risk fa...</td>\n",
       "      <td>1</td>\n",
       "    </tr>\n",
       "    <tr>\n",
       "      <th>21068</th>\n",
       "      <td>Design principles of the ESCRT-III Vps24-Vps2 ...</td>\n",
       "      <td>ESCRT-III polymerization is required for all e...</td>\n",
       "      <td>0</td>\n",
       "    </tr>\n",
       "  </tbody>\n",
       "</table>\n",
       "</div>"
      ],
      "text/plain": [
       "                                                   title  \\\n",
       "9018   Analysis of chikungunya virus proteins reveals...   \n",
       "9996   Understanding Objectivity in Research Reported...   \n",
       "2701   Minds, brains, and hearts: an empirical study ...   \n",
       "17109  Outcomes of hematopoietic stem cell transplant...   \n",
       "21068  Design principles of the ESCRT-III Vps24-Vps2 ...   \n",
       "\n",
       "                                                abstract  label  \n",
       "9018   RNAi pathway is an antiviral defence mechanism...      0  \n",
       "9996   Based on a website search with the keyword “ob...      0  \n",
       "2701   \\n\\nThis article proposes the study of Minds, ...      1  \n",
       "17109  \\n\\nThis paper presents an analysis of risk fa...      1  \n",
       "21068  ESCRT-III polymerization is required for all e...      0  "
      ]
     },
     "execution_count": 6,
     "metadata": {},
     "output_type": "execute_result"
    }
   ],
   "source": [
    "### CHECK STRUCTURE\n",
    "\n",
    "df_train.sample(n=5)"
   ]
  },
  {
   "cell_type": "code",
   "execution_count": 7,
   "metadata": {},
   "outputs": [
    {
     "data": {
      "text/plain": [
       "title       0\n",
       "abstract    0\n",
       "label       0\n",
       "dtype: int64"
      ]
     },
     "execution_count": 7,
     "metadata": {},
     "output_type": "execute_result"
    }
   ],
   "source": [
    "### CHECK MISSING VALUES\n",
    "\n",
    "df_train.isnull().sum()"
   ]
  },
  {
   "cell_type": "code",
   "execution_count": 8,
   "metadata": {},
   "outputs": [
    {
     "data": {
      "text/plain": [
       "0"
      ]
     },
     "execution_count": 8,
     "metadata": {},
     "output_type": "execute_result"
    }
   ],
   "source": [
    "### CHECK DUPLICATES\n",
    "\n",
    "int(df_train.duplicated().sum())"
   ]
  },
  {
   "cell_type": "code",
   "execution_count": 9,
   "metadata": {},
   "outputs": [
    {
     "data": {
      "text/plain": [
       "title       object\n",
       "abstract    object\n",
       "label        int64\n",
       "dtype: object"
      ]
     },
     "execution_count": 9,
     "metadata": {},
     "output_type": "execute_result"
    }
   ],
   "source": [
    "### CHECK DATA TYPES\n",
    "\n",
    "df_train.dtypes"
   ]
  },
  {
   "cell_type": "code",
   "execution_count": 10,
   "metadata": {},
   "outputs": [
    {
     "data": {
      "text/plain": [
       "label\n",
       "1    11465\n",
       "0    11465\n",
       "Name: count, dtype: int64"
      ]
     },
     "execution_count": 10,
     "metadata": {},
     "output_type": "execute_result"
    }
   ],
   "source": [
    "### CHECK REPARTITION OF TARGET VARIABLE\n",
    "\n",
    "df_train[names.LABEL].value_counts()"
   ]
  },
  {
   "cell_type": "code",
   "execution_count": 11,
   "metadata": {},
   "outputs": [
    {
     "data": {
      "text/plain": [
       "'BACKGROUND: Hepatic complications of hepatitis C virus (HCV), including fibrosis and cirrhosis are accelerated in human immunodeficiency virus (HIV)-infected individuals. Although, liver biopsy remains the gold standard for staging HCV-associated liver disease, this test can result in serious complications and is subject to sampling errors. These challenges have prompted a search for non-invasive methods for liver fibrosis staging. To this end, we compared serum proteome profiles at different stages of fibrosis in HIV/HCV co- and HCV mono-infected patients using surface-enhanced laser desorption ionization time-of-flight mass spectrometry (SELDI-TOF MS). METHODS: Sera from 83 HIV/HCV co- and 68 HCV mono-infected subjects in 4 stages of fibrosis were tested. Sera were fractionated, randomly applied to protein chip arrays (IMAC, CM10 and H50) and spectra were generated at low and high laser intensities. RESULTS: Sixteen biomarkers achieved a p value < 0.01 (ROC values > 0.75 or < 0.25) predictive of fibrosis status in co-infected individuals and 14 in mono infected subjects. Five of these candidate biomarkers contributed to both mono- and co-infected subjects. Candidate diagnostic algorithms were created to distinguish between non-fibrotic and fibrotic individuals using a panel of 4 biomarker peaks. CONCLUSION: These data suggest that SELDI MS profiling can identify diagnostic serum biomarkers for fibrosis that are both common and distinct in HIV/HCV co-infected and HCV mono-infected individuals.'"
      ]
     },
     "execution_count": 11,
     "metadata": {},
     "output_type": "execute_result"
    }
   ],
   "source": [
    "### CHECK RANDOM TITLE\n",
    "\n",
    "df_train[names.ABSTRACT][np.random.randint(0, len(df_train))]"
   ]
  },
  {
   "cell_type": "code",
   "execution_count": 12,
   "metadata": {},
   "outputs": [
    {
     "data": {
      "text/plain": [
       "'\\n\\nThis study aims to explore the association between human herpes virus (HHV) co-infection mortality and HIV negative patients with Pneumocystis jirovecii pneumonia (PJP). In an era of increased globalization, multi-drug resistant infections and complex forms of infective diseases, it is crucial to understand the importance of studying this complicated area. AIDS led by PJP has been a woldwide threat and continues to spread among immunosuppressed individuals. Understanding the risk factors associated with these types of infection is key in making informed treatments decisions for those living with them or at risk of developing one. The current article discusses a retrospective cohort using medical coding data from 2013 through 2016, drawn from over 9000 cases from 5 provinces across China which looked into HHV co-infections as a potential determinant for higher mortality rates in HIV–seronegative patients infected with PJP. Our findings indicate that HHV co-infection may be positively correlated with lower survival amongst HIV–negative persons suffering from clinically suspeced or confirmed cases of Pneumocystis jirovecii pneumonia.'"
      ]
     },
     "execution_count": 12,
     "metadata": {},
     "output_type": "execute_result"
    }
   ],
   "source": [
    "### CHECK RANDOM TEXT\n",
    "\n",
    "df_train[names.ABSTRACT][np.random.randint(0, len(df_train))]"
   ]
  },
  {
   "cell_type": "code",
   "execution_count": 13,
   "metadata": {},
   "outputs": [
    {
     "data": {
      "text/plain": [
       "abstract\n",
       "0     11465\n",
       "2      9807\n",
       "4       715\n",
       "3       549\n",
       "6       230\n",
       "5        65\n",
       "8        57\n",
       "7        24\n",
       "10        8\n",
       "9         6\n",
       "11        2\n",
       "13        1\n",
       "12        1\n",
       "Name: count, dtype: int64"
      ]
     },
     "execution_count": 13,
     "metadata": {},
     "output_type": "execute_result"
    }
   ],
   "source": [
    "### CHECK NUMBER OF LINES WITH \"\\n\"\n",
    "\n",
    "df_train[names.ABSTRACT].str.count(\"\\n\").value_counts()"
   ]
  },
  {
   "cell_type": "markdown",
   "metadata": {},
   "source": [
    "## **CLEAN DATA**"
   ]
  },
  {
   "cell_type": "code",
   "execution_count": 14,
   "metadata": {},
   "outputs": [],
   "source": [
    "df_train_clean = preprocessing.clean_dataset_1(df=df_train)"
   ]
  },
  {
   "cell_type": "code",
   "execution_count": 15,
   "metadata": {},
   "outputs": [
    {
     "data": {
      "text/plain": [
       "text\n",
       "0    22930\n",
       "Name: count, dtype: int64"
      ]
     },
     "execution_count": 15,
     "metadata": {},
     "output_type": "execute_result"
    }
   ],
   "source": [
    "### CHECK NUMBER OF LINES WITH \"\\n\"\n",
    "\n",
    "df_train_clean[names.TEXT].str.count(\"\\n\").value_counts()\n"
   ]
  },
  {
   "cell_type": "markdown",
   "metadata": {},
   "source": [
    "## **PLOTS**"
   ]
  },
  {
   "cell_type": "code",
   "execution_count": 16,
   "metadata": {},
   "outputs": [
    {
     "data": {
      "image/png": "[encoded data removed]",
      "text/plain": [
       "<Figure size 1000x600 with 1 Axes>"
      ]
     },
     "metadata": {},
     "output_type": "display_data"
    }
   ],
   "source": [
    "### PLOT ABSTRACT LENGTH DISTRIBUTION (CHARACTERS)\n",
    "\n",
    "sentence_lengths_chars = np.array(df_train_clean[names.TEXT].str.len())\n",
    "visualization.plot_histogram_sentence_length(\n",
    "    sentence_lengths=sentence_lengths_chars, type=\"characters\"\n",
    ")"
   ]
  },
  {
   "cell_type": "code",
   "execution_count": 17,
   "metadata": {},
   "outputs": [
    {
     "data": {
      "image/png": "[encoded data removed]",
      "text/plain": [
       "<Figure size 1000x600 with 1 Axes>"
      ]
     },
     "metadata": {},
     "output_type": "display_data"
    }
   ],
   "source": [
    "### PLOT ABSTRACT LENGTH DISTRIBUTION (WORDS)\n",
    "\n",
    "sentence_lengths_words = np.array(df_train_clean[names.TEXT].str.split().str.len())\n",
    "visualization.plot_histogram_sentence_length(\n",
    "    sentence_lengths=sentence_lengths_words, type=\"words\"\n",
    ")"
   ]
  },
  {
   "cell_type": "code",
   "execution_count": 18,
   "metadata": {},
   "outputs": [
    {
     "data": {
      "application/vnd.jupyter.widget-view+json": {
       "model_id": "33cadd3cca64457d8aa0e7c770236ad1",
       "version_major": 2,
       "version_minor": 0
      },
      "text/plain": [
       "interactive(children=(IntSlider(value=0, description='ID', max=22929), Output()), _dom_classes=('widget-intera…"
      ]
     },
     "metadata": {},
     "output_type": "display_data"
    }
   ],
   "source": [
    "### PLOT WORDCLOUD FOR EACH TEXT\n",
    "\n",
    "texts = df_train_clean[names.TEXT].to_numpy()\n",
    "labels = df_train_clean[names.LABEL].to_numpy()\n",
    "\n",
    "visualization.plot_wordcloud_slider(texts=texts, labels=labels)\n"
   ]
  }
 ],
 "metadata": {
  "kernelspec": {
   "display_name": "py310-nlp",
   "language": "python",
   "name": "python3"
  },
  "language_info": {
   "codemirror_mode": {
    "name": "ipython",
    "version": 3
   },
   "file_extension": ".py",
   "mimetype": "text/x-python",
   "name": "python",
   "nbconvert_exporter": "python",
   "pygments_lexer": "ipython3",
   "version": "3.10.0"
  }
 },
 "nbformat": 4,
 "nbformat_minor": 2
}
